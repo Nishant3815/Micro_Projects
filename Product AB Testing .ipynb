{
 "cells": [
  {
   "cell_type": "markdown",
   "metadata": {},
   "source": [
    "# Import Packages"
   ]
  },
  {
   "cell_type": "code",
   "execution_count": 34,
   "metadata": {},
   "outputs": [],
   "source": [
    "# Import all the requisite packages \n",
    "import pandas as pd\n",
    "import numpy as np\n",
    "import matplotlib.pyplot as plt \n",
    "import seaborn as sns \n",
    "%matplotlib inline"
   ]
  },
  {
   "cell_type": "markdown",
   "metadata": {},
   "source": [
    "# Read Dataset"
   ]
  },
  {
   "cell_type": "code",
   "execution_count": 35,
   "metadata": {},
   "outputs": [],
   "source": [
    "# Load all the dataset \n",
    "uamn = pd.read_csv(\"t1_user_active_min.csv\")\n",
    "usv = pd.read_csv(\"t2_user_variant.csv\")\n",
    "uamp = pd.read_csv(\"t3_user_active_min_pre.csv\")\n",
    "uatt = pd.read_csv(\"t4_user_attributes.csv\")"
   ]
  },
  {
   "cell_type": "markdown",
   "metadata": {},
   "source": [
    "# Basic Explorations"
   ]
  },
  {
   "cell_type": "code",
   "execution_count": 36,
   "metadata": {},
   "outputs": [
    {
     "data": {
      "text/html": [
       "<div>\n",
       "<style scoped>\n",
       "    .dataframe tbody tr th:only-of-type {\n",
       "        vertical-align: middle;\n",
       "    }\n",
       "\n",
       "    .dataframe tbody tr th {\n",
       "        vertical-align: top;\n",
       "    }\n",
       "\n",
       "    .dataframe thead th {\n",
       "        text-align: right;\n",
       "    }\n",
       "</style>\n",
       "<table border=\"1\" class=\"dataframe\">\n",
       "  <thead>\n",
       "    <tr style=\"text-align: right;\">\n",
       "      <th></th>\n",
       "      <th>uid</th>\n",
       "      <th>dt</th>\n",
       "      <th>active_mins</th>\n",
       "    </tr>\n",
       "  </thead>\n",
       "  <tbody>\n",
       "    <tr>\n",
       "      <th>0</th>\n",
       "      <td>0</td>\n",
       "      <td>2019-02-22</td>\n",
       "      <td>5.0</td>\n",
       "    </tr>\n",
       "    <tr>\n",
       "      <th>1</th>\n",
       "      <td>0</td>\n",
       "      <td>2019-03-11</td>\n",
       "      <td>5.0</td>\n",
       "    </tr>\n",
       "    <tr>\n",
       "      <th>2</th>\n",
       "      <td>0</td>\n",
       "      <td>2019-03-18</td>\n",
       "      <td>3.0</td>\n",
       "    </tr>\n",
       "    <tr>\n",
       "      <th>3</th>\n",
       "      <td>0</td>\n",
       "      <td>2019-03-22</td>\n",
       "      <td>4.0</td>\n",
       "    </tr>\n",
       "    <tr>\n",
       "      <th>4</th>\n",
       "      <td>0</td>\n",
       "      <td>2019-04-03</td>\n",
       "      <td>9.0</td>\n",
       "    </tr>\n",
       "  </tbody>\n",
       "</table>\n",
       "</div>"
      ],
      "text/plain": [
       "   uid          dt  active_mins\n",
       "0    0  2019-02-22          5.0\n",
       "1    0  2019-03-11          5.0\n",
       "2    0  2019-03-18          3.0\n",
       "3    0  2019-03-22          4.0\n",
       "4    0  2019-04-03          9.0"
      ]
     },
     "execution_count": 36,
     "metadata": {},
     "output_type": "execute_result"
    }
   ],
   "source": [
    "# See the head to view contents of the dataset \n",
    "uamn.head()"
   ]
  },
  {
   "cell_type": "code",
   "execution_count": 98,
   "metadata": {},
   "outputs": [
    {
     "data": {
      "text/plain": [
       "('2019-02-06', '2019-07-05')"
      ]
     },
     "execution_count": 98,
     "metadata": {},
     "output_type": "execute_result"
    }
   ],
   "source": [
    "# Get min and max date\n",
    "uamn.dt.min(),uamn.dt.max()"
   ]
  },
  {
   "cell_type": "code",
   "execution_count": 38,
   "metadata": {},
   "outputs": [
    {
     "data": {
      "text/plain": [
       "46633"
      ]
     },
     "execution_count": 38,
     "metadata": {},
     "output_type": "execute_result"
    }
   ],
   "source": [
    "# Get count of unique user ids \n",
    "uamn.uid.nunique()"
   ]
  },
  {
   "cell_type": "code",
   "execution_count": 39,
   "metadata": {},
   "outputs": [
    {
     "data": {
      "text/html": [
       "<div>\n",
       "<style scoped>\n",
       "    .dataframe tbody tr th:only-of-type {\n",
       "        vertical-align: middle;\n",
       "    }\n",
       "\n",
       "    .dataframe tbody tr th {\n",
       "        vertical-align: top;\n",
       "    }\n",
       "\n",
       "    .dataframe thead th {\n",
       "        text-align: right;\n",
       "    }\n",
       "</style>\n",
       "<table border=\"1\" class=\"dataframe\">\n",
       "  <thead>\n",
       "    <tr style=\"text-align: right;\">\n",
       "      <th></th>\n",
       "      <th>uid</th>\n",
       "      <th>active_mins</th>\n",
       "    </tr>\n",
       "  </thead>\n",
       "  <tbody>\n",
       "    <tr>\n",
       "      <th>count</th>\n",
       "      <td>1.066402e+06</td>\n",
       "      <td>1.066402e+06</td>\n",
       "    </tr>\n",
       "    <tr>\n",
       "      <th>mean</th>\n",
       "      <td>2.422100e+04</td>\n",
       "      <td>3.616809e+01</td>\n",
       "    </tr>\n",
       "    <tr>\n",
       "      <th>std</th>\n",
       "      <td>1.417358e+04</td>\n",
       "      <td>1.270484e+03</td>\n",
       "    </tr>\n",
       "    <tr>\n",
       "      <th>min</th>\n",
       "      <td>0.000000e+00</td>\n",
       "      <td>1.000000e+00</td>\n",
       "    </tr>\n",
       "    <tr>\n",
       "      <th>25%</th>\n",
       "      <td>1.202000e+04</td>\n",
       "      <td>2.000000e+00</td>\n",
       "    </tr>\n",
       "    <tr>\n",
       "      <th>50%</th>\n",
       "      <td>2.394100e+04</td>\n",
       "      <td>5.000000e+00</td>\n",
       "    </tr>\n",
       "    <tr>\n",
       "      <th>75%</th>\n",
       "      <td>3.618100e+04</td>\n",
       "      <td>1.700000e+01</td>\n",
       "    </tr>\n",
       "    <tr>\n",
       "      <th>max</th>\n",
       "      <td>4.999900e+04</td>\n",
       "      <td>9.999900e+04</td>\n",
       "    </tr>\n",
       "  </tbody>\n",
       "</table>\n",
       "</div>"
      ],
      "text/plain": [
       "                uid   active_mins\n",
       "count  1.066402e+06  1.066402e+06\n",
       "mean   2.422100e+04  3.616809e+01\n",
       "std    1.417358e+04  1.270484e+03\n",
       "min    0.000000e+00  1.000000e+00\n",
       "25%    1.202000e+04  2.000000e+00\n",
       "50%    2.394100e+04  5.000000e+00\n",
       "75%    3.618100e+04  1.700000e+01\n",
       "max    4.999900e+04  9.999900e+04"
      ]
     },
     "execution_count": 39,
     "metadata": {},
     "output_type": "execute_result"
    }
   ],
   "source": [
    "uamn.describe()"
   ]
  },
  {
   "cell_type": "code",
   "execution_count": 40,
   "metadata": {},
   "outputs": [
    {
     "data": {
      "text/html": [
       "<div>\n",
       "<style scoped>\n",
       "    .dataframe tbody tr th:only-of-type {\n",
       "        vertical-align: middle;\n",
       "    }\n",
       "\n",
       "    .dataframe tbody tr th {\n",
       "        vertical-align: top;\n",
       "    }\n",
       "\n",
       "    .dataframe thead th {\n",
       "        text-align: right;\n",
       "    }\n",
       "</style>\n",
       "<table border=\"1\" class=\"dataframe\">\n",
       "  <thead>\n",
       "    <tr style=\"text-align: right;\">\n",
       "      <th></th>\n",
       "      <th>uid</th>\n",
       "      <th>variant_number</th>\n",
       "      <th>dt</th>\n",
       "      <th>signup_date</th>\n",
       "    </tr>\n",
       "  </thead>\n",
       "  <tbody>\n",
       "    <tr>\n",
       "      <th>0</th>\n",
       "      <td>0</td>\n",
       "      <td>0</td>\n",
       "      <td>2019-02-06</td>\n",
       "      <td>2018-09-24</td>\n",
       "    </tr>\n",
       "    <tr>\n",
       "      <th>1</th>\n",
       "      <td>1</td>\n",
       "      <td>0</td>\n",
       "      <td>2019-02-06</td>\n",
       "      <td>2016-11-07</td>\n",
       "    </tr>\n",
       "    <tr>\n",
       "      <th>2</th>\n",
       "      <td>2</td>\n",
       "      <td>0</td>\n",
       "      <td>2019-02-06</td>\n",
       "      <td>2018-09-17</td>\n",
       "    </tr>\n",
       "    <tr>\n",
       "      <th>3</th>\n",
       "      <td>3</td>\n",
       "      <td>0</td>\n",
       "      <td>2019-02-06</td>\n",
       "      <td>2018-03-04</td>\n",
       "    </tr>\n",
       "    <tr>\n",
       "      <th>4</th>\n",
       "      <td>4</td>\n",
       "      <td>0</td>\n",
       "      <td>2019-02-06</td>\n",
       "      <td>2017-03-09</td>\n",
       "    </tr>\n",
       "  </tbody>\n",
       "</table>\n",
       "</div>"
      ],
      "text/plain": [
       "   uid  variant_number          dt signup_date\n",
       "0    0               0  2019-02-06  2018-09-24\n",
       "1    1               0  2019-02-06  2016-11-07\n",
       "2    2               0  2019-02-06  2018-09-17\n",
       "3    3               0  2019-02-06  2018-03-04\n",
       "4    4               0  2019-02-06  2017-03-09"
      ]
     },
     "execution_count": 40,
     "metadata": {},
     "output_type": "execute_result"
    }
   ],
   "source": [
    "#See head of the dataset of the control group \n",
    "usv.head()"
   ]
  },
  {
   "cell_type": "code",
   "execution_count": 41,
   "metadata": {},
   "outputs": [
    {
     "data": {
      "text/plain": [
       "(50000, 46633)"
      ]
     },
     "execution_count": 41,
     "metadata": {},
     "output_type": "execute_result"
    }
   ],
   "source": [
    "# Get unique count of the user ids and intersection across two tables \n",
    "usv.uid.nunique(), len(set(usv.uid.unique()).intersection(set(uamn.uid.unique())))"
   ]
  },
  {
   "cell_type": "code",
   "execution_count": 71,
   "metadata": {},
   "outputs": [
    {
     "data": {
      "text/plain": [
       "0    40000\n",
       "1    10000\n",
       "Name: variant_number, dtype: int64"
      ]
     },
     "execution_count": 71,
     "metadata": {},
     "output_type": "execute_result"
    }
   ],
   "source": [
    "# Get control group counts \n",
    "usv['variant_number'].value_counts()"
   ]
  },
  {
   "cell_type": "code",
   "execution_count": 43,
   "metadata": {},
   "outputs": [
    {
     "data": {
      "text/html": [
       "<div>\n",
       "<style scoped>\n",
       "    .dataframe tbody tr th:only-of-type {\n",
       "        vertical-align: middle;\n",
       "    }\n",
       "\n",
       "    .dataframe tbody tr th {\n",
       "        vertical-align: top;\n",
       "    }\n",
       "\n",
       "    .dataframe thead th {\n",
       "        text-align: right;\n",
       "    }\n",
       "</style>\n",
       "<table border=\"1\" class=\"dataframe\">\n",
       "  <thead>\n",
       "    <tr style=\"text-align: right;\">\n",
       "      <th></th>\n",
       "      <th>uid</th>\n",
       "      <th>dt</th>\n",
       "      <th>active_mins</th>\n",
       "    </tr>\n",
       "  </thead>\n",
       "  <tbody>\n",
       "    <tr>\n",
       "      <th>0</th>\n",
       "      <td>0</td>\n",
       "      <td>2018-09-24</td>\n",
       "      <td>3.0</td>\n",
       "    </tr>\n",
       "    <tr>\n",
       "      <th>1</th>\n",
       "      <td>0</td>\n",
       "      <td>2018-11-08</td>\n",
       "      <td>4.0</td>\n",
       "    </tr>\n",
       "    <tr>\n",
       "      <th>2</th>\n",
       "      <td>0</td>\n",
       "      <td>2018-11-24</td>\n",
       "      <td>3.0</td>\n",
       "    </tr>\n",
       "    <tr>\n",
       "      <th>3</th>\n",
       "      <td>0</td>\n",
       "      <td>2018-11-28</td>\n",
       "      <td>6.0</td>\n",
       "    </tr>\n",
       "    <tr>\n",
       "      <th>4</th>\n",
       "      <td>0</td>\n",
       "      <td>2018-12-02</td>\n",
       "      <td>6.0</td>\n",
       "    </tr>\n",
       "  </tbody>\n",
       "</table>\n",
       "</div>"
      ],
      "text/plain": [
       "   uid          dt  active_mins\n",
       "0    0  2018-09-24          3.0\n",
       "1    0  2018-11-08          4.0\n",
       "2    0  2018-11-24          3.0\n",
       "3    0  2018-11-28          6.0\n",
       "4    0  2018-12-02          6.0"
      ]
     },
     "execution_count": 43,
     "metadata": {},
     "output_type": "execute_result"
    }
   ],
   "source": [
    "#See previous user history data \n",
    "uamp.head()"
   ]
  },
  {
   "cell_type": "code",
   "execution_count": 20,
   "metadata": {},
   "outputs": [
    {
     "data": {
      "text/plain": [
       "('2018-08-10', '2019-02-05')"
      ]
     },
     "execution_count": 20,
     "metadata": {},
     "output_type": "execute_result"
    }
   ],
   "source": [
    "# Min and Max date duration for previous user history data \n",
    "uamp.dt.min(),uamp.dt.max()"
   ]
  },
  {
   "cell_type": "code",
   "execution_count": 21,
   "metadata": {},
   "outputs": [
    {
     "data": {
      "text/html": [
       "<div>\n",
       "<style scoped>\n",
       "    .dataframe tbody tr th:only-of-type {\n",
       "        vertical-align: middle;\n",
       "    }\n",
       "\n",
       "    .dataframe tbody tr th {\n",
       "        vertical-align: top;\n",
       "    }\n",
       "\n",
       "    .dataframe thead th {\n",
       "        text-align: right;\n",
       "    }\n",
       "</style>\n",
       "<table border=\"1\" class=\"dataframe\">\n",
       "  <thead>\n",
       "    <tr style=\"text-align: right;\">\n",
       "      <th></th>\n",
       "      <th>uid</th>\n",
       "      <th>gender</th>\n",
       "      <th>user_type</th>\n",
       "    </tr>\n",
       "  </thead>\n",
       "  <tbody>\n",
       "    <tr>\n",
       "      <th>0</th>\n",
       "      <td>0</td>\n",
       "      <td>male</td>\n",
       "      <td>non_reader</td>\n",
       "    </tr>\n",
       "    <tr>\n",
       "      <th>1</th>\n",
       "      <td>1</td>\n",
       "      <td>male</td>\n",
       "      <td>reader</td>\n",
       "    </tr>\n",
       "    <tr>\n",
       "      <th>2</th>\n",
       "      <td>2</td>\n",
       "      <td>male</td>\n",
       "      <td>non_reader</td>\n",
       "    </tr>\n",
       "    <tr>\n",
       "      <th>3</th>\n",
       "      <td>3</td>\n",
       "      <td>male</td>\n",
       "      <td>non_reader</td>\n",
       "    </tr>\n",
       "    <tr>\n",
       "      <th>4</th>\n",
       "      <td>4</td>\n",
       "      <td>male</td>\n",
       "      <td>non_reader</td>\n",
       "    </tr>\n",
       "  </tbody>\n",
       "</table>\n",
       "</div>"
      ],
      "text/plain": [
       "   uid gender   user_type\n",
       "0    0   male  non_reader\n",
       "1    1   male      reader\n",
       "2    2   male  non_reader\n",
       "3    3   male  non_reader\n",
       "4    4   male  non_reader"
      ]
     },
     "execution_count": 21,
     "metadata": {},
     "output_type": "execute_result"
    }
   ],
   "source": [
    "# User profiling data\n",
    "uatt.head()"
   ]
  },
  {
   "cell_type": "code",
   "execution_count": 22,
   "metadata": {},
   "outputs": [
    {
     "data": {
      "text/plain": [
       "male       27757\n",
       "female     14477\n",
       "unknown     7766\n",
       "Name: gender, dtype: int64"
      ]
     },
     "execution_count": 22,
     "metadata": {},
     "output_type": "execute_result"
    }
   ],
   "source": [
    "# Distribution of gender \n",
    "uatt.gender.value_counts()"
   ]
  },
  {
   "cell_type": "code",
   "execution_count": 23,
   "metadata": {},
   "outputs": [
    {
     "data": {
      "text/plain": [
       "non_reader     36066\n",
       "reader          8002\n",
       "new_user        4888\n",
       "contributor     1044\n",
       "Name: user_type, dtype: int64"
      ]
     },
     "execution_count": 23,
     "metadata": {},
     "output_type": "execute_result"
    }
   ],
   "source": [
    "uatt.user_type.value_counts()"
   ]
  },
  {
   "cell_type": "markdown",
   "metadata": {},
   "source": [
    "# Outlier Removal"
   ]
  },
  {
   "cell_type": "code",
   "execution_count": 33,
   "metadata": {},
   "outputs": [
    {
     "name": "stdout",
     "output_type": "stream",
     "text": [
      "Rows as outliers:  172\n"
     ]
    }
   ],
   "source": [
    "# Identifying outliers\n",
    "# Step 1: Remove all people who have data entry errors \n",
    "# Step 2: Remove the outliers according to the outlier criterions\n",
    "max_min_daily  = 24*60\n",
    "print(\"Rows as outliers: \",uamn[uamn['active_mins']>=max_min_daily].shape[0])\n",
    "uamn_rem_out = uamn[uamn['active_mins']<=max_min_daily].reset_index(drop=True)"
   ]
  },
  {
   "cell_type": "code",
   "execution_count": 46,
   "metadata": {},
   "outputs": [
    {
     "data": {
      "text/plain": [
       "count    1.066230e+06\n",
       "mean     2.004248e+01\n",
       "std      4.653763e+01\n",
       "min      1.000000e+00\n",
       "25%      2.000000e+00\n",
       "50%      5.000000e+00\n",
       "75%      1.700000e+01\n",
       "max      8.970000e+02\n",
       "Name: active_mins, dtype: float64"
      ]
     },
     "execution_count": 46,
     "metadata": {},
     "output_type": "execute_result"
    }
   ],
   "source": [
    "uamn_rem_out['active_mins'].describe()"
   ]
  },
  {
   "cell_type": "code",
   "execution_count": 45,
   "metadata": {},
   "outputs": [
    {
     "name": "stderr",
     "output_type": "stream",
     "text": [
      "C:\\Users\\nishant\\anaconda3\\lib\\site-packages\\seaborn\\_decorators.py:36: FutureWarning: Pass the following variable as a keyword arg: x. From version 0.12, the only valid positional argument will be `data`, and passing other arguments without an explicit keyword will result in an error or misinterpretation.\n",
      "  warnings.warn(\n"
     ]
    },
    {
     "data": {
      "text/plain": [
       "<AxesSubplot:xlabel='active_mins'>"
      ]
     },
     "execution_count": 45,
     "metadata": {},
     "output_type": "execute_result"
    },
    {
     "data": {
      "image/png": "[encoded data removed]",
      "text/plain": [
       "<Figure size 432x288 with 1 Axes>"
      ]
     },
     "metadata": {
      "needs_background": "light"
     },
     "output_type": "display_data"
    }
   ],
   "source": [
    "# Also, there is little possibility that the user is glued to Quora for 24 hours of the entire day, so we use standard technique of outlier removal \n",
    "# Removing using 1.5*IQR rule \n",
    "sns.boxplot(uamn_rem_out['active_mins'])"
   ]
  },
  {
   "cell_type": "code",
   "execution_count": 50,
   "metadata": {},
   "outputs": [],
   "source": [
    "#Get Q1 and Q3 for IQR  \n",
    "q1 = uamn_rem_out['active_mins'].quantile(0.25)\n",
    "q3 = uamn_rem_out['active_mins'].quantile(0.75)"
   ]
  },
  {
   "cell_type": "code",
   "execution_count": 88,
   "metadata": {},
   "outputs": [
    {
     "name": "stdout",
     "output_type": "stream",
     "text": [
      "Users in lower strata: 0\n"
     ]
    },
    {
     "data": {
      "text/plain": [
       "((931953, 3), (1066402, 3))"
      ]
     },
     "execution_count": 88,
     "metadata": {},
     "output_type": "execute_result"
    }
   ],
   "source": [
    "# Get stats for lower quartile range \n",
    "# Remove the IQR based outliers\n",
    "print(\"Users in lower strata:\" , uamn_rem_out[uamn_rem_out['active_mins']<q1-1.5*(q3-q1)]['uid'].nunique())\n",
    "# Get stats for upto an upper quartile range\n",
    "uamn_rem_out[uamn_rem_out['active_mins']<=q3+1.5*(q3-q1)].shape\n",
    "# Filter the results to remove all possible outliers\n",
    "uamn_final = uamn_rem_out[uamn_rem_out['active_mins']<q3+1.5*(q3-q1)].reset_index(drop=True)\n",
    "uamn_final.shape,uamn.shape"
   ]
  },
  {
   "cell_type": "code",
   "execution_count": 89,
   "metadata": {},
   "outputs": [],
   "source": [
    "# Merge to extract the variant group in same table as t1\n",
    "activ_var = uamn_final.merge(usv,how='left',left_on='uid',right_on='uid')"
   ]
  },
  {
   "cell_type": "code",
   "execution_count": 90,
   "metadata": {},
   "outputs": [
    {
     "data": {
      "text/html": [
       "<div>\n",
       "<style scoped>\n",
       "    .dataframe tbody tr th:only-of-type {\n",
       "        vertical-align: middle;\n",
       "    }\n",
       "\n",
       "    .dataframe tbody tr th {\n",
       "        vertical-align: top;\n",
       "    }\n",
       "\n",
       "    .dataframe thead th {\n",
       "        text-align: right;\n",
       "    }\n",
       "</style>\n",
       "<table border=\"1\" class=\"dataframe\">\n",
       "  <thead>\n",
       "    <tr style=\"text-align: right;\">\n",
       "      <th></th>\n",
       "      <th>uid</th>\n",
       "      <th>dt_x</th>\n",
       "      <th>active_mins</th>\n",
       "      <th>variant_number</th>\n",
       "      <th>dt_y</th>\n",
       "      <th>signup_date</th>\n",
       "    </tr>\n",
       "  </thead>\n",
       "  <tbody>\n",
       "    <tr>\n",
       "      <th>0</th>\n",
       "      <td>0</td>\n",
       "      <td>2019-02-22</td>\n",
       "      <td>5.0</td>\n",
       "      <td>0</td>\n",
       "      <td>2019-02-06</td>\n",
       "      <td>2018-09-24</td>\n",
       "    </tr>\n",
       "    <tr>\n",
       "      <th>1</th>\n",
       "      <td>0</td>\n",
       "      <td>2019-03-11</td>\n",
       "      <td>5.0</td>\n",
       "      <td>0</td>\n",
       "      <td>2019-02-06</td>\n",
       "      <td>2018-09-24</td>\n",
       "    </tr>\n",
       "    <tr>\n",
       "      <th>2</th>\n",
       "      <td>0</td>\n",
       "      <td>2019-03-18</td>\n",
       "      <td>3.0</td>\n",
       "      <td>0</td>\n",
       "      <td>2019-02-06</td>\n",
       "      <td>2018-09-24</td>\n",
       "    </tr>\n",
       "    <tr>\n",
       "      <th>3</th>\n",
       "      <td>0</td>\n",
       "      <td>2019-03-22</td>\n",
       "      <td>4.0</td>\n",
       "      <td>0</td>\n",
       "      <td>2019-02-06</td>\n",
       "      <td>2018-09-24</td>\n",
       "    </tr>\n",
       "    <tr>\n",
       "      <th>4</th>\n",
       "      <td>0</td>\n",
       "      <td>2019-04-03</td>\n",
       "      <td>9.0</td>\n",
       "      <td>0</td>\n",
       "      <td>2019-02-06</td>\n",
       "      <td>2018-09-24</td>\n",
       "    </tr>\n",
       "  </tbody>\n",
       "</table>\n",
       "</div>"
      ],
      "text/plain": [
       "   uid        dt_x  active_mins  variant_number        dt_y signup_date\n",
       "0    0  2019-02-22          5.0               0  2019-02-06  2018-09-24\n",
       "1    0  2019-03-11          5.0               0  2019-02-06  2018-09-24\n",
       "2    0  2019-03-18          3.0               0  2019-02-06  2018-09-24\n",
       "3    0  2019-03-22          4.0               0  2019-02-06  2018-09-24\n",
       "4    0  2019-04-03          9.0               0  2019-02-06  2018-09-24"
      ]
     },
     "execution_count": 90,
     "metadata": {},
     "output_type": "execute_result"
    }
   ],
   "source": [
    "activ_var.head()"
   ]
  },
  {
   "cell_type": "code",
   "execution_count": 171,
   "metadata": {},
   "outputs": [
    {
     "data": {
      "text/plain": [
       "uid               0\n",
       "dt_x              0\n",
       "active_mins       0\n",
       "variant_number    0\n",
       "dt_y              0\n",
       "signup_date       0\n",
       "dtype: int64"
      ]
     },
     "execution_count": 171,
     "metadata": {},
     "output_type": "execute_result"
    }
   ],
   "source": [
    "# Check if there are any null values \n",
    "activ_var.isnull().sum()"
   ]
  },
  {
   "cell_type": "code",
   "execution_count": 161,
   "metadata": {},
   "outputs": [],
   "source": [
    "# Take mean at user level and control/uncontrolled variant level and create a DataFrame \n",
    "agg_activ = activ_var.groupby(['uid','variant_number'])['active_mins'].mean().reset_index()"
   ]
  },
  {
   "cell_type": "code",
   "execution_count": 162,
   "metadata": {},
   "outputs": [
    {
     "data": {
      "text/plain": [
       "0"
      ]
     },
     "execution_count": 162,
     "metadata": {},
     "output_type": "execute_result"
    }
   ],
   "source": [
    "# Check if all the users have some activity or not \n",
    "agg_activ[(agg_activ['active_mins']==0)&(agg_activ['variant_number']==1)]['uid'].nunique()"
   ]
  },
  {
   "cell_type": "code",
   "execution_count": 163,
   "metadata": {},
   "outputs": [],
   "source": [
    "# Install pingouin package for performing statistical tests for the two groups \n",
    "#!pip install pingouin --user"
   ]
  },
  {
   "cell_type": "markdown",
   "metadata": {},
   "source": [
    "# Check for Normal Assumption throgh figures for t-test"
   ]
  },
  {
   "cell_type": "code",
   "execution_count": 164,
   "metadata": {},
   "outputs": [],
   "source": [
    "import pingouin as pg"
   ]
  },
  {
   "cell_type": "code",
   "execution_count": 165,
   "metadata": {},
   "outputs": [],
   "source": [
    "# Seggregate data of the two control groups \n",
    "control_a = agg_activ[agg_activ['variant_number']==0].reset_index(drop=True)\n",
    "control_b = agg_activ[agg_activ['variant_number']==1].reset_index(drop=True)"
   ]
  },
  {
   "cell_type": "code",
   "execution_count": 166,
   "metadata": {},
   "outputs": [
    {
     "data": {
      "image/png": "[encoded data removed]",
      "text/plain": [
       "<Figure size 360x288 with 1 Axes>"
      ]
     },
     "metadata": {
      "needs_background": "light"
     },
     "output_type": "display_data"
    }
   ],
   "source": [
    "# Check if the distribution is close to normal or not (Q-Q plot should have R2 close to 1)\n",
    "ax = pg.qqplot(agg_activ['active_mins'], dist='norm')\n",
    "# Distribution below does seem to be close to normal roughly (R2 ~0.8)"
   ]
  },
  {
   "cell_type": "code",
   "execution_count": 167,
   "metadata": {},
   "outputs": [
    {
     "data": {
      "image/png": "[encoded data removed]",
      "text/plain": [
       "<Figure size 360x288 with 1 Axes>"
      ]
     },
     "metadata": {
      "needs_background": "light"
     },
     "output_type": "display_data"
    }
   ],
   "source": [
    "ax = pg.qqplot(control_a['active_mins'], dist='norm')"
   ]
  },
  {
   "cell_type": "code",
   "execution_count": 168,
   "metadata": {},
   "outputs": [
    {
     "data": {
      "image/png": "[encoded data removed]",
      "text/plain": [
       "<Figure size 360x288 with 1 Axes>"
      ]
     },
     "metadata": {
      "needs_background": "light"
     },
     "output_type": "display_data"
    }
   ],
   "source": [
    "ax = pg.qqplot(control_b['active_mins'], dist='norm')"
   ]
  },
  {
   "cell_type": "code",
   "execution_count": 169,
   "metadata": {},
   "outputs": [
    {
     "data": {
      "text/plain": [
       "37408"
      ]
     },
     "execution_count": 169,
     "metadata": {},
     "output_type": "execute_result"
    }
   ],
   "source": [
    "control_a['uid'].count()"
   ]
  },
  {
   "cell_type": "markdown",
   "metadata": {},
   "source": [
    "# T-Test Calculation Code and Method"
   ]
  },
  {
   "cell_type": "code",
   "execution_count": 177,
   "metadata": {},
   "outputs": [],
   "source": [
    "# Formula for calculating the df and t-statistics \n",
    "# Link: https://trendingsideways.com/the-p-value-formula-testing-your-hypothesis"
   ]
  },
  {
   "attachments": {
    "image.png": {
     "image/png": "[encoded data removed]"
    }
   },
   "cell_type": "markdown",
   "metadata": {},
   "source": [
    "![image.png](attachment:image.png)"
   ]
  },
  {
   "cell_type": "code",
   "execution_count": 180,
   "metadata": {},
   "outputs": [],
   "source": [
    "# We need a way to calculate 95% confidence interval for inferring the difference in average \n",
    "# Perform t-tests (this would be Welch test as mean and std dev across the two samples are quite different)\n",
    "import numpy as np\n",
    "from scipy.stats import ttest_ind\n",
    "from scipy.stats import t\n",
    "import pandas as pd\n",
    "# Levereged Code from https://stats.stackexchange.com/questions/475289/confidence-interval-for-2-sample-t-test-with-scipy\n",
    "def welch_ttest(x1, x2):\n",
    "    \n",
    "    n1 = x1.size\n",
    "    n2 = x2.size\n",
    "    m1 = np.mean(x1)\n",
    "    m2 = np.mean(x2)\n",
    "    \n",
    "    v1 = np.var(x1, ddof=1)\n",
    "    v2 = np.var(x2, ddof=1)\n",
    "    \n",
    "    pooled_se = np.sqrt(v1 / n1 + v2 / n2)\n",
    "    delta = m1-m2\n",
    "    \n",
    "    tstat = delta /  pooled_se\n",
    "    df = (v1 / n1 + v2 / n2)**2 / (v1**2 / (n1**2 * (n1 - 1)) + v2**2 / (n2**2 * (n2 - 1)))\n",
    "    \n",
    "    # two side t-test\n",
    "    p = 2 * t.cdf(-abs(tstat), df)\n",
    "    \n",
    "    # upper and lower bounds\n",
    "    lb = delta - t.ppf(0.975,df)*pooled_se \n",
    "    ub = delta + t.ppf(0.975,df)*pooled_se\n",
    "  \n",
    "    return pd.DataFrame(np.array([tstat,df,p,delta,lb,ub]).reshape(1,-1),\n",
    "                         columns=['T statistic','df','pvalue 2 sided','Difference in mean','lb','ub'])"
   ]
  },
  {
   "cell_type": "markdown",
   "metadata": {},
   "source": [
    "# Experiment for Present Time Period (Control and Experiment Group)"
   ]
  },
  {
   "cell_type": "code",
   "execution_count": 183,
   "metadata": {},
   "outputs": [
    {
     "data": {
      "text/html": [
       "<div>\n",
       "<style scoped>\n",
       "    .dataframe tbody tr th:only-of-type {\n",
       "        vertical-align: middle;\n",
       "    }\n",
       "\n",
       "    .dataframe tbody tr th {\n",
       "        vertical-align: top;\n",
       "    }\n",
       "\n",
       "    .dataframe thead th {\n",
       "        text-align: right;\n",
       "    }\n",
       "</style>\n",
       "<table border=\"1\" class=\"dataframe\">\n",
       "  <thead>\n",
       "    <tr style=\"text-align: right;\">\n",
       "      <th></th>\n",
       "      <th>T statistic</th>\n",
       "      <th>df</th>\n",
       "      <th>pvalue 2 sided</th>\n",
       "      <th>Difference in mean</th>\n",
       "      <th>lb</th>\n",
       "      <th>ub</th>\n",
       "    </tr>\n",
       "  </thead>\n",
       "  <tbody>\n",
       "    <tr>\n",
       "      <th>0</th>\n",
       "      <td>29.6781</td>\n",
       "      <td>14387.767137</td>\n",
       "      <td>6.407844e-188</td>\n",
       "      <td>1.549165</td>\n",
       "      <td>1.446849</td>\n",
       "      <td>1.651482</td>\n",
       "    </tr>\n",
       "  </tbody>\n",
       "</table>\n",
       "</div>"
      ],
      "text/plain": [
       "   T statistic            df  pvalue 2 sided  Difference in mean        lb  \\\n",
       "0      29.6781  14387.767137   6.407844e-188            1.549165  1.446849   \n",
       "\n",
       "         ub  \n",
       "0  1.651482  "
      ]
     },
     "execution_count": 183,
     "metadata": {},
     "output_type": "execute_result"
    }
   ],
   "source": [
    "# Perform Welch test\n",
    "welch_ttest(control_b['active_mins'],control_a['active_mins'])"
   ]
  },
  {
   "cell_type": "code",
   "execution_count": 184,
   "metadata": {},
   "outputs": [
    {
     "data": {
      "text/plain": [
       "Ttest_indResult(statistic=29.678099734105686, pvalue=6.407844074258002e-188)"
      ]
     },
     "execution_count": 184,
     "metadata": {},
     "output_type": "execute_result"
    }
   ],
   "source": [
    "# Perform t-tests (this would be Welch test as mean and std dev across the two samples are quite different)\n",
    "# Check the above p-value using the scipy implementation of the welch t-test\n",
    "import scipy \n",
    "scipy.stats.ttest_ind_from_stats(control_b['active_mins'].mean(),control_b['active_mins'].std(),control_b['uid'].count(),control_a['active_mins'].mean(),control_a['active_mins'].std(),control_a['uid'].count(),equal_var=False)"
   ]
  },
  {
   "cell_type": "code",
   "execution_count": null,
   "metadata": {},
   "outputs": [],
   "source": [
    "# Note that the above results indicate that the p-values are less than 0.05 and hence we can reject the null hypothesis "
   ]
  },
  {
   "cell_type": "code",
   "execution_count": 185,
   "metadata": {},
   "outputs": [
    {
     "name": "stderr",
     "output_type": "stream",
     "text": [
      "C:\\Users\\nishant\\anaconda3\\lib\\site-packages\\seaborn\\_decorators.py:36: FutureWarning: Pass the following variables as keyword args: x, y. From version 0.12, the only valid positional argument will be `data`, and passing other arguments without an explicit keyword will result in an error or misinterpretation.\n",
      "  warnings.warn(\n"
     ]
    },
    {
     "data": {
      "text/plain": [
       "<AxesSubplot:xlabel='variant_number', ylabel='active_mins'>"
      ]
     },
     "execution_count": 185,
     "metadata": {},
     "output_type": "execute_result"
    },
    {
     "data": {
      "image/png": "[encoded data removed]",
      "text/plain": [
       "<Figure size 432x288 with 1 Axes>"
      ]
     },
     "metadata": {
      "needs_background": "light"
     },
     "output_type": "display_data"
    }
   ],
   "source": [
    "sns.boxplot(agg_activ['variant_number'],agg_activ['active_mins'])"
   ]
  },
  {
   "cell_type": "code",
   "execution_count": 187,
   "metadata": {},
   "outputs": [],
   "source": [
    "# We deep dive into the analysis by comparing the user behavior changes historically \n",
    "# We now change the definition of our control group and treatment group. \n",
    "# The treatment group remains post-period timeline customers where \"variant_number=1\"\n",
    "# We assign the users in previous history a \"variant_number=0\""
   ]
  },
  {
   "cell_type": "code",
   "execution_count": 188,
   "metadata": {},
   "outputs": [
    {
     "data": {
      "text/html": [
       "<div>\n",
       "<style scoped>\n",
       "    .dataframe tbody tr th:only-of-type {\n",
       "        vertical-align: middle;\n",
       "    }\n",
       "\n",
       "    .dataframe tbody tr th {\n",
       "        vertical-align: top;\n",
       "    }\n",
       "\n",
       "    .dataframe thead th {\n",
       "        text-align: right;\n",
       "    }\n",
       "</style>\n",
       "<table border=\"1\" class=\"dataframe\">\n",
       "  <thead>\n",
       "    <tr style=\"text-align: right;\">\n",
       "      <th></th>\n",
       "      <th>uid</th>\n",
       "      <th>dt</th>\n",
       "      <th>active_mins</th>\n",
       "    </tr>\n",
       "  </thead>\n",
       "  <tbody>\n",
       "    <tr>\n",
       "      <th>0</th>\n",
       "      <td>0</td>\n",
       "      <td>2018-09-24</td>\n",
       "      <td>3.0</td>\n",
       "    </tr>\n",
       "    <tr>\n",
       "      <th>1</th>\n",
       "      <td>0</td>\n",
       "      <td>2018-11-08</td>\n",
       "      <td>4.0</td>\n",
       "    </tr>\n",
       "    <tr>\n",
       "      <th>2</th>\n",
       "      <td>0</td>\n",
       "      <td>2018-11-24</td>\n",
       "      <td>3.0</td>\n",
       "    </tr>\n",
       "    <tr>\n",
       "      <th>3</th>\n",
       "      <td>0</td>\n",
       "      <td>2018-11-28</td>\n",
       "      <td>6.0</td>\n",
       "    </tr>\n",
       "    <tr>\n",
       "      <th>4</th>\n",
       "      <td>0</td>\n",
       "      <td>2018-12-02</td>\n",
       "      <td>6.0</td>\n",
       "    </tr>\n",
       "  </tbody>\n",
       "</table>\n",
       "</div>"
      ],
      "text/plain": [
       "   uid          dt  active_mins\n",
       "0    0  2018-09-24          3.0\n",
       "1    0  2018-11-08          4.0\n",
       "2    0  2018-11-24          3.0\n",
       "3    0  2018-11-28          6.0\n",
       "4    0  2018-12-02          6.0"
      ]
     },
     "execution_count": 188,
     "metadata": {},
     "output_type": "execute_result"
    }
   ],
   "source": [
    "uamp.head()"
   ]
  },
  {
   "cell_type": "markdown",
   "metadata": {},
   "source": [
    "# Experiment Checks for Previous Time Period"
   ]
  },
  {
   "cell_type": "code",
   "execution_count": 196,
   "metadata": {},
   "outputs": [
    {
     "name": "stdout",
     "output_type": "stream",
     "text": [
      "Rows as outliers:  166\n",
      "Users in lower strata: 0\n"
     ]
    },
    {
     "data": {
      "text/plain": [
       "((1024286, 3), (1190093, 3))"
      ]
     },
     "execution_count": 196,
     "metadata": {},
     "output_type": "execute_result"
    }
   ],
   "source": [
    "# agg_uamp = uamp.groupby(['uid'])['active_mins'].sum().reset_index()\n",
    "# Remove the cases with outliers and greater than q3+1.5*IQR\n",
    "max_min_daily  = 24*60\n",
    "print(\"Rows as outliers: \",uamp[uamp['active_mins']>=max_min_daily].shape[0])\n",
    "uamp_rem_out = uamp[uamp['active_mins']<=max_min_daily].reset_index(drop=True)\n",
    "\n",
    "#Get Q1 and Q3 for IQR  \n",
    "q1 = uamp_rem_out['active_mins'].quantile(0.25)\n",
    "q3 = uamp_rem_out['active_mins'].quantile(0.75)\n",
    "\n",
    "# Get stats for lower quartile range \n",
    "# Remove the IQR based outliers\n",
    "print(\"Users in lower strata:\" , uamp_rem_out[uamp_rem_out['active_mins']<q1-1.5*(q3-q1)]['uid'].nunique())\n",
    "# Get stats for upto an upper quartile range\n",
    "uamp_rem_out[uamp_rem_out['active_mins']<=q3+1.5*(q3-q1)].shape\n",
    "# Filter the results to remove all possible outliers\n",
    "uamp_final = uamp_rem_out[uamp_rem_out['active_mins']<q3+1.5*(q3-q1)].reset_index(drop=True)\n",
    "uamp_final.shape,uamp.shape"
   ]
  },
  {
   "cell_type": "code",
   "execution_count": 208,
   "metadata": {},
   "outputs": [],
   "source": [
    "# Groupby across the time period to get the aggregate value of the active minutes \n",
    "agg_uamp = uamp_final.groupby(['uid'])['active_mins'].mean().reset_index()\n",
    "# Assign all the user ids in the previous history as having a \"0\" treatment group for comparison with \"1\" treatment group \n",
    "agg_uamp['variant_number']=0\n",
    "# # Subset for the same set of users \n",
    "# agg_uamp_final = agg_uamp[agg_uamp['uid'].isin(control_b['uid'].unique().tolist())].reset_index()"
   ]
  },
  {
   "cell_type": "markdown",
   "metadata": {},
   "source": [
    "### Test 2.1: Compare Experimental Group with Previous Control Group "
   ]
  },
  {
   "cell_type": "code",
   "execution_count": 209,
   "metadata": {},
   "outputs": [
    {
     "data": {
      "text/html": [
       "<div>\n",
       "<style scoped>\n",
       "    .dataframe tbody tr th:only-of-type {\n",
       "        vertical-align: middle;\n",
       "    }\n",
       "\n",
       "    .dataframe tbody tr th {\n",
       "        vertical-align: top;\n",
       "    }\n",
       "\n",
       "    .dataframe thead th {\n",
       "        text-align: right;\n",
       "    }\n",
       "</style>\n",
       "<table border=\"1\" class=\"dataframe\">\n",
       "  <thead>\n",
       "    <tr style=\"text-align: right;\">\n",
       "      <th></th>\n",
       "      <th>T statistic</th>\n",
       "      <th>df</th>\n",
       "      <th>pvalue 2 sided</th>\n",
       "      <th>Difference in mean</th>\n",
       "      <th>lb</th>\n",
       "      <th>ub</th>\n",
       "    </tr>\n",
       "  </thead>\n",
       "  <tbody>\n",
       "    <tr>\n",
       "      <th>0</th>\n",
       "      <td>38.828262</td>\n",
       "      <td>11506.991758</td>\n",
       "      <td>5.017540e-310</td>\n",
       "      <td>1.910005</td>\n",
       "      <td>1.813582</td>\n",
       "      <td>2.006428</td>\n",
       "    </tr>\n",
       "  </tbody>\n",
       "</table>\n",
       "</div>"
      ],
      "text/plain": [
       "   T statistic            df  pvalue 2 sided  Difference in mean        lb  \\\n",
       "0    38.828262  11506.991758   5.017540e-310            1.910005  1.813582   \n",
       "\n",
       "         ub  \n",
       "0  2.006428  "
      ]
     },
     "execution_count": 209,
     "metadata": {},
     "output_type": "execute_result"
    }
   ],
   "source": [
    "# Perform Welch test\n",
    "welch_ttest(control_b['active_mins'],agg_uamp['active_mins'])\n",
    "# This indicates that introduction of feature has played a significant effect over time"
   ]
  },
  {
   "cell_type": "markdown",
   "metadata": {},
   "source": [
    "### Test 2.2: Compare Present Control Group with Previous Control Group "
   ]
  },
  {
   "cell_type": "code",
   "execution_count": 215,
   "metadata": {},
   "outputs": [
    {
     "data": {
      "text/html": [
       "<div>\n",
       "<style scoped>\n",
       "    .dataframe tbody tr th:only-of-type {\n",
       "        vertical-align: middle;\n",
       "    }\n",
       "\n",
       "    .dataframe tbody tr th {\n",
       "        vertical-align: top;\n",
       "    }\n",
       "\n",
       "    .dataframe thead th {\n",
       "        text-align: right;\n",
       "    }\n",
       "</style>\n",
       "<table border=\"1\" class=\"dataframe\">\n",
       "  <thead>\n",
       "    <tr style=\"text-align: right;\">\n",
       "      <th></th>\n",
       "      <th>T statistic</th>\n",
       "      <th>df</th>\n",
       "      <th>pvalue 2 sided</th>\n",
       "      <th>Difference in mean</th>\n",
       "      <th>lb</th>\n",
       "      <th>ub</th>\n",
       "    </tr>\n",
       "  </thead>\n",
       "  <tbody>\n",
       "    <tr>\n",
       "      <th>0</th>\n",
       "      <td>12.571107</td>\n",
       "      <td>68755.518627</td>\n",
       "      <td>3.337039e-36</td>\n",
       "      <td>0.36084</td>\n",
       "      <td>0.30458</td>\n",
       "      <td>0.417099</td>\n",
       "    </tr>\n",
       "  </tbody>\n",
       "</table>\n",
       "</div>"
      ],
      "text/plain": [
       "   T statistic            df  pvalue 2 sided  Difference in mean       lb  \\\n",
       "0    12.571107  68755.518627    3.337039e-36             0.36084  0.30458   \n",
       "\n",
       "         ub  \n",
       "0  0.417099  "
      ]
     },
     "execution_count": 215,
     "metadata": {},
     "output_type": "execute_result"
    }
   ],
   "source": [
    "# Now we only need to check one final hypothesis, that the changes are not due to the time that has passed \n",
    "# and rather due to the new feature introduction. This can be done by performing a t-test over the \"0\" control group across \n",
    "# two time period \n",
    "welch_ttest(control_a['active_mins'],agg_uamp['active_mins'])"
   ]
  },
  {
   "cell_type": "code",
   "execution_count": 214,
   "metadata": {},
   "outputs": [],
   "source": [
    "# Ideally we would have been better if the p-value would have supported the null hypothesis and from above we see that \n",
    "# null hypothesis is rejected which means across the control group where changes were not introduced,\n",
    "# user interactivity has increased even without introduction of the change. So, it would be very difficult to \n",
    "# say conclusively if the change was truely due to the introduction of new feature or due to the time factor. \n",
    "# But since we see that the lb and ub values are lowered in comparison to prev experiment, effect of time is definitely lesser\n",
    "\n",
    "# But since both the factors, introduction of feature (comparison on present level across two groups) and time support \n",
    "# and lead to the increase in engagement, we can recommend to roll out new features"
   ]
  },
  {
   "cell_type": "code",
   "execution_count": 220,
   "metadata": {},
   "outputs": [],
   "source": [
    "# User interactivity across two time period for zero control group\n",
    "# Concat two DataFrames\n",
    "agg_uamp['time_period']='past'\n",
    "control_a['time_period']='present_test'\n",
    "past_present_data = pd.concat([control_a,agg_uamp],axis=0).reset_index(drop=True)"
   ]
  },
  {
   "cell_type": "code",
   "execution_count": 221,
   "metadata": {},
   "outputs": [
    {
     "name": "stderr",
     "output_type": "stream",
     "text": [
      "C:\\Users\\nishant\\anaconda3\\lib\\site-packages\\seaborn\\_decorators.py:36: FutureWarning: Pass the following variables as keyword args: x, y. From version 0.12, the only valid positional argument will be `data`, and passing other arguments without an explicit keyword will result in an error or misinterpretation.\n",
      "  warnings.warn(\n"
     ]
    },
    {
     "data": {
      "text/plain": [
       "<AxesSubplot:xlabel='time_period', ylabel='active_mins'>"
      ]
     },
     "execution_count": 221,
     "metadata": {},
     "output_type": "execute_result"
    },
    {
     "data": {
      "image/png": "[encoded data removed]",
      "text/plain": [
       "<Figure size 432x288 with 1 Axes>"
      ]
     },
     "metadata": {
      "needs_background": "light"
     },
     "output_type": "display_data"
    }
   ],
   "source": [
    "sns.boxplot(past_present_data['time_period'],past_present_data['active_mins'])"
   ]
  },
  {
   "cell_type": "code",
   "execution_count": 223,
   "metadata": {},
   "outputs": [
    {
     "data": {
      "text/plain": [
       "count    37408.000000\n",
       "mean         5.367573\n",
       "std          4.595056\n",
       "min          1.000000\n",
       "25%          2.444444\n",
       "50%          3.666667\n",
       "75%          6.384615\n",
       "max         38.000000\n",
       "Name: active_mins, dtype: float64"
      ]
     },
     "execution_count": 223,
     "metadata": {},
     "output_type": "execute_result"
    }
   ],
   "source": [
    "control_a['active_mins'].describe()"
   ]
  },
  {
   "cell_type": "code",
   "execution_count": 224,
   "metadata": {},
   "outputs": [
    {
     "data": {
      "text/plain": [
       "count    49643.000000\n",
       "mean         5.006734\n",
       "std          3.589021\n",
       "min          1.000000\n",
       "25%          2.600000\n",
       "50%          3.833333\n",
       "75%          6.165612\n",
       "max         31.000000\n",
       "Name: active_mins, dtype: float64"
      ]
     },
     "execution_count": 224,
     "metadata": {},
     "output_type": "execute_result"
    }
   ],
   "source": [
    "agg_uamp['active_mins'].describe()"
   ]
  },
  {
   "cell_type": "code",
   "execution_count": 225,
   "metadata": {},
   "outputs": [
    {
     "data": {
      "text/plain": [
       "count    9197.000000\n",
       "mean        6.916739\n",
       "std         4.457375\n",
       "min         1.000000\n",
       "25%         3.800000\n",
       "50%         5.750000\n",
       "75%         8.735294\n",
       "max        38.000000\n",
       "Name: active_mins, dtype: float64"
      ]
     },
     "execution_count": 225,
     "metadata": {},
     "output_type": "execute_result"
    }
   ],
   "source": [
    "control_b['active_mins'].describe()"
   ]
  },
  {
   "cell_type": "markdown",
   "metadata": {},
   "source": [
    "### Test 2.3: Compare (Control+Experimental Group of Present Data) with Previous Control Group "
   ]
  },
  {
   "cell_type": "code",
   "execution_count": 226,
   "metadata": {},
   "outputs": [
    {
     "data": {
      "text/html": [
       "<div>\n",
       "<style scoped>\n",
       "    .dataframe tbody tr th:only-of-type {\n",
       "        vertical-align: middle;\n",
       "    }\n",
       "\n",
       "    .dataframe tbody tr th {\n",
       "        vertical-align: top;\n",
       "    }\n",
       "\n",
       "    .dataframe thead th {\n",
       "        text-align: right;\n",
       "    }\n",
       "</style>\n",
       "<table border=\"1\" class=\"dataframe\">\n",
       "  <thead>\n",
       "    <tr style=\"text-align: right;\">\n",
       "      <th></th>\n",
       "      <th>T statistic</th>\n",
       "      <th>df</th>\n",
       "      <th>pvalue 2 sided</th>\n",
       "      <th>Difference in mean</th>\n",
       "      <th>lb</th>\n",
       "      <th>ub</th>\n",
       "    </tr>\n",
       "  </thead>\n",
       "  <tbody>\n",
       "    <tr>\n",
       "      <th>0</th>\n",
       "      <td>24.92067</td>\n",
       "      <td>87989.80583</td>\n",
       "      <td>1.326860e-136</td>\n",
       "      <td>0.666551</td>\n",
       "      <td>0.614127</td>\n",
       "      <td>0.718975</td>\n",
       "    </tr>\n",
       "  </tbody>\n",
       "</table>\n",
       "</div>"
      ],
      "text/plain": [
       "   T statistic           df  pvalue 2 sided  Difference in mean        lb  \\\n",
       "0     24.92067  87989.80583   1.326860e-136            0.666551  0.614127   \n",
       "\n",
       "         ub  \n",
       "0  0.718975  "
      ]
     },
     "execution_count": 226,
     "metadata": {},
     "output_type": "execute_result"
    }
   ],
   "source": [
    "# Changes on overall data\n",
    "welch_ttest(agg_activ['active_mins'],agg_uamp['active_mins'])"
   ]
  },
  {
   "cell_type": "code",
   "execution_count": 227,
   "metadata": {},
   "outputs": [],
   "source": [
    "# Let's analyse the impact of other covariates "
   ]
  },
  {
   "cell_type": "code",
   "execution_count": 228,
   "metadata": {},
   "outputs": [
    {
     "data": {
      "text/html": [
       "<div>\n",
       "<style scoped>\n",
       "    .dataframe tbody tr th:only-of-type {\n",
       "        vertical-align: middle;\n",
       "    }\n",
       "\n",
       "    .dataframe tbody tr th {\n",
       "        vertical-align: top;\n",
       "    }\n",
       "\n",
       "    .dataframe thead th {\n",
       "        text-align: right;\n",
       "    }\n",
       "</style>\n",
       "<table border=\"1\" class=\"dataframe\">\n",
       "  <thead>\n",
       "    <tr style=\"text-align: right;\">\n",
       "      <th></th>\n",
       "      <th>uid</th>\n",
       "      <th>variant_number</th>\n",
       "      <th>active_mins</th>\n",
       "    </tr>\n",
       "  </thead>\n",
       "  <tbody>\n",
       "    <tr>\n",
       "      <th>0</th>\n",
       "      <td>0</td>\n",
       "      <td>0</td>\n",
       "      <td>3.307692</td>\n",
       "    </tr>\n",
       "    <tr>\n",
       "      <th>1</th>\n",
       "      <td>1</td>\n",
       "      <td>0</td>\n",
       "      <td>19.800000</td>\n",
       "    </tr>\n",
       "    <tr>\n",
       "      <th>2</th>\n",
       "      <td>2</td>\n",
       "      <td>0</td>\n",
       "      <td>2.428571</td>\n",
       "    </tr>\n",
       "    <tr>\n",
       "      <th>3</th>\n",
       "      <td>3</td>\n",
       "      <td>0</td>\n",
       "      <td>3.208333</td>\n",
       "    </tr>\n",
       "    <tr>\n",
       "      <th>4</th>\n",
       "      <td>4</td>\n",
       "      <td>0</td>\n",
       "      <td>1.950000</td>\n",
       "    </tr>\n",
       "  </tbody>\n",
       "</table>\n",
       "</div>"
      ],
      "text/plain": [
       "   uid  variant_number  active_mins\n",
       "0    0               0     3.307692\n",
       "1    1               0    19.800000\n",
       "2    2               0     2.428571\n",
       "3    3               0     3.208333\n",
       "4    4               0     1.950000"
      ]
     },
     "execution_count": 228,
     "metadata": {},
     "output_type": "execute_result"
    }
   ],
   "source": [
    "agg_activ.head()"
   ]
  },
  {
   "cell_type": "code",
   "execution_count": 229,
   "metadata": {},
   "outputs": [
    {
     "data": {
      "text/html": [
       "<div>\n",
       "<style scoped>\n",
       "    .dataframe tbody tr th:only-of-type {\n",
       "        vertical-align: middle;\n",
       "    }\n",
       "\n",
       "    .dataframe tbody tr th {\n",
       "        vertical-align: top;\n",
       "    }\n",
       "\n",
       "    .dataframe thead th {\n",
       "        text-align: right;\n",
       "    }\n",
       "</style>\n",
       "<table border=\"1\" class=\"dataframe\">\n",
       "  <thead>\n",
       "    <tr style=\"text-align: right;\">\n",
       "      <th></th>\n",
       "      <th>uid</th>\n",
       "      <th>gender</th>\n",
       "      <th>user_type</th>\n",
       "    </tr>\n",
       "  </thead>\n",
       "  <tbody>\n",
       "    <tr>\n",
       "      <th>0</th>\n",
       "      <td>0</td>\n",
       "      <td>male</td>\n",
       "      <td>non_reader</td>\n",
       "    </tr>\n",
       "    <tr>\n",
       "      <th>1</th>\n",
       "      <td>1</td>\n",
       "      <td>male</td>\n",
       "      <td>reader</td>\n",
       "    </tr>\n",
       "    <tr>\n",
       "      <th>2</th>\n",
       "      <td>2</td>\n",
       "      <td>male</td>\n",
       "      <td>non_reader</td>\n",
       "    </tr>\n",
       "    <tr>\n",
       "      <th>3</th>\n",
       "      <td>3</td>\n",
       "      <td>male</td>\n",
       "      <td>non_reader</td>\n",
       "    </tr>\n",
       "    <tr>\n",
       "      <th>4</th>\n",
       "      <td>4</td>\n",
       "      <td>male</td>\n",
       "      <td>non_reader</td>\n",
       "    </tr>\n",
       "  </tbody>\n",
       "</table>\n",
       "</div>"
      ],
      "text/plain": [
       "   uid gender   user_type\n",
       "0    0   male  non_reader\n",
       "1    1   male      reader\n",
       "2    2   male  non_reader\n",
       "3    3   male  non_reader\n",
       "4    4   male  non_reader"
      ]
     },
     "execution_count": 229,
     "metadata": {},
     "output_type": "execute_result"
    }
   ],
   "source": [
    "uatt.head()"
   ]
  },
  {
   "cell_type": "markdown",
   "metadata": {},
   "source": [
    "# Merger to Create Overall Data "
   ]
  },
  {
   "cell_type": "code",
   "execution_count": 233,
   "metadata": {},
   "outputs": [
    {
     "data": {
      "text/html": [
       "<div>\n",
       "<style scoped>\n",
       "    .dataframe tbody tr th:only-of-type {\n",
       "        vertical-align: middle;\n",
       "    }\n",
       "\n",
       "    .dataframe tbody tr th {\n",
       "        vertical-align: top;\n",
       "    }\n",
       "\n",
       "    .dataframe thead th {\n",
       "        text-align: right;\n",
       "    }\n",
       "</style>\n",
       "<table border=\"1\" class=\"dataframe\">\n",
       "  <thead>\n",
       "    <tr style=\"text-align: right;\">\n",
       "      <th></th>\n",
       "      <th>uid</th>\n",
       "      <th>variant_number</th>\n",
       "      <th>active_mins</th>\n",
       "      <th>gender</th>\n",
       "      <th>user_type</th>\n",
       "    </tr>\n",
       "  </thead>\n",
       "  <tbody>\n",
       "    <tr>\n",
       "      <th>0</th>\n",
       "      <td>0</td>\n",
       "      <td>0</td>\n",
       "      <td>3.307692</td>\n",
       "      <td>male</td>\n",
       "      <td>non_reader</td>\n",
       "    </tr>\n",
       "    <tr>\n",
       "      <th>1</th>\n",
       "      <td>1</td>\n",
       "      <td>0</td>\n",
       "      <td>19.800000</td>\n",
       "      <td>male</td>\n",
       "      <td>reader</td>\n",
       "    </tr>\n",
       "    <tr>\n",
       "      <th>2</th>\n",
       "      <td>2</td>\n",
       "      <td>0</td>\n",
       "      <td>2.428571</td>\n",
       "      <td>male</td>\n",
       "      <td>non_reader</td>\n",
       "    </tr>\n",
       "    <tr>\n",
       "      <th>3</th>\n",
       "      <td>3</td>\n",
       "      <td>0</td>\n",
       "      <td>3.208333</td>\n",
       "      <td>male</td>\n",
       "      <td>non_reader</td>\n",
       "    </tr>\n",
       "    <tr>\n",
       "      <th>4</th>\n",
       "      <td>4</td>\n",
       "      <td>0</td>\n",
       "      <td>1.950000</td>\n",
       "      <td>male</td>\n",
       "      <td>non_reader</td>\n",
       "    </tr>\n",
       "  </tbody>\n",
       "</table>\n",
       "</div>"
      ],
      "text/plain": [
       "   uid  variant_number  active_mins gender   user_type\n",
       "0    0               0     3.307692   male  non_reader\n",
       "1    1               0    19.800000   male      reader\n",
       "2    2               0     2.428571   male  non_reader\n",
       "3    3               0     3.208333   male  non_reader\n",
       "4    4               0     1.950000   male  non_reader"
      ]
     },
     "execution_count": 233,
     "metadata": {},
     "output_type": "execute_result"
    }
   ],
   "source": [
    "att_data = agg_activ.merge(uatt,how='left',on='uid')\n",
    "att_data.head()"
   ]
  },
  {
   "cell_type": "code",
   "execution_count": 235,
   "metadata": {},
   "outputs": [
    {
     "data": {
      "text/plain": [
       "(array(['male', 'female', 'unknown'], dtype=object),\n",
       " array(['non_reader', 'reader', 'new_user', 'contributor'], dtype=object))"
      ]
     },
     "execution_count": 235,
     "metadata": {},
     "output_type": "execute_result"
    }
   ],
   "source": [
    "att_data['gender'].unique(),att_data['user_type'].unique()"
   ]
  },
  {
   "cell_type": "code",
   "execution_count": 240,
   "metadata": {},
   "outputs": [
    {
     "data": {
      "text/plain": [
       "(46605, 5)"
      ]
     },
     "execution_count": 240,
     "metadata": {},
     "output_type": "execute_result"
    }
   ],
   "source": [
    "att_data.shape"
   ]
  },
  {
   "cell_type": "code",
   "execution_count": 244,
   "metadata": {},
   "outputs": [
    {
     "data": {
      "text/html": [
       "<div>\n",
       "<style scoped>\n",
       "    .dataframe tbody tr th:only-of-type {\n",
       "        vertical-align: middle;\n",
       "    }\n",
       "\n",
       "    .dataframe tbody tr th {\n",
       "        vertical-align: top;\n",
       "    }\n",
       "\n",
       "    .dataframe thead th {\n",
       "        text-align: right;\n",
       "    }\n",
       "</style>\n",
       "<table border=\"1\" class=\"dataframe\">\n",
       "  <thead>\n",
       "    <tr style=\"text-align: right;\">\n",
       "      <th></th>\n",
       "      <th>uid</th>\n",
       "      <th>variant_number</th>\n",
       "      <th>active_mins</th>\n",
       "      <th>gender</th>\n",
       "      <th>user_type</th>\n",
       "    </tr>\n",
       "  </thead>\n",
       "  <tbody>\n",
       "    <tr>\n",
       "      <th>0</th>\n",
       "      <td>40000</td>\n",
       "      <td>1</td>\n",
       "      <td>8.333333</td>\n",
       "      <td>male</td>\n",
       "      <td>new_user</td>\n",
       "    </tr>\n",
       "    <tr>\n",
       "      <th>1</th>\n",
       "      <td>40001</td>\n",
       "      <td>1</td>\n",
       "      <td>9.343750</td>\n",
       "      <td>male</td>\n",
       "      <td>non_reader</td>\n",
       "    </tr>\n",
       "    <tr>\n",
       "      <th>2</th>\n",
       "      <td>40002</td>\n",
       "      <td>1</td>\n",
       "      <td>7.038462</td>\n",
       "      <td>male</td>\n",
       "      <td>non_reader</td>\n",
       "    </tr>\n",
       "    <tr>\n",
       "      <th>3</th>\n",
       "      <td>40008</td>\n",
       "      <td>1</td>\n",
       "      <td>8.970588</td>\n",
       "      <td>male</td>\n",
       "      <td>non_reader</td>\n",
       "    </tr>\n",
       "    <tr>\n",
       "      <th>4</th>\n",
       "      <td>40011</td>\n",
       "      <td>1</td>\n",
       "      <td>12.750000</td>\n",
       "      <td>male</td>\n",
       "      <td>non_reader</td>\n",
       "    </tr>\n",
       "    <tr>\n",
       "      <th>...</th>\n",
       "      <td>...</td>\n",
       "      <td>...</td>\n",
       "      <td>...</td>\n",
       "      <td>...</td>\n",
       "      <td>...</td>\n",
       "    </tr>\n",
       "    <tr>\n",
       "      <th>5126</th>\n",
       "      <td>49991</td>\n",
       "      <td>1</td>\n",
       "      <td>21.000000</td>\n",
       "      <td>male</td>\n",
       "      <td>new_user</td>\n",
       "    </tr>\n",
       "    <tr>\n",
       "      <th>5127</th>\n",
       "      <td>49992</td>\n",
       "      <td>1</td>\n",
       "      <td>4.173913</td>\n",
       "      <td>male</td>\n",
       "      <td>non_reader</td>\n",
       "    </tr>\n",
       "    <tr>\n",
       "      <th>5128</th>\n",
       "      <td>49993</td>\n",
       "      <td>1</td>\n",
       "      <td>5.608696</td>\n",
       "      <td>male</td>\n",
       "      <td>non_reader</td>\n",
       "    </tr>\n",
       "    <tr>\n",
       "      <th>5129</th>\n",
       "      <td>49996</td>\n",
       "      <td>1</td>\n",
       "      <td>12.000000</td>\n",
       "      <td>male</td>\n",
       "      <td>non_reader</td>\n",
       "    </tr>\n",
       "    <tr>\n",
       "      <th>5130</th>\n",
       "      <td>49998</td>\n",
       "      <td>1</td>\n",
       "      <td>10.931034</td>\n",
       "      <td>male</td>\n",
       "      <td>non_reader</td>\n",
       "    </tr>\n",
       "  </tbody>\n",
       "</table>\n",
       "<p>5131 rows × 5 columns</p>\n",
       "</div>"
      ],
      "text/plain": [
       "        uid  variant_number  active_mins gender   user_type\n",
       "0     40000               1     8.333333   male    new_user\n",
       "1     40001               1     9.343750   male  non_reader\n",
       "2     40002               1     7.038462   male  non_reader\n",
       "3     40008               1     8.970588   male  non_reader\n",
       "4     40011               1    12.750000   male  non_reader\n",
       "...     ...             ...          ...    ...         ...\n",
       "5126  49991               1    21.000000   male    new_user\n",
       "5127  49992               1     4.173913   male  non_reader\n",
       "5128  49993               1     5.608696   male  non_reader\n",
       "5129  49996               1    12.000000   male  non_reader\n",
       "5130  49998               1    10.931034   male  non_reader\n",
       "\n",
       "[5131 rows x 5 columns]"
      ]
     },
     "execution_count": 244,
     "metadata": {},
     "output_type": "execute_result"
    }
   ],
   "source": [
    "att_data[(att_data['variant_number']==1)&(att_data['gender']=='male')].reset_index(drop=True)"
   ]
  },
  {
   "cell_type": "markdown",
   "metadata": {},
   "source": [
    "# Experiments for Comparisons Across Attributes "
   ]
  },
  {
   "cell_type": "code",
   "execution_count": 245,
   "metadata": {},
   "outputs": [
    {
     "data": {
      "text/html": [
       "<div>\n",
       "<style scoped>\n",
       "    .dataframe tbody tr th:only-of-type {\n",
       "        vertical-align: middle;\n",
       "    }\n",
       "\n",
       "    .dataframe tbody tr th {\n",
       "        vertical-align: top;\n",
       "    }\n",
       "\n",
       "    .dataframe thead th {\n",
       "        text-align: right;\n",
       "    }\n",
       "</style>\n",
       "<table border=\"1\" class=\"dataframe\">\n",
       "  <thead>\n",
       "    <tr style=\"text-align: right;\">\n",
       "      <th></th>\n",
       "      <th>T statistic</th>\n",
       "      <th>df</th>\n",
       "      <th>pvalue 2 sided</th>\n",
       "      <th>Difference in mean</th>\n",
       "      <th>lb</th>\n",
       "      <th>ub</th>\n",
       "    </tr>\n",
       "  </thead>\n",
       "  <tbody>\n",
       "    <tr>\n",
       "      <th>0</th>\n",
       "      <td>20.597435</td>\n",
       "      <td>8225.519605</td>\n",
       "      <td>5.882002e-92</td>\n",
       "      <td>1.479446</td>\n",
       "      <td>1.338647</td>\n",
       "      <td>1.620244</td>\n",
       "    </tr>\n",
       "  </tbody>\n",
       "</table>\n",
       "</div>"
      ],
      "text/plain": [
       "   T statistic           df  pvalue 2 sided  Difference in mean        lb  \\\n",
       "0    20.597435  8225.519605    5.882002e-92            1.479446  1.338647   \n",
       "\n",
       "         ub  \n",
       "0  1.620244  "
      ]
     },
     "execution_count": 245,
     "metadata": {},
     "output_type": "execute_result"
    }
   ],
   "source": [
    "# Comparison Across \"Male\" group\n",
    "dmale_tr = att_data[(att_data['variant_number']==1)&(att_data['gender']=='male')].reset_index(drop=True)\n",
    "dmale_co = att_data[(att_data['variant_number']==0)&(att_data['gender']=='male')].reset_index(drop=True)\n",
    "welch_ttest(dmale_tr['active_mins'],dmale_co['active_mins'])"
   ]
  },
  {
   "cell_type": "code",
   "execution_count": 247,
   "metadata": {},
   "outputs": [
    {
     "data": {
      "text/html": [
       "<div>\n",
       "<style scoped>\n",
       "    .dataframe tbody tr th:only-of-type {\n",
       "        vertical-align: middle;\n",
       "    }\n",
       "\n",
       "    .dataframe tbody tr th {\n",
       "        vertical-align: top;\n",
       "    }\n",
       "\n",
       "    .dataframe thead th {\n",
       "        text-align: right;\n",
       "    }\n",
       "</style>\n",
       "<table border=\"1\" class=\"dataframe\">\n",
       "  <thead>\n",
       "    <tr style=\"text-align: right;\">\n",
       "      <th></th>\n",
       "      <th>T statistic</th>\n",
       "      <th>df</th>\n",
       "      <th>pvalue 2 sided</th>\n",
       "      <th>Difference in mean</th>\n",
       "      <th>lb</th>\n",
       "      <th>ub</th>\n",
       "    </tr>\n",
       "  </thead>\n",
       "  <tbody>\n",
       "    <tr>\n",
       "      <th>0</th>\n",
       "      <td>16.574324</td>\n",
       "      <td>3983.963748</td>\n",
       "      <td>1.023208e-59</td>\n",
       "      <td>1.539559</td>\n",
       "      <td>1.357446</td>\n",
       "      <td>1.721672</td>\n",
       "    </tr>\n",
       "  </tbody>\n",
       "</table>\n",
       "</div>"
      ],
      "text/plain": [
       "   T statistic           df  pvalue 2 sided  Difference in mean        lb  \\\n",
       "0    16.574324  3983.963748    1.023208e-59            1.539559  1.357446   \n",
       "\n",
       "         ub  \n",
       "0  1.721672  "
      ]
     },
     "execution_count": 247,
     "metadata": {},
     "output_type": "execute_result"
    }
   ],
   "source": [
    "# Comparison Across \"Female\" group\n",
    "dgen_tr = att_data[(att_data['variant_number']==1)&(att_data['gender']=='female')].reset_index(drop=True)\n",
    "dgen_co = att_data[(att_data['variant_number']==0)&(att_data['gender']=='female')].reset_index(drop=True)\n",
    "welch_ttest(dgen_tr['active_mins'],dgen_co['active_mins'])"
   ]
  },
  {
   "cell_type": "code",
   "execution_count": 250,
   "metadata": {},
   "outputs": [
    {
     "data": {
      "text/html": [
       "<div>\n",
       "<style scoped>\n",
       "    .dataframe tbody tr th:only-of-type {\n",
       "        vertical-align: middle;\n",
       "    }\n",
       "\n",
       "    .dataframe tbody tr th {\n",
       "        vertical-align: top;\n",
       "    }\n",
       "\n",
       "    .dataframe thead th {\n",
       "        text-align: right;\n",
       "    }\n",
       "</style>\n",
       "<table border=\"1\" class=\"dataframe\">\n",
       "  <thead>\n",
       "    <tr style=\"text-align: right;\">\n",
       "      <th></th>\n",
       "      <th>T statistic</th>\n",
       "      <th>df</th>\n",
       "      <th>pvalue 2 sided</th>\n",
       "      <th>Difference in mean</th>\n",
       "      <th>lb</th>\n",
       "      <th>ub</th>\n",
       "    </tr>\n",
       "  </thead>\n",
       "  <tbody>\n",
       "    <tr>\n",
       "      <th>0</th>\n",
       "      <td>14.298571</td>\n",
       "      <td>2132.614077</td>\n",
       "      <td>2.343912e-44</td>\n",
       "      <td>1.833367</td>\n",
       "      <td>1.581917</td>\n",
       "      <td>2.084817</td>\n",
       "    </tr>\n",
       "  </tbody>\n",
       "</table>\n",
       "</div>"
      ],
      "text/plain": [
       "   T statistic           df  pvalue 2 sided  Difference in mean        lb  \\\n",
       "0    14.298571  2132.614077    2.343912e-44            1.833367  1.581917   \n",
       "\n",
       "         ub  \n",
       "0  2.084817  "
      ]
     },
     "execution_count": 250,
     "metadata": {},
     "output_type": "execute_result"
    }
   ],
   "source": [
    "# Comparison Across \"Unknown\" group\n",
    "dgen_tr = att_data[(att_data['variant_number']==1)&(att_data['gender']=='unknown')].reset_index(drop=True)\n",
    "dgen_co = att_data[(att_data['variant_number']==0)&(att_data['gender']=='unknown')].reset_index(drop=True)\n",
    "welch_ttest(dgen_tr['active_mins'],dgen_co['active_mins'])"
   ]
  },
  {
   "cell_type": "code",
   "execution_count": 252,
   "metadata": {},
   "outputs": [
    {
     "data": {
      "text/html": [
       "<div>\n",
       "<style scoped>\n",
       "    .dataframe tbody tr th:only-of-type {\n",
       "        vertical-align: middle;\n",
       "    }\n",
       "\n",
       "    .dataframe tbody tr th {\n",
       "        vertical-align: top;\n",
       "    }\n",
       "\n",
       "    .dataframe thead th {\n",
       "        text-align: right;\n",
       "    }\n",
       "</style>\n",
       "<table border=\"1\" class=\"dataframe\">\n",
       "  <thead>\n",
       "    <tr style=\"text-align: right;\">\n",
       "      <th></th>\n",
       "      <th>T statistic</th>\n",
       "      <th>df</th>\n",
       "      <th>pvalue 2 sided</th>\n",
       "      <th>Difference in mean</th>\n",
       "      <th>lb</th>\n",
       "      <th>ub</th>\n",
       "    </tr>\n",
       "  </thead>\n",
       "  <tbody>\n",
       "    <tr>\n",
       "      <th>0</th>\n",
       "      <td>47.808654</td>\n",
       "      <td>9203.179559</td>\n",
       "      <td>0.0</td>\n",
       "      <td>2.034637</td>\n",
       "      <td>1.951214</td>\n",
       "      <td>2.11806</td>\n",
       "    </tr>\n",
       "  </tbody>\n",
       "</table>\n",
       "</div>"
      ],
      "text/plain": [
       "   T statistic           df  pvalue 2 sided  Difference in mean        lb  \\\n",
       "0    47.808654  9203.179559             0.0            2.034637  1.951214   \n",
       "\n",
       "        ub  \n",
       "0  2.11806  "
      ]
     },
     "execution_count": 252,
     "metadata": {},
     "output_type": "execute_result"
    }
   ],
   "source": [
    "# Comparison Across \"Non-reader\" group\n",
    "ut_tr = att_data[(att_data['variant_number']==1)&(att_data['user_type']=='non_reader')].reset_index(drop=True)\n",
    "ut_co = att_data[(att_data['variant_number']==0)&(att_data['user_type']=='non_reader')].reset_index(drop=True)\n",
    "welch_ttest(ut_tr['active_mins'],ut_co['active_mins'])"
   ]
  },
  {
   "cell_type": "code",
   "execution_count": 253,
   "metadata": {},
   "outputs": [
    {
     "data": {
      "text/html": [
       "<div>\n",
       "<style scoped>\n",
       "    .dataframe tbody tr th:only-of-type {\n",
       "        vertical-align: middle;\n",
       "    }\n",
       "\n",
       "    .dataframe tbody tr th {\n",
       "        vertical-align: top;\n",
       "    }\n",
       "\n",
       "    .dataframe thead th {\n",
       "        text-align: right;\n",
       "    }\n",
       "</style>\n",
       "<table border=\"1\" class=\"dataframe\">\n",
       "  <thead>\n",
       "    <tr style=\"text-align: right;\">\n",
       "      <th></th>\n",
       "      <th>T statistic</th>\n",
       "      <th>df</th>\n",
       "      <th>pvalue 2 sided</th>\n",
       "      <th>Difference in mean</th>\n",
       "      <th>lb</th>\n",
       "      <th>ub</th>\n",
       "    </tr>\n",
       "  </thead>\n",
       "  <tbody>\n",
       "    <tr>\n",
       "      <th>0</th>\n",
       "      <td>10.161051</td>\n",
       "      <td>1883.925853</td>\n",
       "      <td>1.189653e-23</td>\n",
       "      <td>1.647241</td>\n",
       "      <td>1.3293</td>\n",
       "      <td>1.965181</td>\n",
       "    </tr>\n",
       "  </tbody>\n",
       "</table>\n",
       "</div>"
      ],
      "text/plain": [
       "   T statistic           df  pvalue 2 sided  Difference in mean      lb  \\\n",
       "0    10.161051  1883.925853    1.189653e-23            1.647241  1.3293   \n",
       "\n",
       "         ub  \n",
       "0  1.965181  "
      ]
     },
     "execution_count": 253,
     "metadata": {},
     "output_type": "execute_result"
    }
   ],
   "source": [
    "# Comparison Across \"Reader\" group\n",
    "ut_tr = att_data[(att_data['variant_number']==1)&(att_data['user_type']=='reader')].reset_index(drop=True)\n",
    "ut_co = att_data[(att_data['variant_number']==0)&(att_data['user_type']=='reader')].reset_index(drop=True)\n",
    "welch_ttest(ut_tr['active_mins'],ut_co['active_mins'])"
   ]
  },
  {
   "cell_type": "code",
   "execution_count": 254,
   "metadata": {},
   "outputs": [
    {
     "data": {
      "text/html": [
       "<div>\n",
       "<style scoped>\n",
       "    .dataframe tbody tr th:only-of-type {\n",
       "        vertical-align: middle;\n",
       "    }\n",
       "\n",
       "    .dataframe tbody tr th {\n",
       "        vertical-align: top;\n",
       "    }\n",
       "\n",
       "    .dataframe thead th {\n",
       "        text-align: right;\n",
       "    }\n",
       "</style>\n",
       "<table border=\"1\" class=\"dataframe\">\n",
       "  <thead>\n",
       "    <tr style=\"text-align: right;\">\n",
       "      <th></th>\n",
       "      <th>T statistic</th>\n",
       "      <th>df</th>\n",
       "      <th>pvalue 2 sided</th>\n",
       "      <th>Difference in mean</th>\n",
       "      <th>lb</th>\n",
       "      <th>ub</th>\n",
       "    </tr>\n",
       "  </thead>\n",
       "  <tbody>\n",
       "    <tr>\n",
       "      <th>0</th>\n",
       "      <td>14.105064</td>\n",
       "      <td>981.66877</td>\n",
       "      <td>2.831940e-41</td>\n",
       "      <td>2.291112</td>\n",
       "      <td>1.972358</td>\n",
       "      <td>2.609865</td>\n",
       "    </tr>\n",
       "  </tbody>\n",
       "</table>\n",
       "</div>"
      ],
      "text/plain": [
       "   T statistic         df  pvalue 2 sided  Difference in mean        lb  \\\n",
       "0    14.105064  981.66877    2.831940e-41            2.291112  1.972358   \n",
       "\n",
       "         ub  \n",
       "0  2.609865  "
      ]
     },
     "execution_count": 254,
     "metadata": {},
     "output_type": "execute_result"
    }
   ],
   "source": [
    "# Comparison Across \"Reader\" group\n",
    "ut_tr = att_data[(att_data['variant_number']==1)&(att_data['user_type']=='new_user')].reset_index(drop=True)\n",
    "ut_co = att_data[(att_data['variant_number']==0)&(att_data['user_type']=='new_user')].reset_index(drop=True)\n",
    "welch_ttest(ut_tr['active_mins'],ut_co['active_mins'])"
   ]
  },
  {
   "cell_type": "code",
   "execution_count": 255,
   "metadata": {},
   "outputs": [
    {
     "data": {
      "text/html": [
       "<div>\n",
       "<style scoped>\n",
       "    .dataframe tbody tr th:only-of-type {\n",
       "        vertical-align: middle;\n",
       "    }\n",
       "\n",
       "    .dataframe tbody tr th {\n",
       "        vertical-align: top;\n",
       "    }\n",
       "\n",
       "    .dataframe thead th {\n",
       "        text-align: right;\n",
       "    }\n",
       "</style>\n",
       "<table border=\"1\" class=\"dataframe\">\n",
       "  <thead>\n",
       "    <tr style=\"text-align: right;\">\n",
       "      <th></th>\n",
       "      <th>T statistic</th>\n",
       "      <th>df</th>\n",
       "      <th>pvalue 2 sided</th>\n",
       "      <th>Difference in mean</th>\n",
       "      <th>lb</th>\n",
       "      <th>ub</th>\n",
       "    </tr>\n",
       "  </thead>\n",
       "  <tbody>\n",
       "    <tr>\n",
       "      <th>0</th>\n",
       "      <td>-1.415615</td>\n",
       "      <td>176.226064</td>\n",
       "      <td>0.158653</td>\n",
       "      <td>-0.784466</td>\n",
       "      <td>-1.878093</td>\n",
       "      <td>0.309162</td>\n",
       "    </tr>\n",
       "  </tbody>\n",
       "</table>\n",
       "</div>"
      ],
      "text/plain": [
       "   T statistic          df  pvalue 2 sided  Difference in mean        lb  \\\n",
       "0    -1.415615  176.226064        0.158653           -0.784466 -1.878093   \n",
       "\n",
       "         ub  \n",
       "0  0.309162  "
      ]
     },
     "execution_count": 255,
     "metadata": {},
     "output_type": "execute_result"
    }
   ],
   "source": [
    "# Comparison Across \"Contributor\" group\n",
    "ut_tr = att_data[(att_data['variant_number']==1)&(att_data['user_type']=='contributor')].reset_index(drop=True)\n",
    "ut_co = att_data[(att_data['variant_number']==0)&(att_data['user_type']=='contributor')].reset_index(drop=True)\n",
    "welch_ttest(ut_tr['active_mins'],ut_co['active_mins'])"
   ]
  },
  {
   "cell_type": "markdown",
   "metadata": {},
   "source": [
    "# Plots for Variation of Attribtes among Control and Experiment Group "
   ]
  },
  {
   "cell_type": "code",
   "execution_count": 266,
   "metadata": {},
   "outputs": [
    {
     "name": "stderr",
     "output_type": "stream",
     "text": [
      "C:\\Users\\nishant\\anaconda3\\lib\\site-packages\\seaborn\\_decorators.py:36: FutureWarning: Pass the following variables as keyword args: x, y. From version 0.12, the only valid positional argument will be `data`, and passing other arguments without an explicit keyword will result in an error or misinterpretation.\n",
      "  warnings.warn(\n"
     ]
    },
    {
     "data": {
      "text/plain": [
       "Text(0.5, 1.0, 'Variation of User Activity wrt to User Type for Control (Blue) and Experimental Groups (Orange)')"
      ]
     },
     "execution_count": 266,
     "metadata": {},
     "output_type": "execute_result"
    },
    {
     "data": {
      "image/png": "[encoded data removed]",
      "text/plain": [
       "<Figure size 640x480 with 1 Axes>"
      ]
     },
     "metadata": {
      "needs_background": "light"
     },
     "output_type": "display_data"
    }
   ],
   "source": [
    "from matplotlib.pyplot import figure\n",
    "figure(figsize=(8, 6), dpi=80)\n",
    "sns.boxplot(att_data['user_type'],att_data['active_mins'],hue=att_data['variant_number'])\n",
    "plt.legend(loc='upper left')\n",
    "plt.title(\"Variation of User Activity wrt to User Type for Control (Blue) and Experimental Groups (Orange)\")"
   ]
  },
  {
   "cell_type": "code",
   "execution_count": 267,
   "metadata": {},
   "outputs": [
    {
     "name": "stderr",
     "output_type": "stream",
     "text": [
      "C:\\Users\\nishant\\anaconda3\\lib\\site-packages\\seaborn\\_decorators.py:36: FutureWarning: Pass the following variables as keyword args: x, y. From version 0.12, the only valid positional argument will be `data`, and passing other arguments without an explicit keyword will result in an error or misinterpretation.\n",
      "  warnings.warn(\n"
     ]
    },
    {
     "data": {
      "text/plain": [
       "Text(0.5, 1.0, 'Variation of User Activity wrt to Gender for Control (Blue) and Experimental Groups (Orange)')"
      ]
     },
     "execution_count": 267,
     "metadata": {},
     "output_type": "execute_result"
    },
    {
     "data": {
      "image/png": "[encoded data removed]",
      "text/plain": [
       "<Figure size 640x480 with 1 Axes>"
      ]
     },
     "metadata": {
      "needs_background": "light"
     },
     "output_type": "display_data"
    }
   ],
   "source": [
    "from matplotlib.pyplot import figure\n",
    "figure(figsize=(8, 6), dpi=80)\n",
    "sns.boxplot(att_data['gender'],att_data['active_mins'],hue=att_data['variant_number'])\n",
    "plt.legend(loc='upper left')\n",
    "plt.title(\"Variation of User Activity wrt to Gender for Control (Blue) and Experimental Groups (Orange)\")"
   ]
  },
  {
   "cell_type": "code",
   "execution_count": null,
   "metadata": {},
   "outputs": [],
   "source": []
  }
 ],
 "metadata": {
  "kernelspec": {
   "display_name": "Python 3",
   "language": "python",
   "name": "python3"
  },
  "language_info": {
   "codemirror_mode": {
    "name": "ipython",
    "version": 3
   },
   "file_extension": ".py",
   "mimetype": "text/x-python",
   "name": "python",
   "nbconvert_exporter": "python",
   "pygments_lexer": "ipython3",
   "version": "3.8.5"
  }
 },
 "nbformat": 4,
 "nbformat_minor": 4
}
