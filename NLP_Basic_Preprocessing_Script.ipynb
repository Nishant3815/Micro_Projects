{
 "cells": [
  {
   "cell_type": "code",
   "execution_count": 1,
   "metadata": {},
   "outputs": [
    {
     "name": "stderr",
     "output_type": "stream",
     "text": [
      "C:\\Users\\nr17754\\AppData\\Local\\Continuum\\anaconda3\\lib\\site-packages\\gensim\\utils.py:1209: UserWarning: detected Windows; aliasing chunkize to chunkize_serial\n",
      "  warnings.warn(\"detected Windows; aliasing chunkize to chunkize_serial\")\n"
     ]
    }
   ],
   "source": [
    "import pandas as pd\n",
    "import numpy as np \n",
    "import matplotlib.pyplot as plt\n",
    "%matplotlib inline\n",
    "import re\n",
    "from gensim.parsing.preprocessing import remove_stopwords\n",
    "from gensim.parsing.preprocessing import strip_punctuation\n",
    "from gensim.parsing.preprocessing import strip_tags\n",
    "from gensim.parsing.preprocessing import strip_multiple_whitespaces\n",
    "from nltk import word_tokenize\n",
    "from collections import Counter \n",
    "import nltk"
   ]
  },
  {
   "cell_type": "code",
   "execution_count": 2,
   "metadata": {},
   "outputs": [],
   "source": [
    "train = pd.read_csv(\"train.csv\")\n",
    "test = pd.read_csv(\"test.csv\")"
   ]
  },
  {
   "cell_type": "code",
   "execution_count": 3,
   "metadata": {},
   "outputs": [],
   "source": [
    "tag_list = train['tags'].tolist()\n",
    "li_flat = [] \n",
    "for i in tag_list:\n",
    "    li_flat.append(str(i).split(\"|\"))"
   ]
  },
  {
   "cell_type": "code",
   "execution_count": 4,
   "metadata": {},
   "outputs": [],
   "source": [
    "flat_tags = [i for sublist in li_flat for i in sublist]\n",
    "top_tags = Counter(flat_tags).most_common(500)\n",
    "top_flat = []\n",
    "for i in top_tags:\n",
    "    top_flat.append(i[0])"
   ]
  },
  {
   "cell_type": "code",
   "execution_count": 5,
   "metadata": {},
   "outputs": [
    {
     "data": {
      "text/plain": [
       "(786979, 4)"
      ]
     },
     "execution_count": 5,
     "metadata": {},
     "output_type": "execute_result"
    }
   ],
   "source": [
    "train.shape"
   ]
  },
  {
   "cell_type": "code",
   "execution_count": 6,
   "metadata": {},
   "outputs": [
    {
     "data": {
      "text/plain": [
       "(194323, 3)"
      ]
     },
     "execution_count": 6,
     "metadata": {},
     "output_type": "execute_result"
    }
   ],
   "source": [
    "test.shape"
   ]
  },
  {
   "cell_type": "code",
   "execution_count": 7,
   "metadata": {},
   "outputs": [],
   "source": [
    "## Pre-Processing Script \n",
    "\n",
    "# Function to remove html tags\n",
    "def cleanhtml(raw_html):\n",
    "    cleanr = re.compile('<.*?>')\n",
    "    cleantext = re.sub(cleanr, '', raw_html)\n",
    "    return cleantext\n",
    "\n",
    "# Function to remove URLs starting with https/http \n",
    "def remove_urls (vTEXT):\n",
    "    vTEXT = re.sub(r'(https|http)?:\\/\\/(\\w|\\.|\\/|\\?|\\=|\\&|\\%)*\\b', '', vTEXT, flags=re.MULTILINE)\n",
    "    return(vTEXT)\n",
    "\n",
    "# POS TAG removal\n",
    "def pos_remover(x):\n",
    "    tokens = word_tokenize(x)\n",
    "    tagged = nltk.pos_tag(tokens)\n",
    "    pos_removed_sentence = ''\n",
    "    for i in tagged:\n",
    "        if ((i[1]=='IN')|(i[1]=='VBZ')|(i[1]=='WP')|(i[1]=='DT')|(i[1]=='TO')|(i[1]=='PRP')|(i[1]=='VB')|(i[1]=='VBG')|(i[1]=='CC')|(i[1]=='VB')|(i[1]=='MD')):\n",
    "            continue\n",
    "        else:\n",
    "            pos_removed_sentence = pos_removed_sentence +\" \"+i[0]\n",
    "    return pos_removed_sentence \n",
    "\n",
    "# Create a unique list without repetition of words \n",
    "def unique_list(l):\n",
    "    ulist = []\n",
    "    [ulist.append(x) for x in l if x not in ulist]\n",
    "    return ulist\n"
   ]
  },
  {
   "cell_type": "code",
   "execution_count": 8,
   "metadata": {},
   "outputs": [],
   "source": [
    "def preprocessing(x):\n",
    "    x = remove_urls(x)\n",
    "    x = cleanhtml(x)\n",
    "    x = pos_remover(x)\n",
    "    x = str(x).lower()\n",
    "    x = remove_stopwords(x)\n",
    "    x = strip_punctuation(x)\n",
    "    x = strip_multiple_whitespaces(x)\n",
    "    x = ' '.join([re.sub(r'\\d+', '',i) for i in word_tokenize(x)])\n",
    "    x = ' '.join(unique_list(x.split()))\n",
    "    return x"
   ]
  },
  {
   "cell_type": "code",
   "execution_count": 10,
   "metadata": {},
   "outputs": [
    {
     "data": {
      "text/plain": [
       "'<p>I\\'m planning to use a binary system to handle my permissions, like this:</p>\\r\\r\\r\\r\\n\\r\\r\\r\\r\\n<pre><code>&lt;?php\\r\\r\\r\\r\\nconst POST = 1;\\r\\r\\r\\r\\nconst DELETE = 2;\\r\\r\\r\\r\\nconst UPDATE = 4;\\r\\r\\r\\r\\nconst READ = 8;\\r\\r\\r\\r\\nconst ADMIN = 16;\\r\\r\\r\\r\\nconst ADD_PRODUCT = 32;\\r\\r\\r\\r\\nconst DELETE_PRODUCT = 64;\\r\\r\\r\\r\\nconst ADD_BLOG = 128;\\r\\r\\r\\r\\n\\r\\r\\r\\r\\n\\r\\r\\r\\r\\n$permission = decbin(\\'5\\');\\r\\r\\r\\r\\n\\r\\r\\r\\r\\nif ($permission &amp; POST) { echo \"POST &lt;br /&gt;\"; }\\r\\r\\r\\r\\nif ($permission &amp; DELETE) { echo \"DELETE &lt;br /&gt;\"; }\\r\\r\\r\\r\\nif ($permission &amp; UPDATE) { echo \"UPDATE &lt;br /&gt;\"; }\\r\\r\\r\\r\\nif ($permission &amp; READ) { echo \"READ &lt;br /&gt;\"; }\\r\\r\\r\\r\\nif ($permission &amp; ADMIN) { echo \"ADMIN &lt;br /&gt;\"; }\\r\\r\\r\\r\\n\\r\\r\\r\\r\\n?&gt;\\r\\r\\r\\r\\n</code></pre>\\r\\r\\r\\r\\n\\r\\r\\r\\r\\n<p>With a few permissions, this will work well. But what if i have, lets say, 40 different permissions? Then I need to add up some really big numbers, which is a pain in the ass.</p>\\r\\r\\r\\r\\n\\r\\r\\r\\r\\n<p>Is there any other way?</p>\\r\\r\\r\\r\\n\\r\\r\\r\\r\\n<p>Any info or help will be greatly appriciated!</p>'"
      ]
     },
     "execution_count": 10,
     "metadata": {},
     "output_type": "execute_result"
    }
   ],
   "source": [
    "train['article'][2]"
   ]
  },
  {
   "cell_type": "code",
   "execution_count": 9,
   "metadata": {},
   "outputs": [
    {
     "data": {
      "text/plain": [
       "'m binary permissions lt php const post delete update read admin add product blog permission decbin amp echo gt lets different need big numbers pain ass way info help greatly appriciated'"
      ]
     },
     "execution_count": 9,
     "metadata": {},
     "output_type": "execute_result"
    }
   ],
   "source": [
    "preprocessing(train['article'][2])"
   ]
  }
 ],
 "metadata": {
  "kernelspec": {
   "display_name": "Python 3",
   "language": "python",
   "name": "python3"
  },
  "language_info": {
   "codemirror_mode": {
    "name": "ipython",
    "version": 3
   },
   "file_extension": ".py",
   "mimetype": "text/x-python",
   "name": "python",
   "nbconvert_exporter": "python",
   "pygments_lexer": "ipython3",
   "version": "3.6.5"
  }
 },
 "nbformat": 4,
 "nbformat_minor": 2
}
