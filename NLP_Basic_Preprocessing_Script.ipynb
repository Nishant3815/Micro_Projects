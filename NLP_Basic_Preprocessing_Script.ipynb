{
 "cells": [
  {
   "cell_type": "code",
   "execution_count": 21,
   "metadata": {},
   "outputs": [
    {
     "name": "stderr",
     "output_type": "stream",
     "text": [
      "C:\\Users\\nr17754\\AppData\\Local\\Continuum\\anaconda3\\lib\\site-packages\\gensim\\utils.py:1209: UserWarning: detected Windows; aliasing chunkize to chunkize_serial\n",
      "  warnings.warn(\"detected Windows; aliasing chunkize to chunkize_serial\")\n"
     ]
    }
   ],
   "source": [
    "import pandas as pd\n",
    "import numpy as np \n",
    "import matplotlib.pyplot as plt\n",
    "%matplotlib inline\n",
    "import re\n",
    "from gensim.parsing.preprocessing import remove_stopwords\n",
    "from gensim.parsing.preprocessing import strip_punctuation\n",
    "from gensim.parsing.preprocessing import strip_tags\n",
    "from gensim.parsing.preprocessing import strip_multiple_whitespaces\n",
    "from nltk import word_tokenize\n",
    "from collections import Counter "
   ]
  },
  {
   "cell_type": "code",
   "execution_count": 2,
   "metadata": {},
   "outputs": [],
   "source": [
    "train = pd.read_csv(\"train.csv\")\n",
    "test = pd.read_csv(\"test.csv\")"
   ]
  },
  {
   "cell_type": "code",
   "execution_count": 3,
   "metadata": {},
   "outputs": [],
   "source": [
    "tag_list = train['tags'].tolist()\n",
    "li_flat = [] \n",
    "for i in tag_list:\n",
    "    li_flat.append(str(i).split(\"|\"))"
   ]
  },
  {
   "cell_type": "code",
   "execution_count": 4,
   "metadata": {},
   "outputs": [],
   "source": [
    "flat_tags = [i for sublist in li_flat for i in sublist]\n",
    "top_tags = Counter(flat_tags).most_common(500)\n",
    "top_flat = []\n",
    "for i in top_tags:\n",
    "    top_flat.append(i[0])"
   ]
  },
  {
   "cell_type": "code",
   "execution_count": 5,
   "metadata": {},
   "outputs": [
    {
     "data": {
      "text/plain": [
       "(786979, 4)"
      ]
     },
     "execution_count": 5,
     "metadata": {},
     "output_type": "execute_result"
    }
   ],
   "source": [
    "train.shape"
   ]
  },
  {
   "cell_type": "code",
   "execution_count": 6,
   "metadata": {},
   "outputs": [
    {
     "data": {
      "text/plain": [
       "(194323, 3)"
      ]
     },
     "execution_count": 6,
     "metadata": {},
     "output_type": "execute_result"
    }
   ],
   "source": [
    "test.shape"
   ]
  },
  {
   "cell_type": "code",
   "execution_count": 78,
   "metadata": {},
   "outputs": [],
   "source": []
  },
  {
   "cell_type": "code",
   "execution_count": 94,
   "metadata": {},
   "outputs": [],
   "source": [
    "x = (preprocessing(train['article'][0]))"
   ]
  },
  {
   "cell_type": "code",
   "execution_count": 95,
   "metadata": {},
   "outputs": [
    {
     "data": {
      "text/plain": [
       "'way sort requests flash application send server trying information client sends server chrome inspect element shows going on sure communication going on website interesting time sends server opponent end game sends game server sure till now images uploaded game thanks help p s trying use wireshark capture packets way communication doing pinging chesscube com realize ip address     listening packages ip address ip addr     thing lot tcp http packages http packages sending png images avatars users chat there people constantly speaking that understand going ip address idea it problem watch traffic net computer it know limit it'"
      ]
     },
     "execution_count": 95,
     "metadata": {},
     "output_type": "execute_result"
    }
   ],
   "source": [
    "x"
   ]
  },
  {
   "cell_type": "code",
   "execution_count": 82,
   "metadata": {},
   "outputs": [
    {
     "data": {
      "text/plain": [
       "'check requests server application written flash'"
      ]
     },
     "execution_count": 82,
     "metadata": {},
     "output_type": "execute_result"
    }
   ],
   "source": [
    "(preprocessing(train['title'][0]))"
   ]
  },
  {
   "cell_type": "code",
   "execution_count": 99,
   "metadata": {},
   "outputs": [
    {
     "data": {
      "text/plain": [
       "[('Is', 'VBZ'),\n",
       " ('there', 'EX'),\n",
       " ('a', 'DT'),\n",
       " ('way', 'NN'),\n",
       " ('to', 'TO'),\n",
       " ('find', 'VB'),\n",
       " ('what', 'WP'),\n",
       " ('sort', 'NN'),\n",
       " ('of', 'IN'),\n",
       " ('requests', 'NNS'),\n",
       " ('does', 'VBZ'),\n",
       " ('a', 'DT'),\n",
       " ('Flash', 'NNP'),\n",
       " ('application', 'NN'),\n",
       " ('send', 'NN'),\n",
       " ('to', 'TO'),\n",
       " ('a', 'DT'),\n",
       " ('server', 'NN'),\n",
       " ('?', '.'),\n",
       " ('I', 'PRP'),\n",
       " ('was', 'VBD'),\n",
       " ('trying', 'VBG'),\n",
       " ('to', 'TO'),\n",
       " ('see', 'VB'),\n",
       " ('what', 'WP'),\n",
       " ('information', 'NN'),\n",
       " ('a', 'DT'),\n",
       " ('client', 'NN'),\n",
       " ('sends', 'VBZ'),\n",
       " ('to', 'TO'),\n",
       " ('the', 'DT'),\n",
       " ('server', 'NN'),\n",
       " ('using', 'VBG'),\n",
       " ('Chrome', 'NNP'),\n",
       " ('``', '``'),\n",
       " ('inspect', 'JJ'),\n",
       " ('element', 'NN'),\n",
       " (\"''\", \"''\"),\n",
       " (',', ','),\n",
       " ('but', 'CC'),\n",
       " ('it', 'PRP'),\n",
       " ('shows', 'VBZ'),\n",
       " ('me', 'PRP'),\n",
       " ('that', 'IN'),\n",
       " ('nothing', 'NN'),\n",
       " ('is', 'VBZ'),\n",
       " ('going', 'VBG'),\n",
       " ('on', 'IN'),\n",
       " ('.', '.'),\n",
       " ('But', 'CC'),\n",
       " ('for', 'IN'),\n",
       " ('sure', 'JJ'),\n",
       " ('the', 'DT'),\n",
       " ('communication', 'NN'),\n",
       " ('is', 'VBZ'),\n",
       " ('going', 'VBG'),\n",
       " ('on', 'IN'),\n",
       " ('.', '.'),\n",
       " ('The', 'DT'),\n",
       " ('website', 'NN'),\n",
       " ('I', 'PRP'),\n",
       " ('am', 'VBP'),\n",
       " ('interesting', 'VBG'),\n",
       " ('in', 'IN'),\n",
       " ('is', 'VBZ'),\n",
       " ('/', 'JJ'),\n",
       " ('and', 'CC'),\n",
       " ('every', 'DT'),\n",
       " ('time', 'NN'),\n",
       " ('you', 'PRP'),\n",
       " ('make', 'VBP'),\n",
       " ('a', 'DT'),\n",
       " ('move', 'NN'),\n",
       " ('it', 'PRP'),\n",
       " ('somehow', 'RB'),\n",
       " ('sends', 'VBZ'),\n",
       " ('it', 'PRP'),\n",
       " ('to', 'TO'),\n",
       " ('a', 'DT'),\n",
       " ('server', 'NN'),\n",
       " ('or', 'CC'),\n",
       " ('may', 'MD'),\n",
       " ('be', 'VB'),\n",
       " ('just', 'RB'),\n",
       " ('to', 'TO'),\n",
       " ('another', 'DT'),\n",
       " ('opponent', 'NN'),\n",
       " ('.', '.'),\n",
       " ('In', 'IN'),\n",
       " ('the', 'DT'),\n",
       " ('end', 'NN'),\n",
       " ('of', 'IN'),\n",
       " ('the', 'DT'),\n",
       " ('game', 'NN'),\n",
       " ('-', ':'),\n",
       " ('it', 'PRP'),\n",
       " ('sends', 'VBZ'),\n",
       " ('the', 'DT'),\n",
       " ('game', 'NN'),\n",
       " ('to', 'TO'),\n",
       " ('the', 'DT'),\n",
       " ('server', 'NN'),\n",
       " ('for', 'IN'),\n",
       " ('sure', 'JJ'),\n",
       " ('.', '.'),\n",
       " ('But', 'CC'),\n",
       " ('up', 'IN'),\n",
       " ('till', 'RB'),\n",
       " ('now', 'RB'),\n",
       " (',', ','),\n",
       " ('all', 'DT'),\n",
       " ('I', 'PRP'),\n",
       " ('can', 'MD'),\n",
       " ('see', 'VB'),\n",
       " ('is', 'VBZ'),\n",
       " ('just', 'RB'),\n",
       " ('few', 'JJ'),\n",
       " ('images', 'NNS'),\n",
       " (',', ','),\n",
       " ('being', 'VBG'),\n",
       " ('uploaded', 'VBN'),\n",
       " ('during', 'IN'),\n",
       " ('the', 'DT'),\n",
       " ('game', 'NN'),\n",
       " ('.', '.'),\n",
       " ('Thanks', 'NNS'),\n",
       " ('for', 'IN'),\n",
       " ('help', 'NN'),\n",
       " ('.', '.'),\n",
       " ('P.S', 'NNP'),\n",
       " ('.', '.'),\n",
       " ('I', 'PRP'),\n",
       " ('was', 'VBD'),\n",
       " ('trying', 'VBG'),\n",
       " ('to', 'TO'),\n",
       " ('use', 'VB'),\n",
       " ('wireshark', 'NN'),\n",
       " ('to', 'TO'),\n",
       " ('capture', 'VB'),\n",
       " ('packets', 'NNS'),\n",
       " ('and', 'CC'),\n",
       " ('in', 'IN'),\n",
       " ('such', 'JJ'),\n",
       " ('a', 'DT'),\n",
       " ('way', 'NN'),\n",
       " ('to', 'TO'),\n",
       " ('see', 'VB'),\n",
       " ('the', 'DT'),\n",
       " ('communication', 'NN'),\n",
       " ('.', '.'),\n",
       " ('Here', 'RB'),\n",
       " ('what', 'WP'),\n",
       " ('I', 'PRP'),\n",
       " ('was', 'VBD'),\n",
       " ('doing', 'VBG'),\n",
       " (':', ':'),\n",
       " ('Pinging', 'VBG'),\n",
       " ('chesscube.com', 'NN'),\n",
       " ('to', 'TO'),\n",
       " ('realize', 'VB'),\n",
       " ('its', 'PRP$'),\n",
       " ('ip-address', 'JJ'),\n",
       " (':', ':'),\n",
       " ('78.47.2.115', 'CD'),\n",
       " ('than', 'IN'),\n",
       " ('I', 'PRP'),\n",
       " ('am', 'VBP'),\n",
       " ('listening', 'VBG'),\n",
       " ('only', 'RB'),\n",
       " ('for', 'IN'),\n",
       " ('a', 'DT'),\n",
       " ('packages', 'NNS'),\n",
       " ('from', 'IN'),\n",
       " ('that', 'DT'),\n",
       " ('ip', 'NN'),\n",
       " ('address', 'NN'),\n",
       " ('ip.addr', 'NN'),\n",
       " ('==', '$'),\n",
       " ('78.47.2.115', 'CD'),\n",
       " ('but', 'CC'),\n",
       " ('the', 'DT'),\n",
       " ('only', 'JJ'),\n",
       " ('thing', 'NN'),\n",
       " ('I', 'PRP'),\n",
       " ('can', 'MD'),\n",
       " ('see', 'VB'),\n",
       " ('is', 'VBZ'),\n",
       " ('a', 'DT'),\n",
       " ('lot', 'NN'),\n",
       " ('of', 'IN'),\n",
       " ('TCP', 'NNP'),\n",
       " ('and', 'CC'),\n",
       " ('some', 'DT'),\n",
       " ('HTTP', 'NNP'),\n",
       " ('packages', 'NNS'),\n",
       " ('.', '.'),\n",
       " ('All', 'DT'),\n",
       " ('http', 'NN'),\n",
       " ('packages', 'NNS'),\n",
       " ('are', 'VBP'),\n",
       " ('sending', 'VBG'),\n",
       " ('just', 'RB'),\n",
       " ('png', 'JJ'),\n",
       " ('images', 'NNS'),\n",
       " ('of', 'IN'),\n",
       " ('the', 'DT'),\n",
       " ('avatars', 'NNS'),\n",
       " ('of', 'IN'),\n",
       " ('the', 'DT'),\n",
       " ('users', 'NNS'),\n",
       " ('.', '.'),\n",
       " ('There', 'EX'),\n",
       " ('is', 'VBZ'),\n",
       " ('a', 'DT'),\n",
       " ('chat', 'NN'),\n",
       " ('there', 'RB'),\n",
       " (',', ','),\n",
       " ('and', 'CC'),\n",
       " ('people', 'NNS'),\n",
       " ('are', 'VBP'),\n",
       " ('constantly', 'RB'),\n",
       " ('speaking', 'VBG'),\n",
       " ('but', 'CC'),\n",
       " ('I', 'PRP'),\n",
       " ('can', 'MD'),\n",
       " ('no', 'DT'),\n",
       " ('see', 'VB'),\n",
       " ('that', 'IN'),\n",
       " ('.', '.'),\n",
       " ('I', 'PRP'),\n",
       " ('understand', 'VBP'),\n",
       " ('that', 'IN'),\n",
       " ('it', 'PRP'),\n",
       " ('is', 'VBZ'),\n",
       " ('going', 'VBG'),\n",
       " ('from', 'IN'),\n",
       " ('another', 'DT'),\n",
       " ('IP', 'NNP'),\n",
       " ('address', 'NN'),\n",
       " (',', ','),\n",
       " ('but', 'CC'),\n",
       " ('I', 'PRP'),\n",
       " ('have', 'VBP'),\n",
       " ('no', 'DT'),\n",
       " ('idea', 'NN'),\n",
       " ('how', 'WRB'),\n",
       " ('I', 'PRP'),\n",
       " ('can', 'MD'),\n",
       " ('found', 'VB'),\n",
       " ('out', 'IN'),\n",
       " ('it', 'PRP'),\n",
       " ('.', '.'),\n",
       " ('The', 'DT'),\n",
       " ('problem', 'NN'),\n",
       " ('is', 'VBZ'),\n",
       " ('that', 'IN'),\n",
       " ('I', 'PRP'),\n",
       " ('can', 'MD'),\n",
       " ('not', 'RB'),\n",
       " ('watch', 'VB'),\n",
       " ('for', 'IN'),\n",
       " ('all', 'DT'),\n",
       " ('traffic', 'NN'),\n",
       " ('between', 'IN'),\n",
       " ('the', 'DT'),\n",
       " ('net', 'JJ'),\n",
       " ('and', 'CC'),\n",
       " ('my', 'PRP$'),\n",
       " ('computer', 'NN'),\n",
       " (',', ','),\n",
       " ('because', 'IN'),\n",
       " ('there', 'EX'),\n",
       " ('is', 'VBZ'),\n",
       " ('so', 'RB'),\n",
       " ('much', 'JJ'),\n",
       " ('of', 'IN'),\n",
       " ('it', 'PRP'),\n",
       " (',', ','),\n",
       " ('and', 'CC'),\n",
       " ('I', 'PRP'),\n",
       " ('do', 'VBP'),\n",
       " ('not', 'RB'),\n",
       " ('know', 'VB'),\n",
       " ('how', 'WRB'),\n",
       " ('limit', 'NN'),\n",
       " ('it', 'PRP'),\n",
       " ('.', '.')]"
      ]
     },
     "execution_count": 99,
     "metadata": {},
     "output_type": "execute_result"
    }
   ],
   "source": [
    "import nltk\n",
    "x = remove_urls(train['article'][0])\n",
    "x = cleanhtml(x)\n",
    "tokens = word_tokenize(x)\n",
    "tagged = nltk.pos_tag(tokens)\n",
    "tagged"
   ]
  },
  {
   "cell_type": "code",
   "execution_count": 111,
   "metadata": {},
   "outputs": [],
   "source": [
    "## Pre-Processing Script \n",
    "\n",
    "# Function to remove html tags\n",
    "def cleanhtml(raw_html):\n",
    "    cleanr = re.compile('<.*?>')\n",
    "    cleantext = re.sub(cleanr, '', raw_html)\n",
    "    return cleantext\n",
    "\n",
    "# Function to remove URLs starting with https/http \n",
    "def remove_urls (vTEXT):\n",
    "    vTEXT = re.sub(r'(https|http)?:\\/\\/(\\w|\\.|\\/|\\?|\\=|\\&|\\%)*\\b', '', vTEXT, flags=re.MULTILINE)\n",
    "    return(vTEXT)\n",
    "\n",
    "# POS TAG removal\n",
    "def pos_remover(x):\n",
    "    tokens = word_tokenize(x)\n",
    "    tagged = nltk.pos_tag(tokens)\n",
    "    pos_removed_sentence = ''\n",
    "    for i in tagged:\n",
    "        if ((i[1]=='IN')|(i[1]=='VBZ')|(i[1]=='WP')|(i[1]=='DT')|(i[1]=='TO')|(i[1]=='PRP')|(i[1]=='VB')|(i[1]=='VBG')|(i[1]=='CC')|(i[1]=='VB')|(i[1]=='MD')):\n",
    "            continue\n",
    "        else:\n",
    "            pos_removed_sentence = pos_removed_sentence +\" \"+i[0]\n",
    "    return pos_removed_sentence \n",
    "\n",
    "# Create a unique list without repetition of words \n",
    "def unique_list(l):\n",
    "    ulist = []\n",
    "    [ulist.append(x) for x in l if x not in ulist]\n",
    "    return ulist\n",
    "a = ' '.join(unique_list(a.split()))"
   ]
  },
  {
   "cell_type": "code",
   "execution_count": 115,
   "metadata": {},
   "outputs": [],
   "source": [
    "def preprocessing(x):\n",
    "    x = remove_urls(x)\n",
    "    x = cleanhtml(x)\n",
    "    tokens = word_tokenize(str(x))\n",
    "    tagged = nltk.pos_tag(tokens)\n",
    "    x = pos_remover(tagged)\n",
    "    x = str(x).lower()\n",
    "    x = remove_stopwords(x)\n",
    "    x = strip_punctuation(x)\n",
    "    x = strip_multiple_whitespaces(x)\n",
    "    x = ' '.join([re.sub(r'\\d+', '',i) for i in word_tokenize(x)])\n",
    "    x = ' '.join(unique_list(x.split()))\n",
    "    return x"
   ]
  },
  {
   "cell_type": "code",
   "execution_count": 117,
   "metadata": {},
   "outputs": [],
   "source": [
    "x = remove_urls(train['article'][0])"
   ]
  },
  {
   "cell_type": "code",
   "execution_count": 118,
   "metadata": {},
   "outputs": [
    {
     "data": {
      "text/plain": [
       "'<p>Is there a way to find what sort of requests does a Flash application send to a server?</p>\\r\\r\\r\\r\\n\\r\\r\\r\\r\\n<p>I was trying to see what information a client sends to the server using Chrome \"inspect element\", but it shows me that nothing is going on.</p>\\r\\r\\r\\r\\n\\r\\r\\r\\r\\n<p>But for sure the communication is going on. The website I am interesting in is <a href=\"/\" rel=\"nofollow\">/</a> and every time you make a move it somehow sends it to a server or may be just to another opponent. In the end of the game - it sends the game to the server for sure. But up till now, all I can see is just few images, being uploaded during the game.</p>\\r\\r\\r\\r\\n\\r\\r\\r\\r\\n<p>Thanks for help.</p>\\r\\r\\r\\r\\n\\r\\r\\r\\r\\n<p>P.S. I was trying to use wireshark to capture packets and in such a way to see the communication. Here what I was doing:</p>\\r\\r\\r\\r\\n\\r\\r\\r\\r\\n<p>Pinging chesscube.com to realize its ip-address: 78.47.2.115\\r\\r\\r\\r\\nthan I am listening only for a packages from that ip address ip.addr == 78.47.2.115\\r\\r\\r\\r\\nbut the only thing I can see is a lot of TCP and some HTTP packages. All http packages are sending just png images of the avatars of the users. There is a chat there, and people are constantly speaking but I can no see that. I understand that it is going from another IP address, but I have no idea how I can found out it. The problem is that I can not watch for all traffic between the net and my computer, because there is so much of it, and I do not know how limit it.</p>'"
      ]
     },
     "execution_count": 118,
     "metadata": {},
     "output_type": "execute_result"
    }
   ],
   "source": [
    "x"
   ]
  },
  {
   "cell_type": "code",
   "execution_count": 119,
   "metadata": {},
   "outputs": [
    {
     "data": {
      "text/plain": [
       "'<p>Is there a way to find what sort of requests does a Flash application send to a server?</p>\\r\\r\\r\\r\\n\\r\\r\\r\\r\\n<p>I was trying to see what information a client sends to the server using Chrome \"inspect element\", but it shows me that nothing is going on.</p>\\r\\r\\r\\r\\n\\r\\r\\r\\r\\n<p>But for sure the communication is going on. The website I am interesting in is <a href=\"http://www.chesscube.com/\" rel=\"nofollow\">http://www.chesscube.com/</a> and every time you make a move it somehow sends it to a server or may be just to another opponent. In the end of the game - it sends the game to the server for sure. But up till now, all I can see is just few images, being uploaded during the game.</p>\\r\\r\\r\\r\\n\\r\\r\\r\\r\\n<p>Thanks for help.</p>\\r\\r\\r\\r\\n\\r\\r\\r\\r\\n<p>P.S. I was trying to use wireshark to capture packets and in such a way to see the communication. Here what I was doing:</p>\\r\\r\\r\\r\\n\\r\\r\\r\\r\\n<p>Pinging chesscube.com to realize its ip-address: 78.47.2.115\\r\\r\\r\\r\\nthan I am listening only for a packages from that ip address ip.addr == 78.47.2.115\\r\\r\\r\\r\\nbut the only thing I can see is a lot of TCP and some HTTP packages. All http packages are sending just png images of the avatars of the users. There is a chat there, and people are constantly speaking but I can no see that. I understand that it is going from another IP address, but I have no idea how I can found out it. The problem is that I can not watch for all traffic between the net and my computer, because there is so much of it, and I do not know how limit it.</p>'"
      ]
     },
     "execution_count": 119,
     "metadata": {},
     "output_type": "execute_result"
    }
   ],
   "source": [
    "train['article'][0]"
   ]
  },
  {
   "cell_type": "code",
   "execution_count": null,
   "metadata": {},
   "outputs": [],
   "source": []
  }
 ],
 "metadata": {
  "kernelspec": {
   "display_name": "Python 3",
   "language": "python",
   "name": "python3"
  },
  "language_info": {
   "codemirror_mode": {
    "name": "ipython",
    "version": 3
   },
   "file_extension": ".py",
   "mimetype": "text/x-python",
   "name": "python",
   "nbconvert_exporter": "python",
   "pygments_lexer": "ipython3",
   "version": "3.6.5"
  }
 },
 "nbformat": 4,
 "nbformat_minor": 2
}
