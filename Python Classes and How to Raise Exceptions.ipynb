{
 "cells": [
  {
   "cell_type": "code",
   "execution_count": 3,
   "metadata": {},
   "outputs": [
    {
     "name": "stdout",
     "output_type": "stream",
     "text": [
      "<__main__.Snake object at 0x000001F4482E7FD0>\n"
     ]
    }
   ],
   "source": [
    "class Snake:\n",
    "    pass\n",
    "snake = Snake()\n",
    "#snake is the instance for class Snake\n",
    "print(snake)"
   ]
  },
  {
   "cell_type": "code",
   "execution_count": 7,
   "metadata": {},
   "outputs": [
    {
     "name": "stdout",
     "output_type": "stream",
     "text": [
      "PYTHON\n",
      "Alpha\n"
     ]
    }
   ],
   "source": [
    "class Snake:\n",
    "    name = \"PYTHON\"\n",
    "snake = Snake()\n",
    "#The class attributes can be accessed using instances. This is done using dot operator\n",
    "print(snake.name)\n",
    "snake.name = \"Alpha\"\n",
    "print(snake.name)"
   ]
  },
  {
   "cell_type": "code",
   "execution_count": 11,
   "metadata": {},
   "outputs": [
    {
     "name": "stdout",
     "output_type": "stream",
     "text": [
      "Python\n",
      "Anaconda\n"
     ]
    }
   ],
   "source": [
    "# Once we have attributes that belong to a particular class we can define function (methods) that will access the class attributes\n",
    "#First argument to a method should be self\n",
    "class Snake:\n",
    "    name = \"Python\"\n",
    "    def change_name(self,new_name):\n",
    "        self.name = new_name \n",
    "        #Notice that \"self\" is used to access the class attribute\n",
    "    \n",
    "snake = Snake()\n",
    "print(snake.name)\n",
    "snake.change_name(\"Anaconda\")\n",
    "print(snake.name)"
   ]
  },
  {
   "cell_type": "code",
   "execution_count": 13,
   "metadata": {},
   "outputs": [
    {
     "name": "stdout",
     "output_type": "stream",
     "text": [
      "Python\n",
      "Anaconda\n"
     ]
    }
   ],
   "source": [
    "# Init method is used to provide the values of the attributes at the runtime. One has to define the attributes inside \n",
    "# the init method\n",
    "class Snake:\n",
    "    \n",
    "    def __init__(self,name):\n",
    "        self.name = name \n",
    "    def change_name(self,new_name):\n",
    "        self.name = new_name\n",
    "        \n",
    "python = Snake(\"Python\")\n",
    "anaconda = Snake(\"Anaconda\")\n",
    "print(python.name)\n",
    "print(anaconda.name)"
   ]
  },
  {
   "cell_type": "code",
   "execution_count": 15,
   "metadata": {
    "collapsed": true
   },
   "outputs": [],
   "source": [
    "# Inheritance is used to build relationship between different classes\n",
    "# The methods and attributes present in base class will also be present in inherited class \n",
    "# Syntax for inheritance is below :\n",
    "\n",
    "#class DerivedClassName(BaseClassName):\n",
    "   # pass"
   ]
  },
  {
   "cell_type": "code",
   "execution_count": 25,
   "metadata": {},
   "outputs": [
    {
     "name": "stdout",
     "output_type": "stream",
     "text": [
      "simple rocket has reached till stratosphere\n",
      "mars_rover has reached till Mars\n",
      "mars_rover launched by ISRO\n"
     ]
    }
   ],
   "source": [
    "# Python Inheritance\n",
    "class Rocket:\n",
    "    def __init__(self,name,distance):\n",
    "        self.name = name\n",
    "        self.distance = distance\n",
    "        \n",
    "    def launch(self):\n",
    "        return (\"%s has reached %s\" % (self.name,self.distance))\n",
    "    \n",
    "\n",
    "class MarsRover(Rocket):\n",
    "        \n",
    "    def __init__(self,name,distance,maker):\n",
    "            Rocket.__init__(self,name,distance)\n",
    "            self.maker = maker \n",
    "        \n",
    "    def get_maker(self):\n",
    "            return (\"%s launched by %s\" % (self.name,self.maker))\n",
    "    \n",
    "\n",
    "if __name__ == \"__main__\":\n",
    "    x = Rocket(\"simple rocket\",\"till stratosphere\")\n",
    "    y = MarsRover(\"mars_rover\",\"till Mars\",\"ISRO\")\n",
    "    print(x.launch())\n",
    "    print(y.launch())\n",
    "    print(y.get_maker())"
   ]
  },
  {
   "cell_type": "code",
   "execution_count": 30,
   "metadata": {},
   "outputs": [
    {
     "name": "stdout",
     "output_type": "stream",
     "text": [
      "mars_rover2 has reached till_mars\n",
      "mars_rover2 launched by ISRO2\n"
     ]
    }
   ],
   "source": [
    "# Python Composition : to establish relationship between classes\n",
    "class Rocket:\n",
    "    def __init__(self,name,distance):\n",
    "        self.name = name\n",
    "        self.distance = distance\n",
    "        \n",
    "    def launch(self):\n",
    "        return (\"%s has reached %s\" % (self.name,self.distance))\n",
    "    \n",
    "class MarsRoversComp():\n",
    "    \n",
    "    def __init__(self,name,distance,maker):\n",
    "        self.rocket = Rocket(name,distance)\n",
    "        self.maker = maker \n",
    "        \n",
    "    def get_maker(self):\n",
    "        return(\"%s Launched by %s\" % (self.rocket.name,self.maker))\n",
    "    \n",
    "if __name__ == \"__main__\":\n",
    "    z = MarsRover(\"mars_rover2\",\"till_mars\",\"ISRO2\")\n",
    "    print(z.launch())\n",
    "    print(z.get_maker())"
   ]
  },
  {
   "cell_type": "code",
   "execution_count": 32,
   "metadata": {},
   "outputs": [
    {
     "name": "stdout",
     "output_type": "stream",
     "text": [
      "Hello World\n",
      "Finally block is always executed no matter if the error occured or not\n"
     ]
    }
   ],
   "source": [
    "# Python Errors and Exceptions(try:except:finally construct)\n",
    "# Common errors include : IOError, ImportError, ValueError, KeyboardInterrupt, EOF Error\n",
    "try:\n",
    "    print(\"Hello World\")\n",
    "except:\n",
    "    print(\"The control will be passed on to the except block only if there is error in try block\")\n",
    "finally:\n",
    "    print(\"Finally block is always executed no matter if the error occured or not\")"
   ]
  },
  {
   "cell_type": "code",
   "execution_count": 34,
   "metadata": {},
   "outputs": [
    {
     "name": "stdout",
     "output_type": "stream",
     "text": [
      "The control will be passed on to the except block only if there is error in try block\n",
      "Finally block is always executed no matter if the error occured or not\n"
     ]
    }
   ],
   "source": [
    "# Python Errors and Exceptions(try:except:finally construct)\n",
    "# Common errors include : IOError, ImportError, ValueError, KeyboardInterrupt, EOF Error\n",
    "try:\n",
    "    a = 1/0\n",
    "    print(a)\n",
    "except:\n",
    "    print(\"The control will be passed on to the except block only if there is error in try block\")\n",
    "finally:\n",
    "    print(\"Finally block is always executed no matter if the error occured or not\")"
   ]
  },
  {
   "cell_type": "code",
   "execution_count": 5,
   "metadata": {},
   "outputs": [
    {
     "name": "stdout",
     "output_type": "stream",
     "text": [
      "-35\n",
      "Please enter a positive number\n"
     ]
    }
   ],
   "source": [
    "# Raising errors for predefined conditions (like allowing only positive integers)\n",
    "\n",
    "try:\n",
    "    user = int(input())\n",
    "    if user<0:\n",
    "        raise ValueError(\"Please enter a positive number\")\n",
    "    else :\n",
    "        print(\"user input : %s\" %user)\n",
    "except ValueError as e:\n",
    "    print(e)"
   ]
  },
  {
   "cell_type": "code",
   "execution_count": 1,
   "metadata": {},
   "outputs": [
    {
     "data": {
      "text/plain": [
       "4"
      ]
     },
     "execution_count": 1,
     "metadata": {},
     "output_type": "execute_result"
    }
   ],
   "source": [
    "2+2"
   ]
  },
  {
   "cell_type": "code",
   "execution_count": null,
   "metadata": {
    "collapsed": true
   },
   "outputs": [],
   "source": []
  }
 ],
 "metadata": {
  "kernelspec": {
   "display_name": "Python 3",
   "language": "python",
   "name": "python3"
  },
  "language_info": {
   "codemirror_mode": {
    "name": "ipython",
    "version": 3
   },
   "file_extension": ".py",
   "mimetype": "text/x-python",
   "name": "python",
   "nbconvert_exporter": "python",
   "pygments_lexer": "ipython3",
   "version": "3.6.1"
  }
 },
 "nbformat": 4,
 "nbformat_minor": 2
}
