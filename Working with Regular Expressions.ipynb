{
 "cells": [
  {
   "cell_type": "markdown",
   "metadata": {},
   "source": [
    "# REGULAR EXPRESSIONS USAGE EXAMPLES"
   ]
  },
  {
   "cell_type": "code",
   "execution_count": 50,
   "metadata": {},
   "outputs": [
    {
     "name": "stdout",
     "output_type": "stream",
     "text": [
      "['csev@umich.edu', 'cwen@iupui.edu']\n"
     ]
    }
   ],
   "source": [
    "# Find all e-mail addresses in texts\n",
    "# '\\S' is used for a non-white-space character\n",
    "# + means to cover all the non-white \n",
    "s = 'A message from csev@umich.edu to cwen@iupui.edu about meeting @2PM'\n",
    "lst = re.findall('\\S+@\\S+',s)\n",
    "print(lst)"
   ]
  },
  {
   "cell_type": "code",
   "execution_count": 60,
   "metadata": {},
   "outputs": [
    {
     "name": "stdout",
     "output_type": "stream",
     "text": [
      "['csev@umich.edu', 'cwen@iupui.edu']\n"
     ]
    }
   ],
   "source": [
    "# Some of the text in e-mail id may contain characters like <,>,? which are not read as e-mail.\n",
    "# Hence, we need to make Python understand the set of acceptable characters \n",
    "# We switched from + to * to indicate the presence of more non-blank characters\n",
    "s = 'A message from <csev@umich.edu to cwen@iupui.edu about meeting @2PM'\n",
    "lst = re.findall('[a-zA-Z0-9]\\S*@\\S*[a-zA-Z]',s)\n",
    "print(lst)"
   ]
  },
  {
   "cell_type": "code",
   "execution_count": 89,
   "metadata": {},
   "outputs": [
    {
     "name": "stdout",
     "output_type": "stream",
     "text": [
      "['X-DSPAM-Confidence: 0.8475', 'X-jSPAM-Confidence: 0.52275']\n",
      "['X-DSPAM-Confidence: 0.8475', 'X-jSPAM-Confidence: 0.52275']\n",
      "['0.8475', '0.52275']\n"
     ]
    }
   ],
   "source": [
    "# ^ symbol always tries matching at the start of the line\n",
    "# If we wan't only numbers to be printed then the below code should come inside the paranthesis\n",
    "# . inside square bracket denotes presence of decial\n",
    "s = 'A message from <csev@umich.edu to cwen@iupui.edu about meeting @2PM X-DSPAM-Confidence: 0.8475 and beta X-jSPAM-Confidence: 0.52275'      \n",
    "lst = re.findall('X\\S*: [0-9.]+',s)\n",
    "print(lst)\n",
    "lst2 = re.findall('X\\S*: [0-9.]+',s)\n",
    "print(lst2)\n",
    "lst3 = re.findall('X\\S*: ([0-9.]+)',s)\n",
    "print(lst3)"
   ]
  },
  {
   "cell_type": "code",
   "execution_count": 92,
   "metadata": {},
   "outputs": [
    {
     "name": "stdout",
     "output_type": "stream",
     "text": [
      "['39772']\n"
     ]
    }
   ],
   "source": [
    "#e [0-9]+ is “greedy” and it tries to make as large a string of digits as possible before extracting those digits\n",
    "s = 'Details: http://source.sakaiproject.org/viewsvn/?view=rev&rev=39772'\n",
    "x = re.findall('^Details:.*rev=([0-9.]+)', s)\n",
    "print(x)"
   ]
  },
  {
   "cell_type": "code",
   "execution_count": 96,
   "metadata": {},
   "outputs": [
    {
     "name": "stdout",
     "output_type": "stream",
     "text": [
      "['14']\n"
     ]
    }
   ],
   "source": [
    "# Extract minutes from the clock timings \n",
    "# .* means to continue till you find first number and bracket part is to be printed \n",
    "s = 'From stephen.marquard@uct.ac.za Sat Jan 5 09:14:16 2008'\n",
    "x = re.findall('^From .*[0-9][0-9]:([0-9][0-9]):',s)\n",
    "print(x)"
   ]
  },
  {
   "cell_type": "code",
   "execution_count": 98,
   "metadata": {},
   "outputs": [
    {
     "name": "stdout",
     "output_type": "stream",
     "text": [
      "['$10.00']\n"
     ]
    }
   ],
   "source": [
    "# we want to simply match a character by prefixing that character with a backslash\n",
    "x = 'We just received $10.00 for cookies.'\n",
    "y = re.findall('\\$[0-9.]+',x)\n",
    "print(y)"
   ]
  }
 ],
 "metadata": {
  "kernelspec": {
   "display_name": "Python 3",
   "language": "python",
   "name": "python3"
  },
  "language_info": {
   "codemirror_mode": {
    "name": "ipython",
    "version": 3
   },
   "file_extension": ".py",
   "mimetype": "text/x-python",
   "name": "python",
   "nbconvert_exporter": "python",
   "pygments_lexer": "ipython3",
   "version": "3.6.1"
  }
 },
 "nbformat": 4,
 "nbformat_minor": 2
}
