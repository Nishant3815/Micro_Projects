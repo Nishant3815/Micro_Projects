{
 "cells": [
  {
   "cell_type": "markdown",
   "metadata": {},
   "source": [
    "# Selection Sort "
   ]
  },
  {
   "cell_type": "code",
   "execution_count": 48,
   "metadata": {
    "collapsed": false
   },
   "outputs": [
    {
     "name": "stdout",
     "output_type": "stream",
     "text": [
      "The min_idx is :  0\n",
      "Sorted array step : \n",
      "1\n",
      "3\n",
      "5\n",
      "2\n",
      "6\n",
      "The min_idx is :  1\n",
      "Sorted array step : \n",
      "1\n",
      "2\n",
      "5\n",
      "3\n",
      "6\n",
      "The min_idx is :  2\n",
      "Sorted array step : \n",
      "1\n",
      "2\n",
      "3\n",
      "5\n",
      "6\n",
      "The min_idx is :  3\n",
      "Sorted array step : \n",
      "1\n",
      "2\n",
      "3\n",
      "5\n",
      "6\n",
      "The min_idx is :  4\n",
      "Sorted array step : \n",
      "1\n",
      "2\n",
      "3\n",
      "5\n",
      "6\n"
     ]
    }
   ],
   "source": [
    "# First find a minimum element and place it at the beginning of the array and then restart the process with the next term\n",
    "# Time complexity will be O(n^2)\n",
    "A = [6,3,5,2,1]\n",
    "for i in range(len(A)):\n",
    "    min_idx = i;\n",
    "    print(\"The min_idx is : \",i)\n",
    "    for j in range(i+1,len(A)):\n",
    "        if(A[min_idx]>A[j]):\n",
    "            min_idx = j\n",
    "    A[i],A[min_idx]= A[min_idx],A[i]\n",
    "    print(\"Sorted array step : \")\n",
    "    for i in range(len(A)):\n",
    "        print(\"%d\" %A[i])\n",
    "        "
   ]
  },
  {
   "cell_type": "markdown",
   "metadata": {},
   "source": [
    "# Bubble Sort"
   ]
  },
  {
   "cell_type": "code",
   "execution_count": 1,
   "metadata": {
    "collapsed": true
   },
   "outputs": [],
   "source": [
    "#Repeated swapping of adjacent elements if they are in wrong order \n",
    "#Time complexity is O(n^2)"
   ]
  },
  {
   "cell_type": "code",
   "execution_count": 2,
   "metadata": {
    "collapsed": false
   },
   "outputs": [
    {
     "name": "stdout",
     "output_type": "stream",
     "text": [
      "Enter the number of elements of an array you want : 6\n",
      "The element is :7\n",
      "The element is :1\n",
      "The element is :4\n",
      "The element is :3\n",
      "The element is :2\n",
      "The element is :9\n",
      "The array is :  ['7', '1', '4', '3', '2', '9']\n"
     ]
    }
   ],
   "source": [
    "array = list()\n",
    "a = input(\"Enter the number of elements of an array you want : \")\n",
    "for i in range(int(a)):\n",
    "    b = input(\"The element is :\")\n",
    "    array.append(b)\n",
    "print(\"The array is : \",array)"
   ]
  },
  {
   "cell_type": "code",
   "execution_count": 3,
   "metadata": {
    "collapsed": false
   },
   "outputs": [
    {
     "name": "stdout",
     "output_type": "stream",
     "text": [
      "1\n",
      "3\n",
      "2\n",
      "4\n",
      "7\n",
      "9\n"
     ]
    }
   ],
   "source": [
    "for i in range(len(array)):\n",
    "    min_idx = i\n",
    "    for j in range(i+1,len(array)):\n",
    "        if (array[min_idx]>array[j]):\n",
    "            array[min_idx],array[j]=array[j],array[min_idx]\n",
    "            min_idx = j\n",
    "for i in range(len(array)):\n",
    "        print(array[i])        \n",
    "        \n",
    "    "
   ]
  },
  {
   "cell_type": "markdown",
   "metadata": {},
   "source": [
    "# Merge Sort "
   ]
  },
  {
   "cell_type": "code",
   "execution_count": 3,
   "metadata": {
    "collapsed": true
   },
   "outputs": [],
   "source": [
    "#Works on the principle of divide and conquer,breaks the array into two parts and then again merges it \n",
    "#Find the middle point and divide it into two parts,apply merge sort on first and second half and then merge it.\n",
    "#Time complexity - O(n(log(n)))"
   ]
  },
  {
   "cell_type": "code",
   "execution_count": 91,
   "metadata": {
    "collapsed": false
   },
   "outputs": [
    {
     "name": "stdout",
     "output_type": "stream",
     "text": [
      "Enter the number of elements of an array you want : 3\n",
      "The element is :9\n",
      "The element is :2\n",
      "The element is :7\n",
      "The array is :  ['9', '2', '7']\n"
     ]
    }
   ],
   "source": [
    "arr = list()\n",
    "a = input(\"Enter the number of elements of an array you want : \")\n",
    "for i in range(int(a)):\n",
    "    b = input(\"The element is :\")\n",
    "    arr.append(b)\n",
    "lst = []\n",
    "lst = arr\n",
    "print(\"The array is : \",arr)"
   ]
  },
  {
   "cell_type": "code",
   "execution_count": 92,
   "metadata": {
    "collapsed": true
   },
   "outputs": [],
   "source": [
    "def merge_sort(lst):\n",
    "    print(\"Splitting\",lst)\n",
    "    if len(lst)>1 :\n",
    "        mid = len(lst)//2\n",
    "        left = lst[0:mid]\n",
    "        right = lst[mid:]\n",
    "        merge_sort(left)\n",
    "        merge_sort(right)\n",
    "        i=0\n",
    "        j=0\n",
    "        k=0\n",
    "        while i<len(left) and j<len(right):\n",
    "            if left[i]<right[j] :\n",
    "                lst[k] = left[i]\n",
    "                i = i+1\n",
    "            else:\n",
    "                lst[k] = right[j]\n",
    "                j=j+1\n",
    "            k=k+1\n",
    "        while i<len(left):\n",
    "            lst[k] = left[i]\n",
    "            i = i+1\n",
    "            k = k+1\n",
    "        while j<len(right):\n",
    "            lst[k] = right[j]\n",
    "            j = j+1\n",
    "            k = k+1\n",
    "    print(\"Merging\",lst)\n",
    "            \n",
    "            "
   ]
  },
  {
   "cell_type": "code",
   "execution_count": 93,
   "metadata": {
    "collapsed": false
   },
   "outputs": [
    {
     "name": "stdout",
     "output_type": "stream",
     "text": [
      "Splitting ['9', '2', '7']\n",
      "Splitting ['9']\n",
      "Merging ['9']\n",
      "Splitting ['2', '7']\n",
      "Splitting ['2']\n",
      "Merging ['2']\n",
      "Splitting ['7']\n",
      "Merging ['7']\n",
      "Merging ['2', '7']\n",
      "Merging ['2', '7', '9']\n"
     ]
    },
    {
     "data": {
      "text/plain": [
       "['2', '7', '9']"
      ]
     },
     "execution_count": 93,
     "metadata": {},
     "output_type": "execute_result"
    }
   ],
   "source": [
    "merge_sort(lst)\n",
    "lst"
   ]
  },
  {
   "cell_type": "code",
   "execution_count": null,
   "metadata": {
    "collapsed": true
   },
   "outputs": [],
   "source": []
  }
 ],
 "metadata": {
  "anaconda-cloud": {},
  "kernelspec": {
   "display_name": "Python [Root]",
   "language": "python",
   "name": "Python [Root]"
  },
  "language_info": {
   "codemirror_mode": {
    "name": "ipython",
    "version": 3
   },
   "file_extension": ".py",
   "mimetype": "text/x-python",
   "name": "python",
   "nbconvert_exporter": "python",
   "pygments_lexer": "ipython3",
   "version": "3.5.2"
  }
 },
 "nbformat": 4,
 "nbformat_minor": 0
}
