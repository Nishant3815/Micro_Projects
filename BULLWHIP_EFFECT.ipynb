{
 "cells": [
  {
   "cell_type": "code",
   "execution_count": 62,
   "metadata": {
    "collapsed": true
   },
   "outputs": [],
   "source": [
    "\n",
    "#Initial imports \n",
    "import numpy as np\n",
    "import pandas as pd \n",
    "from pandas import DataFrame, Series\n",
    "import matplotlib.pyplot as plt\n",
    "import seaborn as sns\n",
    "from scipy import stats\n",
    "%matplotlib inline\n",
    "from IPython.core.interactiveshell import InteractiveShell #Show all consecutive outputs\n",
    "InteractiveShell.ast_node_interactivity = \"all\""
   ]
  },
  {
   "cell_type": "code",
   "execution_count": 104,
   "metadata": {
    "collapsed": false
   },
   "outputs": [],
   "source": [
    "demand = np.array([123,118,144,146,131,131,134,123,112,135,131,137])\n",
    "demand = demand.astype(np.float32)"
   ]
  },
  {
   "cell_type": "code",
   "execution_count": 122,
   "metadata": {
    "collapsed": false
   },
   "outputs": [
    {
     "data": {
      "text/plain": [
       "118.0"
      ]
     },
     "execution_count": 122,
     "metadata": {},
     "output_type": "execute_result"
    }
   ],
   "source": [
    "demand[1]"
   ]
  },
  {
   "cell_type": "code",
   "execution_count": 106,
   "metadata": {
    "collapsed": false
   },
   "outputs": [
    {
     "data": {
      "text/plain": [
       "130.41667"
      ]
     },
     "execution_count": 106,
     "metadata": {},
     "output_type": "execute_result"
    }
   ],
   "source": [
    "mean_demand = demand.mean()\n",
    "mean_demand"
   ]
  },
  {
   "cell_type": "code",
   "execution_count": 107,
   "metadata": {
    "collapsed": false
   },
   "outputs": [],
   "source": [
    "stand_demand = np.std(demand)\n",
    "variance_demand = stand_demand*stand_demand"
   ]
  },
  {
   "cell_type": "code",
   "execution_count": 108,
   "metadata": {
    "collapsed": false
   },
   "outputs": [
    {
     "data": {
      "text/plain": [
       "92.409729"
      ]
     },
     "execution_count": 108,
     "metadata": {},
     "output_type": "execute_result"
    }
   ],
   "source": [
    "variance_demand"
   ]
  },
  {
   "cell_type": "code",
   "execution_count": 109,
   "metadata": {
    "collapsed": true
   },
   "outputs": [],
   "source": [
    "ts = (demand)"
   ]
  },
  {
   "cell_type": "code",
   "execution_count": 110,
   "metadata": {
    "collapsed": false
   },
   "outputs": [],
   "source": [
    "from statsmodels.tsa.arima_model import ARIMA\n",
    "model = ARIMA(ts, order=(1, 0, 0))  \n"
   ]
  },
  {
   "cell_type": "code",
   "execution_count": 111,
   "metadata": {
    "collapsed": false,
    "scrolled": true
   },
   "outputs": [],
   "source": [
    "results = model.fit(disp=0)"
   ]
  },
  {
   "cell_type": "code",
   "execution_count": 112,
   "metadata": {
    "collapsed": false
   },
   "outputs": [
    {
     "data": {
      "text/html": [
       "<table class=\"simpletable\">\n",
       "<caption>ARMA Model Results</caption>\n",
       "<tr>\n",
       "  <th>Dep. Variable:</th>         <td>y</td>        <th>  No. Observations:  </th>   <td>12</td>   \n",
       "</tr>\n",
       "<tr>\n",
       "  <th>Model:</th>            <td>ARMA(1, 0)</td>    <th>  Log Likelihood     </th> <td>-44.026</td>\n",
       "</tr>\n",
       "<tr>\n",
       "  <th>Method:</th>             <td>css-mle</td>     <th>  S.D. of innovations</th>  <td>9.476</td> \n",
       "</tr>\n",
       "<tr>\n",
       "  <th>Date:</th>          <td>Thu, 13 Apr 2017</td> <th>  AIC                </th> <td>94.051</td> \n",
       "</tr>\n",
       "<tr>\n",
       "  <th>Time:</th>              <td>18:49:08</td>     <th>  BIC                </th> <td>95.506</td> \n",
       "</tr>\n",
       "<tr>\n",
       "  <th>Sample:</th>                <td>0</td>        <th>  HQIC               </th> <td>93.513</td> \n",
       "</tr>\n",
       "<tr>\n",
       "  <th></th>                       <td> </td>        <th>                     </th>    <td> </td>   \n",
       "</tr>\n",
       "</table>\n",
       "<table class=\"simpletable\">\n",
       "<tr>\n",
       "     <td></td>        <th>coef</th>     <th>std err</th>      <th>z</th>      <th>P>|z|</th> <th>[95.0% Conf. Int.]</th> \n",
       "</tr>\n",
       "<tr>\n",
       "  <th>const</th>   <td>  130.4037</td> <td>    3.213</td> <td>   40.582</td> <td> 0.000</td> <td>  124.106   136.702</td>\n",
       "</tr>\n",
       "<tr>\n",
       "  <th>ar.L1.y</th> <td>    0.1621</td> <td>    0.285</td> <td>    0.569</td> <td> 0.582</td> <td>   -0.396     0.720</td>\n",
       "</tr>\n",
       "</table>\n",
       "<table class=\"simpletable\">\n",
       "<caption>Roots</caption>\n",
       "<tr>\n",
       "    <td></td>   <th>           Real</th> <th>         Imaginary</th> <th>         Modulus</th> <th>        Frequency</th>\n",
       "</tr>\n",
       "<tr>\n",
       "  <th>AR.1</th>               6.1694                    +0.0000j                    6.1694                    0.0000     \n",
       "</tr>\n",
       "</table>"
      ],
      "text/plain": [
       "<class 'statsmodels.iolib.summary.Summary'>\n",
       "\"\"\"\n",
       "                              ARMA Model Results                              \n",
       "==============================================================================\n",
       "Dep. Variable:                      y   No. Observations:                   12\n",
       "Model:                     ARMA(1, 0)   Log Likelihood                 -44.026\n",
       "Method:                       css-mle   S.D. of innovations              9.476\n",
       "Date:                Thu, 13 Apr 2017   AIC                             94.051\n",
       "Time:                        18:49:08   BIC                             95.506\n",
       "Sample:                             0   HQIC                            93.513\n",
       "                                                                              \n",
       "==============================================================================\n",
       "                 coef    std err          z      P>|z|      [95.0% Conf. Int.]\n",
       "------------------------------------------------------------------------------\n",
       "const        130.4037      3.213     40.582      0.000       124.106   136.702\n",
       "ar.L1.y        0.1621      0.285      0.569      0.582        -0.396     0.720\n",
       "                                    Roots                                    \n",
       "=============================================================================\n",
       "                 Real           Imaginary           Modulus         Frequency\n",
       "-----------------------------------------------------------------------------\n",
       "AR.1            6.1694           +0.0000j            6.1694            0.0000\n",
       "-----------------------------------------------------------------------------\n",
       "\"\"\""
      ]
     },
     "execution_count": 112,
     "metadata": {},
     "output_type": "execute_result"
    }
   ],
   "source": [
    "results.summary()"
   ]
  },
  {
   "cell_type": "code",
   "execution_count": 130,
   "metadata": {
    "collapsed": false
   },
   "outputs": [],
   "source": [
    "a = []\n",
    "for i in range(1,12):\n",
    "    b = (130.4037+0.1621*demand[i-1])\n",
    "    a.append(b)"
   ]
  },
  {
   "cell_type": "code",
   "execution_count": 131,
   "metadata": {
    "collapsed": false
   },
   "outputs": [
    {
     "data": {
      "text/plain": [
       "[150.34199999999998,\n",
       " 149.53149999999999,\n",
       " 153.74609999999998,\n",
       " 154.07029999999997,\n",
       " 151.63879999999997,\n",
       " 151.63879999999997,\n",
       " 152.12509999999997,\n",
       " 150.34199999999998,\n",
       " 148.55889999999999,\n",
       " 152.28719999999998,\n",
       " 151.63879999999997]"
      ]
     },
     "execution_count": 131,
     "metadata": {},
     "output_type": "execute_result"
    }
   ],
   "source": [
    "a"
   ]
  },
  {
   "cell_type": "code",
   "execution_count": 135,
   "metadata": {
    "collapsed": false
   },
   "outputs": [],
   "source": [
    "err = []\n",
    "for i in range(1,11):\n",
    "    error = demand[i] - a[i] \n",
    "    err.append(error)"
   ]
  },
  {
   "cell_type": "code",
   "execution_count": 136,
   "metadata": {
    "collapsed": false
   },
   "outputs": [
    {
     "data": {
      "text/plain": [
       "[-31.531499999999994,\n",
       " -9.7460999999999842,\n",
       " -8.0702999999999747,\n",
       " -20.638799999999975,\n",
       " -20.638799999999975,\n",
       " -18.125099999999975,\n",
       " -27.341999999999985,\n",
       " -36.558899999999994,\n",
       " -17.287199999999984,\n",
       " -20.638799999999975]"
      ]
     },
     "execution_count": 136,
     "metadata": {},
     "output_type": "execute_result"
    }
   ],
   "source": [
    "err"
   ]
  },
  {
   "cell_type": "code",
   "execution_count": 138,
   "metadata": {
    "collapsed": false
   },
   "outputs": [
    {
     "data": {
      "text/plain": [
       "155.6315789473684"
      ]
     },
     "execution_count": 138,
     "metadata": {},
     "output_type": "execute_result"
    }
   ],
   "source": [
    "expected = 130.4037/(1-0.1621)\n",
    "expected"
   ]
  },
  {
   "cell_type": "code",
   "execution_count": 139,
   "metadata": {
    "collapsed": true
   },
   "outputs": [],
   "source": [
    "varian_dt = variance_demand/(1-0.162*0.1621)"
   ]
  },
  {
   "cell_type": "code",
   "execution_count": 140,
   "metadata": {
    "collapsed": false
   },
   "outputs": [
    {
     "data": {
      "text/plain": [
       "94.901871119888753"
      ]
     },
     "execution_count": 140,
     "metadata": {},
     "output_type": "execute_result"
    }
   ],
   "source": [
    "varian_dt"
   ]
  },
  {
   "cell_type": "code",
   "execution_count": 172,
   "metadata": {
    "collapsed": false
   },
   "outputs": [],
   "source": [
    "for_demand = []\n",
    "for i in range(1,13):\n",
    "    if(i==1):\n",
    "        fd = 123\n",
    "        for_demand.append(fd)\n",
    "    else:\n",
    "        p = for_demand[i-2] + 0.3*(demand[i-2]-for_demand[i-2])\n",
    "        for_demand.append(p)\n",
    "\n",
    "    \n",
    "\n",
    "    "
   ]
  },
  {
   "cell_type": "code",
   "execution_count": 173,
   "metadata": {
    "collapsed": false
   },
   "outputs": [
    {
     "data": {
      "text/plain": [
       "[123,\n",
       " 123.0,\n",
       " 121.5,\n",
       " 128.25,\n",
       " 133.57499999999999,\n",
       " 132.80249999999998,\n",
       " 132.26174999999998,\n",
       " 132.78322499999999,\n",
       " 129.84825749999999,\n",
       " 124.49378024999999,\n",
       " 127.645646175,\n",
       " 128.65195232249999]"
      ]
     },
     "execution_count": 173,
     "metadata": {},
     "output_type": "execute_result"
    }
   ],
   "source": [
    "for_demand"
   ]
  },
  {
   "cell_type": "code",
   "execution_count": 222,
   "metadata": {
    "collapsed": false
   },
   "outputs": [],
   "source": [
    "for_demand2 = []\n",
    "for i in range(1,13):\n",
    "    if(i==1):\n",
    "        fd = 123\n",
    "        for_demand2.append(fd)\n",
    "    else:\n",
    "        p = for_demand2[i-2] + (1.15*demand[i-2]-for_demand2[i-2])\n",
    "        for_demand2.append(p)"
   ]
  },
  {
   "cell_type": "code",
   "execution_count": 223,
   "metadata": {
    "collapsed": false
   },
   "outputs": [
    {
     "data": {
      "text/plain": [
       "[123,\n",
       " 141.44999999999999,\n",
       " 135.69999999999999,\n",
       " 165.59999999999999,\n",
       " 167.89999999999998,\n",
       " 150.64999999999998,\n",
       " 150.64999999999998,\n",
       " 154.09999999999999,\n",
       " 141.44999999999999,\n",
       " 128.79999999999998,\n",
       " 155.25,\n",
       " 150.64999999999998]"
      ]
     },
     "execution_count": 223,
     "metadata": {},
     "output_type": "execute_result"
    }
   ],
   "source": [
    "for_demand2"
   ]
  },
  {
   "cell_type": "code",
   "execution_count": 224,
   "metadata": {
    "collapsed": false
   },
   "outputs": [],
   "source": [
    "dem_last = []\n",
    "for i in range(0,10):\n",
    "              s = for_demand2[i+2]\n",
    "              dem_last.append(s)\n",
    "\n",
    "\n",
    "      \n",
    "     \n"
   ]
  },
  {
   "cell_type": "code",
   "execution_count": 225,
   "metadata": {
    "collapsed": false
   },
   "outputs": [
    {
     "data": {
      "text/plain": [
       "[135.69999999999999,\n",
       " 165.59999999999999,\n",
       " 167.89999999999998,\n",
       " 150.64999999999998,\n",
       " 150.64999999999998,\n",
       " 154.09999999999999,\n",
       " 141.44999999999999,\n",
       " 128.79999999999998,\n",
       " 155.25,\n",
       " 150.64999999999998]"
      ]
     },
     "execution_count": 225,
     "metadata": {},
     "output_type": "execute_result"
    }
   ],
   "source": [
    "dem_last"
   ]
  },
  {
   "cell_type": "code",
   "execution_count": 226,
   "metadata": {
    "collapsed": false
   },
   "outputs": [
    {
     "data": {
      "text/plain": [
       "[144.0, 146.0, 131.0, 131.0, 134.0, 123.0, 112.0, 135.0, 131.0, 137.0]"
      ]
     },
     "execution_count": 226,
     "metadata": {},
     "output_type": "execute_result"
    }
   ],
   "source": [
    "dem_last2 = []\n",
    "for i in range(0,10):\n",
    "              s = demand[i+2]\n",
    "              dem_last2.append(s)\n",
    "dem_last2"
   ]
  },
  {
   "cell_type": "code",
   "execution_count": 227,
   "metadata": {
    "collapsed": true
   },
   "outputs": [],
   "source": [
    "stand_dem_last2 = np.std(dem_last2)\n",
    "variance_dem_last2 = stand_dem_last2*stand_dem_last2"
   ]
  },
  {
   "cell_type": "code",
   "execution_count": 228,
   "metadata": {
    "collapsed": false
   },
   "outputs": [
    {
     "data": {
      "text/plain": [
       "86.040001"
      ]
     },
     "execution_count": 228,
     "metadata": {},
     "output_type": "execute_result"
    }
   ],
   "source": [
    "variance_dem_last2"
   ]
  },
  {
   "cell_type": "code",
   "execution_count": 229,
   "metadata": {
    "collapsed": true
   },
   "outputs": [],
   "source": [
    "stand_dem_last = np.std(dem_last)\n",
    "variance_dem_last = stand_dem_last*stand_dem_last"
   ]
  },
  {
   "cell_type": "code",
   "execution_count": 230,
   "metadata": {
    "collapsed": false
   },
   "outputs": [
    {
     "data": {
      "text/plain": [
       "133.63862499999999"
      ]
     },
     "execution_count": 230,
     "metadata": {},
     "output_type": "execute_result"
    }
   ],
   "source": [
    "variance_dem_last"
   ]
  },
  {
   "cell_type": "code",
   "execution_count": 231,
   "metadata": {
    "collapsed": true
   },
   "outputs": [],
   "source": [
    "bull_whip_effect = variance_dem_last/variance_dem_last2"
   ]
  },
  {
   "cell_type": "code",
   "execution_count": 232,
   "metadata": {
    "collapsed": false
   },
   "outputs": [
    {
     "data": {
      "text/plain": [
       "1.5532150578566846"
      ]
     },
     "execution_count": 232,
     "metadata": {},
     "output_type": "execute_result"
    }
   ],
   "source": [
    "bull_whip_effect"
   ]
  },
  {
   "cell_type": "code",
   "execution_count": 246,
   "metadata": {
    "collapsed": false
   },
   "outputs": [],
   "source": [
    "for_dem = []\n",
    "for i in range(1,13):\n",
    "    if(i==1):\n",
    "        fd = 123\n",
    "        for_dem.append(fd)\n",
    "    elif(i==2):\n",
    "        sd = 118\n",
    "        for_dem.append(sd)\n",
    "    else:\n",
    "        p = ((demand[i-4]+demand[i-3]+demand[i-2])/3)\n",
    "        for_dem.append(p)"
   ]
  },
  {
   "cell_type": "code",
   "execution_count": 247,
   "metadata": {
    "collapsed": false
   },
   "outputs": [
    {
     "data": {
      "text/plain": [
       "[123,\n",
       " 118,\n",
       " 126.0,\n",
       " 128.33333333333334,\n",
       " 136.0,\n",
       " 140.33333333333334,\n",
       " 136.0,\n",
       " 132.0,\n",
       " 129.33333333333334,\n",
       " 123.0,\n",
       " 123.33333333333333,\n",
       " 126.0]"
      ]
     },
     "execution_count": 247,
     "metadata": {},
     "output_type": "execute_result"
    }
   ],
   "source": [
    "for_dem"
   ]
  },
  {
   "cell_type": "code",
   "execution_count": 248,
   "metadata": {
    "collapsed": false
   },
   "outputs": [],
   "source": [
    "for_demand3 = []\n",
    "for i in range(1,13):\n",
    "    if(i==1):\n",
    "        fd = 123\n",
    "        for_demand3.append(fd)\n",
    "    else:\n",
    "        p = for_demand3[i-2] + (1.15*demand[i-2]-for_demand3[i-2])\n",
    "        for_demand3.append(p)"
   ]
  },
  {
   "cell_type": "code",
   "execution_count": 249,
   "metadata": {
    "collapsed": false
   },
   "outputs": [
    {
     "data": {
      "text/plain": [
       "[123,\n",
       " 141.44999999999999,\n",
       " 135.69999999999999,\n",
       " 165.59999999999999,\n",
       " 167.89999999999998,\n",
       " 150.64999999999998,\n",
       " 150.64999999999998,\n",
       " 154.09999999999999,\n",
       " 141.44999999999999,\n",
       " 128.79999999999998,\n",
       " 155.25,\n",
       " 150.64999999999998]"
      ]
     },
     "execution_count": 249,
     "metadata": {},
     "output_type": "execute_result"
    }
   ],
   "source": [
    "for_demand3"
   ]
  },
  {
   "cell_type": "code",
   "execution_count": 250,
   "metadata": {
    "collapsed": false
   },
   "outputs": [
    {
     "data": {
      "text/plain": [
       "[126.0,\n",
       " 128.33333333333334,\n",
       " 136.0,\n",
       " 140.33333333333334,\n",
       " 136.0,\n",
       " 132.0,\n",
       " 129.33333333333334,\n",
       " 123.0,\n",
       " 123.33333333333333,\n",
       " 126.0]"
      ]
     },
     "execution_count": 250,
     "metadata": {},
     "output_type": "execute_result"
    }
   ],
   "source": [
    "dem_last4 = []\n",
    "for i in range(0,10):\n",
    "              s = for_dem[i+2]\n",
    "              dem_last4.append(s)\n",
    "dem_last4"
   ]
  },
  {
   "cell_type": "code",
   "execution_count": 251,
   "metadata": {
    "collapsed": false
   },
   "outputs": [
    {
     "data": {
      "text/plain": [
       "[135.69999999999999,\n",
       " 165.59999999999999,\n",
       " 167.89999999999998,\n",
       " 150.64999999999998,\n",
       " 150.64999999999998,\n",
       " 154.09999999999999,\n",
       " 141.44999999999999,\n",
       " 128.79999999999998,\n",
       " 155.25,\n",
       " 150.64999999999998]"
      ]
     },
     "execution_count": 251,
     "metadata": {},
     "output_type": "execute_result"
    }
   ],
   "source": [
    "dem_last5 = []\n",
    "for i in range(0,10):\n",
    "              s = for_demand3[i+2]\n",
    "              dem_last5.append(s)\n",
    "dem_last5"
   ]
  },
  {
   "cell_type": "code",
   "execution_count": 252,
   "metadata": {
    "collapsed": true
   },
   "outputs": [],
   "source": [
    "stand_dem_sm1 = np.std(dem_last4)\n",
    "variance_dem_sm1 = stand_dem_sm1*stand_dem_sm1"
   ]
  },
  {
   "cell_type": "code",
   "execution_count": 253,
   "metadata": {
    "collapsed": false
   },
   "outputs": [
    {
     "data": {
      "text/plain": [
       "31.143333333333352"
      ]
     },
     "execution_count": 253,
     "metadata": {},
     "output_type": "execute_result"
    }
   ],
   "source": [
    "variance_dem_sm1"
   ]
  },
  {
   "cell_type": "code",
   "execution_count": 254,
   "metadata": {
    "collapsed": true
   },
   "outputs": [],
   "source": [
    "stand_dem_sm2 = np.std(dem_last5)\n",
    "variance_dem_sm2 = stand_dem_sm2*stand_dem_sm2"
   ]
  },
  {
   "cell_type": "code",
   "execution_count": 255,
   "metadata": {
    "collapsed": false
   },
   "outputs": [
    {
     "data": {
      "text/plain": [
       "133.63862499999999"
      ]
     },
     "execution_count": 255,
     "metadata": {},
     "output_type": "execute_result"
    }
   ],
   "source": [
    "variance_dem_sm2"
   ]
  },
  {
   "cell_type": "code",
   "execution_count": 259,
   "metadata": {
    "collapsed": true
   },
   "outputs": [],
   "source": [
    "bullwhip_simple_moving = variance_dem_sm2/variance_dem_sm1"
   ]
  },
  {
   "cell_type": "code",
   "execution_count": 260,
   "metadata": {
    "collapsed": false
   },
   "outputs": [
    {
     "data": {
      "text/plain": [
       "4.291082896285987"
      ]
     },
     "execution_count": 260,
     "metadata": {},
     "output_type": "execute_result"
    }
   ],
   "source": [
    "bullwhip_simple_moving"
   ]
  },
  {
   "cell_type": "code",
   "execution_count": null,
   "metadata": {
    "collapsed": true
   },
   "outputs": [],
   "source": []
  }
 ],
 "metadata": {
  "kernelspec": {
   "display_name": "Python [Root]",
   "language": "python",
   "name": "Python [Root]"
  },
  "language_info": {
   "codemirror_mode": {
    "name": "ipython",
    "version": 3
   },
   "file_extension": ".py",
   "mimetype": "text/x-python",
   "name": "python",
   "nbconvert_exporter": "python",
   "pygments_lexer": "ipython3",
   "version": "3.5.2"
  }
 },
 "nbformat": 4,
 "nbformat_minor": 0
}
