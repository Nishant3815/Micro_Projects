{
 "cells": [
  {
   "cell_type": "code",
   "execution_count": 4,
   "metadata": {
    "collapsed": false
   },
   "outputs": [
    {
     "name": "stdout",
     "output_type": "stream",
     "text": [
      "1\n",
      "2\n",
      "3\n"
     ]
    }
   ],
   "source": [
    "#Manual Creation of Linkedlist\n",
    "class Node:\n",
    "    def __init__(self,data = None):\n",
    "        self.data = data\n",
    "        self.next = None\n",
    "    def __str__(self):\n",
    "        return str(self.data)\n",
    "node1 = Node(1)\n",
    "node2 = Node(2)\n",
    "node3 = Node(3)\n",
    "\n",
    "node1.next = node2\n",
    "node2.next = node3\n",
    "\n",
    "def printlist(node):\n",
    "    while(node.next!=None):\n",
    "        print(node)\n",
    "        node = node.next\n",
    "    print(node)\n",
    "\n",
    "printlist(node1)\n"
   ]
  },
  {
   "cell_type": "code",
   "execution_count": 22,
   "metadata": {
    "collapsed": false
   },
   "outputs": [],
   "source": [
    "#Creation of LinkedList by creating a class\n",
    "class Node:\n",
    "    \n",
    "    def __init__(self,data = None):\n",
    "        self.data = data\n",
    "        self.next = None\n",
    "    def __str__(self):\n",
    "        return str(self.data)\n",
    "\n",
    "class LinkedList:\n",
    "    \n",
    "    def __init__(self):\n",
    "        self.numnodes = 0\n",
    "        self.head = None\n",
    "    \n",
    "    def addFirst(self,data):\n",
    "        nodeobj = Node(data)\n",
    "        nodeobj.next = self.head\n",
    "        self.head = nodeobj\n",
    "        self.numnodes += 1\n",
    "        \n",
    "    def addLast(self,data):\n",
    "        if self.head is None:\n",
    "            self.addFirst(data)\n",
    "            return\n",
    "        else:\n",
    "            nodeobj = Node(data)\n",
    "            temp = self.head\n",
    "            while(temp.next):\n",
    "                temp = temp.next\n",
    "        temp.next = nodeobj\n",
    "        self.numnodes +=1\n",
    "    def remFirst(self):\n",
    "        if self.head is None:\n",
    "            print(\"Can't remove! List is already empty\")\n",
    "            return\n",
    "        else:\n",
    "            temp = self.head.next\n",
    "            self.head = temp\n",
    "            del temp\n",
    "            self.numnodes -= 1\n",
    "        \n",
    "    def remLast(self):\n",
    "        if self.head is None:\n",
    "            print(\"Can't remove!List is already empty\")\n",
    "            return\n",
    "        if self.head.next is None  :\n",
    "            self.head = None\n",
    "            self.numnodes -= 1\n",
    "            return\n",
    "        temp = self.head\n",
    "        beforetemp = self.head\n",
    "        while(temp.next!= None):\n",
    "            beforetemp = temp\n",
    "            temp = temp.next\n",
    "        \n",
    "        beforetemp.next = None\n",
    "        del temp,beforetemp\n",
    "        self.numnodes -=1\n",
    "    def totalnodes(self):\n",
    "        return self.numnodes \n",
    "    def addPos(self,pos,data):\n",
    "        if pos<=1:\n",
    "            self.addFirst(data)\n",
    "            return\n",
    "        if pos>self.numnodes:\n",
    "            self.addLast(data)\n",
    "            return\n",
    "        temp = self.head\n",
    "        beforetemp = self.head\n",
    "        nodeobj = Node(data)\n",
    "        \n",
    "        for _ in range(pos-1):\n",
    "            beforetemp = temp\n",
    "            temp = temp.next \n",
    "        \n",
    "        nodeobj.next = temp\n",
    "        beforetemp.next = nodeobj\n",
    "        self.numnodes +=1\n",
    "        del temp,beforetemp\n",
    "        \n",
    "    def printList(self):\n",
    "        if self.head is None:\n",
    "            print(\"Can't print ... List is already empty \")\n",
    "            return\n",
    "        temp =  self.head\n",
    "        while(temp):\n",
    "            print(temp)\n",
    "            temp = temp.next \n",
    "        \n",
    "    "
   ]
  },
  {
   "cell_type": "code",
   "execution_count": 23,
   "metadata": {
    "collapsed": false
   },
   "outputs": [
    {
     "name": "stdout",
     "output_type": "stream",
     "text": [
      "1\n",
      "Can't print ... List is already empty \n",
      "3\n",
      "2\n",
      "3\n",
      "2\n",
      "10\n",
      "20\n",
      "4\n",
      "3\n",
      "2\n",
      "10\n",
      "3\n",
      "50\n",
      "2\n",
      "10\n",
      "50\n",
      "2\n"
     ]
    }
   ],
   "source": [
    "ml1 = LinkedList()\n",
    "ml1.addFirst(1)\n",
    "ml1.printList()\n",
    "ml1.remFirst()\n",
    "ml1.printList()\n",
    "ml1.addFirst(2)\n",
    "ml1.addFirst(3)\n",
    "ml1.printList()\n",
    "ml1.addLast(10)\n",
    "ml1.addLast(20)\n",
    "ml1.printList()\n",
    "print(ml1.totalnodes())\n",
    "ml1.remLast()\n",
    "ml1.printList()\n",
    "ml1.addPos(2,50)\n",
    "ml1.printList()\n",
    "ml1.remLast()\n",
    "ml1.remFirst()\n",
    "ml1.printList()\n"
   ]
  },
  {
   "cell_type": "code",
   "execution_count": null,
   "metadata": {
    "collapsed": true
   },
   "outputs": [],
   "source": []
  }
 ],
 "metadata": {
  "kernelspec": {
   "display_name": "Python [Root]",
   "language": "python",
   "name": "Python [Root]"
  },
  "language_info": {
   "codemirror_mode": {
    "name": "ipython",
    "version": 3
   },
   "file_extension": ".py",
   "mimetype": "text/x-python",
   "name": "python",
   "nbconvert_exporter": "python",
   "pygments_lexer": "ipython3",
   "version": "3.5.2"
  }
 },
 "nbformat": 4,
 "nbformat_minor": 0
}
