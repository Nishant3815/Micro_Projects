{
 "cells": [
  {
   "cell_type": "code",
   "execution_count": 1,
   "metadata": {
    "ExecuteTime": {
     "end_time": "2020-04-01T11:01:48.971929Z",
     "start_time": "2020-04-01T11:01:44.835150Z"
    }
   },
   "outputs": [],
   "source": [
    "import pandas as pd\n",
    "import numpy as np\n",
    "from sumy.parsers.html import HtmlParser\n",
    "from sumy.parsers.plaintext import PlaintextParser\n",
    "from sumy.nlp.tokenizers import Tokenizer\n",
    "from sumy.nlp.stemmers import Stemmer\n",
    "from sumy.utils import get_stop_words\n",
    "import re, math, collections\n",
    "from sumy.summarizers.kl import KLSummarizer\n",
    "from sumy.summarizers.lex_rank import LexRankSummarizer\n",
    "from sumy.summarizers.luhn import LuhnSummarizer\n",
    "from sumy.summarizers.lsa import LsaSummarizer\n",
    "from sumy.summarizers.text_rank import TextRankSummarizer\n",
    "from sumy.summarizers.reduction import ReductionSummarizer"
   ]
  },
  {
   "cell_type": "code",
   "execution_count": 2,
   "metadata": {
    "ExecuteTime": {
     "end_time": "2020-04-01T11:01:55.567388Z",
     "start_time": "2020-04-01T11:01:55.557361Z"
    }
   },
   "outputs": [],
   "source": [
    "# Block for KL Divergence Formula \n",
    "def tokenize(_str):\n",
    "    stopwords = ['and', 'for', 'if', 'the', 'then', 'be', 'is', 'are', 'will', 'in', 'it', 'to', 'that']\n",
    "    tokens = collections.defaultdict(lambda: 0.)\n",
    "    for m in re.finditer(r\"(\\w+)\", _str, re.UNICODE):\n",
    "        m = m.group(1).lower()\n",
    "        if len(m) < 2: continue\n",
    "        if m in stopwords: continue\n",
    "        tokens[m] += 1\n",
    " \n",
    "    return tokens\n",
    "#end of tokenize\n",
    " \n",
    "def kldiv(_s, _t):\n",
    "    if (len(_s) == 0):\n",
    "        return 1e33\n",
    " \n",
    "    if (len(_t) == 0):\n",
    "        return 1e33\n",
    " \n",
    "    ssum = 0. + sum(_s.values())\n",
    "    slen = len(_s)\n",
    " \n",
    "    tsum = 0. + sum(_t.values())\n",
    "    tlen = len(_t)\n",
    " \n",
    "    vocabdiff = set(_s.keys()).difference(set(_t.keys()))\n",
    "    lenvocabdiff = len(vocabdiff)\n",
    " \n",
    "    \"\"\" epsilon \"\"\"\n",
    "    epsilon = min(min(_s.values())/ssum, min(_t.values())/tsum) * 0.001\n",
    " \n",
    "    \"\"\" gamma \"\"\"\n",
    "    gamma = 1 - lenvocabdiff * epsilon\n",
    " \n",
    "    # print \"_s: %s\" % _s\n",
    "    # print \"_t: %s\" % _t\n",
    " \n",
    "    \"\"\" Check if distribution probabilities sum to 1\"\"\"\n",
    "    sc = sum([v/ssum for k,v in _s.items()])\n",
    "    st = sum([v/tsum for k,v in _t.items()])\n",
    " \n",
    "    if sc < 9e-6:\n",
    "        print (\"Sum P: %e, Sum Q: %e\" % (sc, st))\n",
    "        print (\"*** ERROR: sc does not sum up to 1. Bailing out ..\")\n",
    "        sys.exit(2)\n",
    "    if st < 9e-6:\n",
    "        print (\"Sum P: %e, Sum Q: %e\" % (sc, st))\n",
    "        print (\"*** ERROR: st does not sum up to 1. Bailing out ..\")\n",
    "        sys.exit(2)\n",
    " \n",
    "    div = 0.\n",
    "    for t, v in _s.items():\n",
    "        pts = v / ssum\n",
    " \n",
    "        ptt = epsilon\n",
    "        if t in _t:\n",
    "            ptt = gamma * (_t[t] / tsum)\n",
    " \n",
    "        ckl = (pts - ptt) * math.log(pts / ptt)\n",
    " \n",
    "        div +=  ckl\n",
    " \n",
    "    return div"
   ]
  },
  {
   "cell_type": "code",
   "execution_count": 3,
   "metadata": {
    "ExecuteTime": {
     "end_time": "2020-04-01T11:02:07.309207Z",
     "start_time": "2020-04-01T11:02:07.306199Z"
    }
   },
   "outputs": [],
   "source": [
    "summarizer_kl   = KLSummarizer()\n",
    "summarizer_lex  = LexRankSummarizer()\n",
    "summarizer_luhn = LuhnSummarizer()\n",
    "summarizer_lsa  = LsaSummarizer()\n",
    "summarizer_tr   = TextRankSummarizer()\n",
    "summarizer_red  = ReductionSummarizer()"
   ]
  },
  {
   "cell_type": "code",
   "execution_count": 4,
   "metadata": {
    "ExecuteTime": {
     "end_time": "2020-04-01T11:02:11.894362Z",
     "start_time": "2020-04-01T11:02:11.768486Z"
    }
   },
   "outputs": [],
   "source": [
    "data = pd.read_csv(\"data_requisite_fp_apm_ss_combined_with_tags.csv\")"
   ]
  },
  {
   "cell_type": "code",
   "execution_count": 64,
   "metadata": {
    "ExecuteTime": {
     "end_time": "2020-04-01T11:49:29.641831Z",
     "start_time": "2020-04-01T11:49:29.635268Z"
    }
   },
   "outputs": [
    {
     "data": {
      "text/plain": [
       "'LONDON, Feb 9 (APM) - The U.S. Food and Drug Administration (FDA) has granted orphan drug designation to Epizyme’s tazemetostat for malignant rhabdoid tumours, a rare form of cancer. <EOP> The decision, which was announced in a statement on Monday, gives Epizyme various development incentives, including tax credits and marketing exclusivity for a period of seven years. For a product to qualify as an orphan drug it must be for a disease that affects 200,000 people in the U.S. <EOP> Malignant rhabdoid tumours are rare and aggressive cancers that are defined by the loss of the INI1 protein, or, in the case of tumours that affect the ovary, the loss of the SMARCA4 protein. The orphan designation applies in both circumstances. <EOP> According to Epizyme, in an ongoing Phase I study, tazemetostat has demonstrated “encouraging clinical activity and an acceptable safety profile” in patients with these types of cancer. <EOP> The drug is also being investigated in other cancers, including synovial sarcoma and non-Hodgkin lymphoma. <EOP> tm/nh <EOP> thomas.meek@apmnews.com <EOP> '"
      ]
     },
     "execution_count": 64,
     "metadata": {},
     "output_type": "execute_result"
    }
   ],
   "source": [
    "text = data.loc[12,\"Article\"]\n",
    "text"
   ]
  },
  {
   "cell_type": "code",
   "execution_count": 65,
   "metadata": {
    "ExecuteTime": {
     "end_time": "2020-04-01T11:49:29.900324Z",
     "start_time": "2020-04-01T11:49:29.896817Z"
    }
   },
   "outputs": [],
   "source": [
    "# Parser on document for tokenized words\n",
    "parser = PlaintextParser.from_string(text,Tokenizer(\"english\"))"
   ]
  },
  {
   "cell_type": "code",
   "execution_count": 66,
   "metadata": {
    "ExecuteTime": {
     "end_time": "2020-04-01T11:49:30.122895Z",
     "start_time": "2020-04-01T11:49:30.115896Z"
    }
   },
   "outputs": [
    {
     "data": {
      "text/plain": [
       "(<Sentence: The orphan designation applies in both circumstances.>,\n",
       " <Sentence: <EOP> According to Epizyme, in an ongoing Phase I study, tazemetostat has demonstrated “encouraging clinical activity and an acceptable safety profile” in patients with these types of cancer.>,\n",
       " <Sentence: <EOP> The drug is also being investigated in other cancers, including synovial sarcoma and non-Hodgkin lymphoma.>,\n",
       " <Sentence: <EOP> tm/nh <EOP> thomas.meek@apmnews.com <EOP>>)"
      ]
     },
     "execution_count": 66,
     "metadata": {},
     "output_type": "execute_result"
    }
   ],
   "source": [
    "# Using KL summarizer\n",
    "summary1 = summarizer_kl(parser.document,4)\n",
    "summary1"
   ]
  },
  {
   "cell_type": "code",
   "execution_count": 67,
   "metadata": {
    "ExecuteTime": {
     "end_time": "2020-04-01T11:49:30.318668Z",
     "start_time": "2020-04-01T11:49:30.312644Z"
    }
   },
   "outputs": [
    {
     "data": {
      "text/plain": [
       "(<Sentence: LONDON, Feb 9 (APM) - The U.S. Food and Drug Administration (FDA) has granted orphan drug designation to Epizyme’s tazemetostat for malignant rhabdoid tumours, a rare form of cancer.>,\n",
       " <Sentence: <EOP> The decision, which was announced in a statement on Monday, gives Epizyme various development incentives, including tax credits and marketing exclusivity for a period of seven years.>,\n",
       " <Sentence: The orphan designation applies in both circumstances.>,\n",
       " <Sentence: <EOP> The drug is also being investigated in other cancers, including synovial sarcoma and non-Hodgkin lymphoma.>)"
      ]
     },
     "execution_count": 67,
     "metadata": {},
     "output_type": "execute_result"
    }
   ],
   "source": [
    "# Using LexRank summarizer\n",
    "summary2 = summarizer_lex(parser.document, 4)\n",
    "summary2"
   ]
  },
  {
   "cell_type": "code",
   "execution_count": 68,
   "metadata": {
    "ExecuteTime": {
     "end_time": "2020-04-01T11:49:30.506327Z",
     "start_time": "2020-04-01T11:49:30.501299Z"
    }
   },
   "outputs": [
    {
     "data": {
      "text/plain": [
       "(<Sentence: LONDON, Feb 9 (APM) - The U.S. Food and Drug Administration (FDA) has granted orphan drug designation to Epizyme’s tazemetostat for malignant rhabdoid tumours, a rare form of cancer.>,\n",
       " <Sentence: For a product to qualify as an orphan drug it must be for a disease that affects 200,000 people in the U.S. <EOP> Malignant rhabdoid tumours are rare and aggressive cancers that are defined by the loss of the INI1 protein, or, in the case of tumours that affect the ovary, the loss of the SMARCA4 protein.>,\n",
       " <Sentence: The orphan designation applies in both circumstances.>,\n",
       " <Sentence: <EOP> According to Epizyme, in an ongoing Phase I study, tazemetostat has demonstrated “encouraging clinical activity and an acceptable safety profile” in patients with these types of cancer.>)"
      ]
     },
     "execution_count": 68,
     "metadata": {},
     "output_type": "execute_result"
    }
   ],
   "source": [
    "# Using Luhn summarizer\n",
    "summary3 = summarizer_luhn(parser.document,4)\n",
    "summary3"
   ]
  },
  {
   "cell_type": "code",
   "execution_count": 69,
   "metadata": {
    "ExecuteTime": {
     "end_time": "2020-04-01T11:49:30.702235Z",
     "start_time": "2020-04-01T11:49:30.691226Z"
    }
   },
   "outputs": [
    {
     "data": {
      "text/plain": [
       "(<Sentence: LONDON, Feb 9 (APM) - The U.S. Food and Drug Administration (FDA) has granted orphan drug designation to Epizyme’s tazemetostat for malignant rhabdoid tumours, a rare form of cancer.>,\n",
       " <Sentence: <EOP> The decision, which was announced in a statement on Monday, gives Epizyme various development incentives, including tax credits and marketing exclusivity for a period of seven years.>,\n",
       " <Sentence: <EOP> According to Epizyme, in an ongoing Phase I study, tazemetostat has demonstrated “encouraging clinical activity and an acceptable safety profile” in patients with these types of cancer.>,\n",
       " <Sentence: <EOP> The drug is also being investigated in other cancers, including synovial sarcoma and non-Hodgkin lymphoma.>)"
      ]
     },
     "execution_count": 69,
     "metadata": {},
     "output_type": "execute_result"
    }
   ],
   "source": [
    "# Using LSA summarizer\n",
    "summary4 = summarizer_lsa(parser.document,4)\n",
    "summary4"
   ]
  },
  {
   "cell_type": "code",
   "execution_count": 70,
   "metadata": {
    "ExecuteTime": {
     "end_time": "2020-04-01T11:49:30.922814Z",
     "start_time": "2020-04-01T11:49:30.900756Z"
    }
   },
   "outputs": [
    {
     "data": {
      "text/plain": [
       "(<Sentence: LONDON, Feb 9 (APM) - The U.S. Food and Drug Administration (FDA) has granted orphan drug designation to Epizyme’s tazemetostat for malignant rhabdoid tumours, a rare form of cancer.>,\n",
       " <Sentence: <EOP> The decision, which was announced in a statement on Monday, gives Epizyme various development incentives, including tax credits and marketing exclusivity for a period of seven years.>,\n",
       " <Sentence: For a product to qualify as an orphan drug it must be for a disease that affects 200,000 people in the U.S. <EOP> Malignant rhabdoid tumours are rare and aggressive cancers that are defined by the loss of the INI1 protein, or, in the case of tumours that affect the ovary, the loss of the SMARCA4 protein.>,\n",
       " <Sentence: <EOP> According to Epizyme, in an ongoing Phase I study, tazemetostat has demonstrated “encouraging clinical activity and an acceptable safety profile” in patients with these types of cancer.>)"
      ]
     },
     "execution_count": 70,
     "metadata": {},
     "output_type": "execute_result"
    }
   ],
   "source": [
    "summary5 =summarizer_tr(parser.document,4)\n",
    "summary5"
   ]
  },
  {
   "cell_type": "code",
   "execution_count": 71,
   "metadata": {
    "ExecuteTime": {
     "end_time": "2020-04-01T11:49:31.090705Z",
     "start_time": "2020-04-01T11:49:31.084189Z"
    }
   },
   "outputs": [
    {
     "data": {
      "text/plain": [
       "(<Sentence: LONDON, Feb 9 (APM) - The U.S. Food and Drug Administration (FDA) has granted orphan drug designation to Epizyme’s tazemetostat for malignant rhabdoid tumours, a rare form of cancer.>,\n",
       " <Sentence: <EOP> The decision, which was announced in a statement on Monday, gives Epizyme various development incentives, including tax credits and marketing exclusivity for a period of seven years.>,\n",
       " <Sentence: For a product to qualify as an orphan drug it must be for a disease that affects 200,000 people in the U.S. <EOP> Malignant rhabdoid tumours are rare and aggressive cancers that are defined by the loss of the INI1 protein, or, in the case of tumours that affect the ovary, the loss of the SMARCA4 protein.>,\n",
       " <Sentence: <EOP> The drug is also being investigated in other cancers, including synovial sarcoma and non-Hodgkin lymphoma.>)"
      ]
     },
     "execution_count": 71,
     "metadata": {},
     "output_type": "execute_result"
    }
   ],
   "source": [
    "summary6 = summarizer_red(parser.document,4)\n",
    "summary6"
   ]
  },
  {
   "cell_type": "code",
   "execution_count": 72,
   "metadata": {
    "ExecuteTime": {
     "end_time": "2020-04-01T11:49:31.364426Z",
     "start_time": "2020-04-01T11:49:31.361390Z"
    }
   },
   "outputs": [],
   "source": [
    "def append_text_summary(summa):\n",
    "    start = \"\"\n",
    "    for su in summa:\n",
    "        start += (str(su))\n",
    "    return start"
   ]
  },
  {
   "cell_type": "code",
   "execution_count": 73,
   "metadata": {
    "ExecuteTime": {
     "end_time": "2020-04-01T11:49:31.895875Z",
     "start_time": "2020-04-01T11:49:31.891869Z"
    }
   },
   "outputs": [],
   "source": [
    "sum1 = append_text_summary(summary1)\n",
    "sum2 = append_text_summary(summary2)\n",
    "sum3 = append_text_summary(summary3)\n",
    "sum4 = append_text_summary(summary4)\n",
    "sum5 = append_text_summary(summary5)\n",
    "sum6 = append_text_summary(summary6)"
   ]
  },
  {
   "cell_type": "code",
   "execution_count": 74,
   "metadata": {
    "ExecuteTime": {
     "end_time": "2020-04-01T11:49:32.186326Z",
     "start_time": "2020-04-01T11:49:32.183350Z"
    }
   },
   "outputs": [],
   "source": [
    "# Create list to store divergence values \n",
    "text_summa_li = []\n",
    "summa_text_li = []"
   ]
  },
  {
   "cell_type": "code",
   "execution_count": 75,
   "metadata": {
    "ExecuteTime": {
     "end_time": "2020-04-01T11:49:32.432960Z",
     "start_time": "2020-04-01T11:49:32.429961Z"
    }
   },
   "outputs": [],
   "source": [
    "list_sum = [sum1,sum2,sum3,sum4,sum5,sum6]"
   ]
  },
  {
   "cell_type": "code",
   "execution_count": 76,
   "metadata": {
    "ExecuteTime": {
     "end_time": "2020-04-01T11:49:32.702679Z",
     "start_time": "2020-04-01T11:49:32.695665Z"
    }
   },
   "outputs": [],
   "source": [
    "for i in list_sum:\n",
    "    text_summa_li.append(kldiv(tokenize(text), tokenize(i)))\n",
    "    summa_text_li.append(kldiv(tokenize(i),tokenize(text)))"
   ]
  },
  {
   "cell_type": "code",
   "execution_count": 77,
   "metadata": {
    "ExecuteTime": {
     "end_time": "2020-04-01T11:49:33.207872Z",
     "start_time": "2020-04-01T11:49:33.203865Z"
    }
   },
   "outputs": [],
   "source": [
    "method_list = ['KL_Divergence Summarizer','Lex Summarizer','Luhn Summarizer','LSA_Summarizer','TextRank Summarizer','Reduction Summarizer']"
   ]
  },
  {
   "cell_type": "code",
   "execution_count": 80,
   "metadata": {
    "ExecuteTime": {
     "end_time": "2020-04-01T11:50:11.869710Z",
     "start_time": "2020-04-01T11:50:11.864200Z"
    }
   },
   "outputs": [],
   "source": [
    "metric_df                 = pd.DataFrame()\n",
    "metric_df['Method']       = method_list\n",
    "metric_df['Text_Sum_Div'] = text_summa_li\n",
    "metric_df['Sum_Text_Div'] = summa_text_li\n",
    "metric_df['Summary']      = list_sum"
   ]
  },
  {
   "cell_type": "code",
   "execution_count": 85,
   "metadata": {
    "ExecuteTime": {
     "end_time": "2020-04-01T11:51:22.317561Z",
     "start_time": "2020-04-01T11:51:22.309546Z"
    }
   },
   "outputs": [
    {
     "data": {
      "text/html": [
       "<div>\n",
       "<style scoped>\n",
       "    .dataframe tbody tr th:only-of-type {\n",
       "        vertical-align: middle;\n",
       "    }\n",
       "\n",
       "    .dataframe tbody tr th {\n",
       "        vertical-align: top;\n",
       "    }\n",
       "\n",
       "    .dataframe thead th {\n",
       "        text-align: right;\n",
       "    }\n",
       "</style>\n",
       "<table border=\"1\" class=\"dataframe\">\n",
       "  <thead>\n",
       "    <tr style=\"text-align: right;\">\n",
       "      <th></th>\n",
       "      <th>Method</th>\n",
       "      <th>Text_Sum_Div</th>\n",
       "      <th>Sum_Text_Div</th>\n",
       "      <th>Summary</th>\n",
       "    </tr>\n",
       "  </thead>\n",
       "  <tbody>\n",
       "    <tr>\n",
       "      <th>0</th>\n",
       "      <td>KL_Divergence Summarizer</td>\n",
       "      <td>3.602572</td>\n",
       "      <td>0.449742</td>\n",
       "      <td>The orphan designation applies in both circums...</td>\n",
       "    </tr>\n",
       "    <tr>\n",
       "      <th>1</th>\n",
       "      <td>Lex Summarizer</td>\n",
       "      <td>2.827845</td>\n",
       "      <td>0.300537</td>\n",
       "      <td>LONDON, Feb 9 (APM) - The U.S. Food and Drug A...</td>\n",
       "    </tr>\n",
       "    <tr>\n",
       "      <th>2</th>\n",
       "      <td>Luhn Summarizer</td>\n",
       "      <td>2.050359</td>\n",
       "      <td>0.152696</td>\n",
       "      <td>LONDON, Feb 9 (APM) - The U.S. Food and Drug A...</td>\n",
       "    </tr>\n",
       "    <tr>\n",
       "      <th>3</th>\n",
       "      <td>LSA_Summarizer</td>\n",
       "      <td>1.861403</td>\n",
       "      <td>0.168475</td>\n",
       "      <td>LONDON, Feb 9 (APM) - The U.S. Food and Drug A...</td>\n",
       "    </tr>\n",
       "    <tr>\n",
       "      <th>4</th>\n",
       "      <td>TextRank Summarizer</td>\n",
       "      <td>1.038694</td>\n",
       "      <td>0.068307</td>\n",
       "      <td>LONDON, Feb 9 (APM) - The U.S. Food and Drug A...</td>\n",
       "    </tr>\n",
       "    <tr>\n",
       "      <th>5</th>\n",
       "      <td>Reduction Summarizer</td>\n",
       "      <td>1.402443</td>\n",
       "      <td>0.108615</td>\n",
       "      <td>LONDON, Feb 9 (APM) - The U.S. Food and Drug A...</td>\n",
       "    </tr>\n",
       "  </tbody>\n",
       "</table>\n",
       "</div>"
      ],
      "text/plain": [
       "                     Method  Text_Sum_Div  Sum_Text_Div  \\\n",
       "0  KL_Divergence Summarizer      3.602572      0.449742   \n",
       "1            Lex Summarizer      2.827845      0.300537   \n",
       "2           Luhn Summarizer      2.050359      0.152696   \n",
       "3            LSA_Summarizer      1.861403      0.168475   \n",
       "4       TextRank Summarizer      1.038694      0.068307   \n",
       "5      Reduction Summarizer      1.402443      0.108615   \n",
       "\n",
       "                                             Summary  \n",
       "0  The orphan designation applies in both circums...  \n",
       "1  LONDON, Feb 9 (APM) - The U.S. Food and Drug A...  \n",
       "2  LONDON, Feb 9 (APM) - The U.S. Food and Drug A...  \n",
       "3  LONDON, Feb 9 (APM) - The U.S. Food and Drug A...  \n",
       "4  LONDON, Feb 9 (APM) - The U.S. Food and Drug A...  \n",
       "5  LONDON, Feb 9 (APM) - The U.S. Food and Drug A...  "
      ]
     },
     "execution_count": 85,
     "metadata": {},
     "output_type": "execute_result"
    }
   ],
   "source": [
    "metric_df"
   ]
  },
  {
   "cell_type": "code",
   "execution_count": 87,
   "metadata": {
    "ExecuteTime": {
     "end_time": "2020-04-01T11:52:27.530465Z",
     "start_time": "2020-04-01T11:52:27.525427Z"
    }
   },
   "outputs": [
    {
     "data": {
      "text/plain": [
       "'LONDON, Feb 9 (APM) - The U.S. Food and Drug Administration (FDA) has granted orphan drug designation to Epizyme’s tazemetostat for malignant rhabdoid tumours, a rare form of cancer.<EOP> The decision, which was announced in a statement on Monday, gives Epizyme various development incentives, including tax credits and marketing exclusivity for a period of seven years.For a product to qualify as an orphan drug it must be for a disease that affects 200,000 people in the U.S. <EOP> Malignant rhabdoid tumours are rare and aggressive cancers that are defined by the loss of the INI1 protein, or, in the case of tumours that affect the ovary, the loss of the SMARCA4 protein.<EOP> According to Epizyme, in an ongoing Phase I study, tazemetostat has demonstrated “encouraging clinical activity and an acceptable safety profile” in patients with these types of cancer.'"
      ]
     },
     "execution_count": 87,
     "metadata": {},
     "output_type": "execute_result"
    }
   ],
   "source": [
    "metric_df['Summary'][4]"
   ]
  },
  {
   "cell_type": "code",
   "execution_count": 88,
   "metadata": {
    "ExecuteTime": {
     "end_time": "2020-04-01T11:52:40.510454Z",
     "start_time": "2020-04-01T11:52:40.505427Z"
    }
   },
   "outputs": [
    {
     "data": {
      "text/plain": [
       "'LONDON, Feb 9 (APM) - The U.S. Food and Drug Administration (FDA) has granted orphan drug designation to Epizyme’s tazemetostat for malignant rhabdoid tumours, a rare form of cancer.<EOP> The decision, which was announced in a statement on Monday, gives Epizyme various development incentives, including tax credits and marketing exclusivity for a period of seven years.For a product to qualify as an orphan drug it must be for a disease that affects 200,000 people in the U.S. <EOP> Malignant rhabdoid tumours are rare and aggressive cancers that are defined by the loss of the INI1 protein, or, in the case of tumours that affect the ovary, the loss of the SMARCA4 protein.<EOP> The drug is also being investigated in other cancers, including synovial sarcoma and non-Hodgkin lymphoma.'"
      ]
     },
     "execution_count": 88,
     "metadata": {},
     "output_type": "execute_result"
    }
   ],
   "source": [
    "metric_df['Summary'][5]"
   ]
  },
  {
   "cell_type": "code",
   "execution_count": 86,
   "metadata": {
    "ExecuteTime": {
     "end_time": "2020-04-01T11:51:35.408455Z",
     "start_time": "2020-04-01T11:51:35.403956Z"
    }
   },
   "outputs": [
    {
     "data": {
      "text/plain": [
       "'The orphan designation applies in both circumstances.<EOP> According to Epizyme, in an ongoing Phase I study, tazemetostat has demonstrated “encouraging clinical activity and an acceptable safety profile” in patients with these types of cancer.<EOP> The drug is also being investigated in other cancers, including synovial sarcoma and non-Hodgkin lymphoma.<EOP> tm/nh <EOP> thomas.meek@apmnews.com <EOP>'"
      ]
     },
     "execution_count": 86,
     "metadata": {},
     "output_type": "execute_result"
    }
   ],
   "source": [
    "metric_df['Summary'][0]"
   ]
  },
  {
   "cell_type": "code",
   "execution_count": null,
   "metadata": {},
   "outputs": [],
   "source": []
  },
  {
   "cell_type": "code",
   "execution_count": null,
   "metadata": {},
   "outputs": [],
   "source": []
  },
  {
   "cell_type": "code",
   "execution_count": null,
   "metadata": {},
   "outputs": [],
   "source": []
  },
  {
   "cell_type": "code",
   "execution_count": null,
   "metadata": {},
   "outputs": [],
   "source": []
  },
  {
   "cell_type": "code",
   "execution_count": null,
   "metadata": {},
   "outputs": [],
   "source": []
  },
  {
   "cell_type": "code",
   "execution_count": null,
   "metadata": {},
   "outputs": [],
   "source": []
  }
 ],
 "metadata": {
  "hide_input": false,
  "kernelspec": {
   "display_name": "Python 3",
   "language": "python",
   "name": "python3"
  },
  "language_info": {
   "codemirror_mode": {
    "name": "ipython",
    "version": 3
   },
   "file_extension": ".py",
   "mimetype": "text/x-python",
   "name": "python",
   "nbconvert_exporter": "python",
   "pygments_lexer": "ipython3",
   "version": "3.7.3"
  },
  "toc": {
   "base_numbering": 1,
   "nav_menu": {},
   "number_sections": true,
   "sideBar": true,
   "skip_h1_title": false,
   "title_cell": "Table of Contents",
   "title_sidebar": "Contents",
   "toc_cell": false,
   "toc_position": {},
   "toc_section_display": true,
   "toc_window_display": false
  }
 },
 "nbformat": 4,
 "nbformat_minor": 2
}
