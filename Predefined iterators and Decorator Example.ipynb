{
 "cells": [
  {
   "cell_type": "code",
   "execution_count": 1,
   "metadata": {},
   "outputs": [
    {
     "name": "stdout",
     "output_type": "stream",
     "text": [
      "1\n",
      "2\n",
      "3\n",
      "a\n",
      "b\n",
      "c\n"
     ]
    }
   ],
   "source": [
    "# Chain function : Combine into a single sequence\n",
    "from itertools import *\n",
    "for i in chain(['1','2','3'],['a','b','c']):\n",
    "    print(i)"
   ]
  },
  {
   "cell_type": "code",
   "execution_count": 3,
   "metadata": {},
   "outputs": [
    {
     "name": "stdout",
     "output_type": "stream",
     "text": [
      "(1, 'a')\n",
      "(2, 'b')\n",
      "(3, 'c')\n"
     ]
    }
   ],
   "source": [
    "# Zip function : Combine the elements of several iterators into tuples\n",
    "from itertools import *\n",
    "for i in zip([1,2,3],['a','b','c']):\n",
    "    print(i)"
   ]
  },
  {
   "cell_type": "code",
   "execution_count": 5,
   "metadata": {},
   "outputs": [],
   "source": [
    "# Python allows functions to be defined under functions \n",
    "def parent():\n",
    "    print(\"Printing from parent function\")\n",
    "    def first_child():\n",
    "        return(\"Printing from first child\")\n",
    "    def second_child():\n",
    "        return(\"Printing from second child\")\n",
    "    \n",
    "    print(first_child())\n",
    "    print(second_child())\n"
   ]
  },
  {
   "cell_type": "code",
   "execution_count": 6,
   "metadata": {},
   "outputs": [
    {
     "name": "stdout",
     "output_type": "stream",
     "text": [
      "Printing from parent function\n",
      "Printing from first child\n",
      "Printing from second child\n"
     ]
    }
   ],
   "source": [
    "parent()"
   ]
  },
  {
   "cell_type": "code",
   "execution_count": 15,
   "metadata": {},
   "outputs": [
    {
     "name": "stdout",
     "output_type": "stream",
     "text": [
      "Printing from the first_child() function.\n",
      "Printing from the second_child() function.\n"
     ]
    }
   ],
   "source": [
    "# Python allows us to return functions from other functions\n",
    "def parent(num):\n",
    "    \n",
    "    def first_child():\n",
    "        return (\"Printing from the first_child() function.\")\n",
    "    def second_child():\n",
    "        return (\"Printing from the second_child() function.\")\n",
    "    try :\n",
    "        assert num == 10\n",
    "        return first_child\n",
    "    except AssertionError:\n",
    "        return second_child\n",
    "foo = parent(10)\n",
    "bar = parent(11) \n",
    "print(foo())\n",
    "print(bar())"
   ]
  },
  {
   "cell_type": "code",
   "execution_count": 16,
   "metadata": {
    "collapsed": true
   },
   "outputs": [],
   "source": [
    "# WORKING WITH DECORATORS "
   ]
  },
  {
   "cell_type": "code",
   "execution_count": 19,
   "metadata": {},
   "outputs": [
    {
     "name": "stdout",
     "output_type": "stream",
     "text": [
      "Hi, it's me 'f'\n",
      "I will call 'func' now\n",
      "Hi, it's me 'g'\n",
      "Thanks for calling me\n",
      "func's real name is g\n"
     ]
    }
   ],
   "source": [
    "def g():\n",
    "    print(\"Hi, it's me 'g'\")\n",
    "    print(\"Thanks for calling me\")\n",
    "    \n",
    "def f(func):\n",
    "    print(\"Hi, it's me 'f'\")\n",
    "    print(\"I will call 'func' now\")\n",
    "    func()\n",
    "    print(\"func's real name is \" + func.__name__) \n",
    "\n",
    "          \n",
    "f(g)"
   ]
  },
  {
   "cell_type": "code",
   "execution_count": 25,
   "metadata": {},
   "outputs": [
    {
     "data": {
      "text/plain": [
       "13"
      ]
     },
     "execution_count": 25,
     "metadata": {},
     "output_type": "execute_result"
    }
   ],
   "source": [
    "# Note : An output of a function is a reference to an object. Thus functions can return references to function objects \n",
    "def f(x):\n",
    "    def g(y):\n",
    "        return (x*x+y+3)\n",
    "    return (g)\n",
    "\n",
    "f(3)(1)"
   ]
  },
  {
   "cell_type": "code",
   "execution_count": 41,
   "metadata": {},
   "outputs": [
    {
     "name": "stdout",
     "output_type": "stream",
     "text": [
      "Before calling foo\n",
      "Hi foo has been called with Hi\n",
      "After calling foo\n"
     ]
    }
   ],
   "source": [
    "# Now we start with a simple decorator function\n",
    "def our_decorator(func):\n",
    "    def function_wrapper(x):\n",
    "        print(\"Before calling \"+func.__name__)\n",
    "        func(x)\n",
    "        print(\"After calling \"+func.__name__)\n",
    "    return (function_wrapper)\n",
    "\n",
    "def foo(x):\n",
    "    print(\"Hi foo has been called with \" + str(x))\n",
    "    \n",
    "foo = our_decorator(foo)\n",
    "\n",
    "foo(\"Hi\")"
   ]
  },
  {
   "cell_type": "code",
   "execution_count": 42,
   "metadata": {},
   "outputs": [
    {
     "name": "stdout",
     "output_type": "stream",
     "text": [
      "Before calling foo\n",
      "Hi, foo has been called with Hi\n",
      "After calling foo\n"
     ]
    }
   ],
   "source": [
    "#The above and below codes are equivalent\n",
    "def our_decorator(func):\n",
    "    def function_wrapper(x):\n",
    "        print(\"Before calling \" + func.__name__)\n",
    "        func(x)\n",
    "        print(\"After calling \" + func.__name__)\n",
    "    return function_wrapper\n",
    "\n",
    "@our_decorator # this is equivalent to foo = our_decorator(foo)\n",
    "def foo(x):\n",
    "    print(\"Hi, foo has been called with \" + str(x))\n",
    "\n",
    "foo(\"Hi\")"
   ]
  },
  {
   "cell_type": "code",
   "execution_count": null,
   "metadata": {
    "collapsed": true
   },
   "outputs": [],
   "source": []
  }
 ],
 "metadata": {
  "kernelspec": {
   "display_name": "Python 3",
   "language": "python",
   "name": "python3"
  },
  "language_info": {
   "codemirror_mode": {
    "name": "ipython",
    "version": 3
   },
   "file_extension": ".py",
   "mimetype": "text/x-python",
   "name": "python",
   "nbconvert_exporter": "python",
   "pygments_lexer": "ipython3",
   "version": "3.6.1"
  }
 },
 "nbformat": 4,
 "nbformat_minor": 2
}
