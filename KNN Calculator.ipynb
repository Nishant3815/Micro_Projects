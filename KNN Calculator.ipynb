{
 "cells": [
  {
   "cell_type": "code",
   "execution_count": 1,
   "metadata": {},
   "outputs": [],
   "source": [
    "import numpy as np\n",
    "\n",
    "def get_squared_error(y_actual,y_pred):\n",
    "    # Get squared error of individual data points \n",
    "    return np.square(np.subtract(y_actual,y_pred))\n",
    "\n",
    "def get_absolute_error(y_actual,y_pred):\n",
    "    # Get absolute error of individual data points \n",
    "    return np.abs(np.subtract(y_actual,y_pred))\n",
    "\n",
    "\n",
    "# Implement KNN from scratch\n",
    "def KNN_reg_predict(X_trn, y_trn, x, K):\n",
    "    \"\"\"\n",
    "    X_trn: 2D array of training set of data \n",
    "    y_trn: 1D outcomes for training set of data\n",
    "    x: 1D array of single input for which predictions are to be made\n",
    "    K: number of neighbours\n",
    "    \"\"\"\n",
    "    # Create an array containing distance of the point from all other points in the training set\n",
    "    point_dist_array = np.sqrt(np.sum((X_trn-x)**2,axis=1))\n",
    "    # Find those K points that are the nearest\n",
    "    index_nearest    = np.argsort(point_dist_array)[:K]\n",
    "    # Get value array corresponding to those k-index\n",
    "    values_knn       = y_trn[index_nearest]\n",
    "    # Get mean of nearest y-values\n",
    "    y                = np.mean(values_knn)\n",
    "    return y"
   ]
  },
  {
   "cell_type": "markdown",
   "metadata": {},
   "source": [
    "# Enter train data here "
   ]
  },
  {
   "cell_type": "code",
   "execution_count": 2,
   "metadata": {},
   "outputs": [
    {
     "name": "stdout",
     "output_type": "stream",
     "text": [
      "Enter the number of rows:5\n"
     ]
    }
   ],
   "source": [
    "R = int(input(\"Enter the number of rows:\")) \n",
    "C = 2"
   ]
  },
  {
   "cell_type": "code",
   "execution_count": 5,
   "metadata": {},
   "outputs": [
    {
     "name": "stdout",
     "output_type": "stream",
     "text": [
      "-4 \n",
      "-1\n",
      "-2\n",
      "2\n",
      "-1\n",
      "0\n",
      "2\n",
      "-1\n",
      "4\n",
      "0\n"
     ]
    }
   ],
   "source": [
    "# Enter matrix terms in x1,x2 format order\n",
    "matrix = [] \n",
    "for i in range(R):          # A for loop for row entries \n",
    "    a =[] \n",
    "    for j in range(C):      # A for loop for column entries \n",
    "         a.append(float(input())) \n",
    "    matrix.append(a) "
   ]
  },
  {
   "cell_type": "code",
   "execution_count": 6,
   "metadata": {},
   "outputs": [
    {
     "data": {
      "text/plain": [
       "array([[-4., -1.],\n",
       "       [-2.,  2.],\n",
       "       [-1.,  0.],\n",
       "       [ 2., -1.],\n",
       "       [ 4.,  0.]])"
      ]
     },
     "execution_count": 6,
     "metadata": {},
     "output_type": "execute_result"
    }
   ],
   "source": [
    "X_trn = np.array(matrix)\n",
    "X_trn"
   ]
  },
  {
   "cell_type": "markdown",
   "metadata": {},
   "source": [
    "# Feed Y_Train"
   ]
  },
  {
   "cell_type": "code",
   "execution_count": 7,
   "metadata": {},
   "outputs": [
    {
     "name": "stdout",
     "output_type": "stream",
     "text": [
      "-1\n",
      "-1\n",
      "-2\n",
      "-2\n",
      "3\n"
     ]
    }
   ],
   "source": [
    "y_trn_in = [0]*R\n",
    "for i in range((R)):\n",
    "    y_trn_in[i] = float(input())\n",
    "y_trn = np.array(y_trn_in)"
   ]
  },
  {
   "cell_type": "markdown",
   "metadata": {},
   "source": [
    "# Feed Y_Actual"
   ]
  },
  {
   "cell_type": "code",
   "execution_count": 8,
   "metadata": {},
   "outputs": [
    {
     "name": "stdout",
     "output_type": "stream",
     "text": [
      "3\n"
     ]
    }
   ],
   "source": [
    "# Number of input rows for test set\n",
    "n = int(input())"
   ]
  },
  {
   "cell_type": "markdown",
   "metadata": {},
   "source": [
    "# Enter Y_Actual Sequentially "
   ]
  },
  {
   "cell_type": "code",
   "execution_count": 9,
   "metadata": {},
   "outputs": [
    {
     "name": "stdout",
     "output_type": "stream",
     "text": [
      "-2\n",
      "-1\n",
      "1\n"
     ]
    }
   ],
   "source": [
    "y_act_in = [0]*n\n",
    "for i in range(n):\n",
    "    y_act_in[i] = float(input())\n",
    "y_act_test = np.array(y_act_in)"
   ]
  },
  {
   "cell_type": "markdown",
   "metadata": {},
   "source": [
    "# Enter test points to be evaluated"
   ]
  },
  {
   "cell_type": "code",
   "execution_count": 10,
   "metadata": {},
   "outputs": [
    {
     "name": "stdout",
     "output_type": "stream",
     "text": [
      "3 2\n",
      "-3 -1\n",
      "0 1\n",
      "3 0\n"
     ]
    }
   ],
   "source": [
    "n, m = map(int, input().split()) # taking number of rows and column\n",
    "X_test = np.array([input().strip().split() for _ in range(n)], int)"
   ]
  },
  {
   "cell_type": "code",
   "execution_count": 11,
   "metadata": {},
   "outputs": [
    {
     "data": {
      "text/plain": [
       "array([[-3, -1],\n",
       "       [ 0,  1],\n",
       "       [ 3,  0]])"
      ]
     },
     "execution_count": 11,
     "metadata": {},
     "output_type": "execute_result"
    }
   ],
   "source": [
    "X_test"
   ]
  },
  {
   "cell_type": "markdown",
   "metadata": {},
   "source": [
    "# Enter number of nearest neighbours"
   ]
  },
  {
   "cell_type": "code",
   "execution_count": 18,
   "metadata": {},
   "outputs": [
    {
     "name": "stdout",
     "output_type": "stream",
     "text": [
      "3\n"
     ]
    }
   ],
   "source": [
    "K = int(input())"
   ]
  },
  {
   "cell_type": "markdown",
   "metadata": {},
   "source": [
    "# Run KNN for test data"
   ]
  },
  {
   "cell_type": "code",
   "execution_count": 19,
   "metadata": {},
   "outputs": [],
   "source": [
    "mse_error_list = []\n",
    "mae_error_list = []\n",
    "y_pred_list    = []\n",
    "for i in range(len(X_test)):\n",
    "    y_pred_i = KNN_reg_predict(X_trn,y_trn,X_test[i],K)\n",
    "    y_actual_i = y_act_test[i]\n",
    "    y_pred_list.append(y_pred_i)\n",
    "    mse_error_list.append(get_squared_error(y_actual_i,y_pred_i))\n",
    "    mae_error_list.append(get_absolute_error(y_actual_i,y_pred_i))"
   ]
  },
  {
   "cell_type": "code",
   "execution_count": 20,
   "metadata": {},
   "outputs": [
    {
     "data": {
      "text/plain": [
       "[-1.3333333333333333, -1.6666666666666667, -0.3333333333333333]"
      ]
     },
     "execution_count": 20,
     "metadata": {},
     "output_type": "execute_result"
    }
   ],
   "source": [
    "y_pred_list"
   ]
  },
  {
   "cell_type": "markdown",
   "metadata": {},
   "source": [
    "# Get MSE for KNN"
   ]
  },
  {
   "cell_type": "code",
   "execution_count": 21,
   "metadata": {},
   "outputs": [
    {
     "data": {
      "text/plain": [
       "0.888888888888889"
      ]
     },
     "execution_count": 21,
     "metadata": {},
     "output_type": "execute_result"
    }
   ],
   "source": [
    "np.mean(mse_error_list)"
   ]
  },
  {
   "cell_type": "code",
   "execution_count": null,
   "metadata": {},
   "outputs": [],
   "source": [
    "np.mean(mae_error_list)"
   ]
  },
  {
   "cell_type": "code",
   "execution_count": null,
   "metadata": {},
   "outputs": [],
   "source": [
    "mse_error_list_tr = []\n",
    "mae_error_list_tr = []\n",
    "y_pred_list_tr    = []\n",
    "for i in range(len(X_trn)):\n",
    "    y_pred_i = KNN_reg_predict(X_trn,y_trn,X_trn[i],K)\n",
    "    y_actual_i = y_trn[i]\n",
    "    y_pred_list_tr.append(y_pred_i)\n",
    "    mse_error_list_tr.append(get_squared_error(y_actual_i,y_pred_i))\n",
    "    mae_error_list_tr.append(get_absolute_error(y_actual_i,y_pred_i))"
   ]
  },
  {
   "cell_type": "code",
   "execution_count": null,
   "metadata": {},
   "outputs": [],
   "source": [
    "np.mean(mse_error_list_tr)"
   ]
  },
  {
   "cell_type": "code",
   "execution_count": null,
   "metadata": {},
   "outputs": [],
   "source": []
  },
  {
   "cell_type": "code",
   "execution_count": null,
   "metadata": {},
   "outputs": [],
   "source": []
  },
  {
   "cell_type": "code",
   "execution_count": null,
   "metadata": {},
   "outputs": [],
   "source": []
  },
  {
   "cell_type": "code",
   "execution_count": null,
   "metadata": {},
   "outputs": [],
   "source": []
  },
  {
   "cell_type": "code",
   "execution_count": null,
   "metadata": {},
   "outputs": [],
   "source": []
  },
  {
   "cell_type": "code",
   "execution_count": null,
   "metadata": {},
   "outputs": [],
   "source": []
  }
 ],
 "metadata": {
  "kernelspec": {
   "display_name": "Python 3",
   "language": "python",
   "name": "python3"
  },
  "language_info": {
   "codemirror_mode": {
    "name": "ipython",
    "version": 3
   },
   "file_extension": ".py",
   "mimetype": "text/x-python",
   "name": "python",
   "nbconvert_exporter": "python",
   "pygments_lexer": "ipython3",
   "version": "3.8.5"
  }
 },
 "nbformat": 4,
 "nbformat_minor": 4
}
