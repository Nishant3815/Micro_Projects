{
 "cells": [
  {
   "cell_type": "code",
   "execution_count": 38,
   "metadata": {},
   "outputs": [],
   "source": [
    "# Load packages \n",
    "import json\n",
    "import pandas as pd \n",
    "import numpy as np \n",
    "from tqdm import tqdm\n",
    "import seaborn as sns\n",
    "import matplotlib.pyplot as plt \n",
    "%matplotlib inline\n",
    "from collections import defaultdict"
   ]
  },
  {
   "cell_type": "code",
   "execution_count": 2,
   "metadata": {},
   "outputs": [],
   "source": [
    "# Load dataset for analysis\n",
    "with open('./wmt.jsonl', 'r') as json_file:\n",
    "    json_list = list(json_file)"
   ]
  },
  {
   "cell_type": "code",
   "execution_count": 3,
   "metadata": {},
   "outputs": [],
   "source": [
    "##Create multiple dictionaries to store values corresponding to a source\n",
    "# candidate_dict = {}\n",
    "\n",
    "# for json_str in tqdm(json_list):\n",
    "#     result = json.loads(json_str)\n",
    "#     if result['source'] not in candidate_dict:\n",
    "#         candidate_dict[result['source']] = []\n",
    "#     else:\n",
    "#         candidate_dict[result['source']].append((result['candidate'].lower(),result['raw_rating'], result['score'], result['system'], result['lang'] ))"
   ]
  },
  {
   "cell_type": "code",
   "execution_count": 4,
   "metadata": {},
   "outputs": [],
   "source": [
    "# # Map and Create data with \"Source\" as a key\n",
    "# from collections import defaultdict\n",
    "# candidate_dict = defaultdict(list)\n",
    "\n",
    "# for json_str in tqdm(json_list):\n",
    "#     result = json.loads(json_str)\n",
    "#     candidate_dict[result['source']].append((result['candidate'].lower(),result['raw_rating'], result['score'], result['system'], result['lang'] ))"
   ]
  },
  {
   "cell_type": "markdown",
   "metadata": {},
   "source": [
    "### EXACT SAME ANALYSIS (CHECK WITH LOWERCASE)"
   ]
  },
  {
   "cell_type": "code",
   "execution_count": 5,
   "metadata": {},
   "outputs": [
    {
     "name": "stderr",
     "output_type": "stream",
     "text": [
      "100%|██████████████████████████████████████████████████████████████████████| 114072/114072 [00:01<00:00, 100767.65it/s]\n"
     ]
    }
   ],
   "source": [
    "out_dict = defaultdict(list)\n",
    "\n",
    "for json_str in tqdm(json_list):\n",
    "    result = json.loads(json_str)\n",
    "    out_dict[result['candidate'].lower()].append(result['raw_rating'])"
   ]
  },
  {
   "cell_type": "code",
   "execution_count": 6,
   "metadata": {},
   "outputs": [
    {
     "data": {
      "text/plain": [
       "112908"
      ]
     },
     "execution_count": 6,
     "metadata": {},
     "output_type": "execute_result"
    }
   ],
   "source": [
    "len(out_dict.keys())"
   ]
  },
  {
   "cell_type": "code",
   "execution_count": 8,
   "metadata": {},
   "outputs": [],
   "source": [
    "red_out_dict_1 = {k: v for k, v in out_dict.items() if len(v) > 1}\n",
    "red_out_dict_2 = {k: v for k, v in out_dict.items() if len(v) > 2}\n",
    "red_out_dict_3 = {k: v for k, v in out_dict.items() if len(v) > 3}\n",
    "red_out_dict_4 = {k: v for k, v in out_dict.items() if len(v) > 4}"
   ]
  },
  {
   "cell_type": "code",
   "execution_count": 11,
   "metadata": {},
   "outputs": [
    {
     "name": "stdout",
     "output_type": "stream",
     "text": [
      "Absolute numbers: \n",
      "1073 77 10 4\n",
      "Percentage numbers\n",
      "0.9503312431360046 0.06819711623622772 0.008856768342367236 0.003542707336946895\n"
     ]
    }
   ],
   "source": [
    "print(\"Absolute numbers: \")\n",
    "print(len(red_out_dict_1),len(red_out_dict_2),len(red_out_dict_3),len(red_out_dict_4))\n",
    "print(\"Percentage numbers\")\n",
    "print(len(red_out_dict_1)*100/len(out_dict.keys()),len(red_out_dict_2)*100/len(out_dict.keys()),len(red_out_dict_3)*100/len(out_dict.keys()),len(red_out_dict_4)*100/len(out_dict.keys()))"
   ]
  },
  {
   "cell_type": "code",
   "execution_count": 17,
   "metadata": {},
   "outputs": [],
   "source": [
    "score_diff_list = []\n",
    "for key in red_out_dict_1.keys():\n",
    "    score_diff_list.append(max(red_out_dict_1[key])-min(red_out_dict_1[key]))"
   ]
  },
  {
   "cell_type": "code",
   "execution_count": 47,
   "metadata": {},
   "outputs": [
    {
     "data": {
      "text/plain": [
       "<matplotlib.axes._subplots.AxesSubplot at 0x215e3bdaf70>"
      ]
     },
     "execution_count": 47,
     "metadata": {},
     "output_type": "execute_result"
    },
    {
     "data": {
      "image/png": "[encoded data removed]",
      "text/plain": [
       "<Figure size 432x288 with 1 Axes>"
      ]
     },
     "metadata": {
      "needs_background": "light"
     },
     "output_type": "display_data"
    }
   ],
   "source": [
    "plt.title(\"Plot for difference between minimum and maximum scores for same candidate translations\")\n",
    "plt.xlabel(\"Score Difference\")\n",
    "plt.ylabel(\"# of Sentence Instances\")\n",
    "sns.distplot(score_diff_list,hist=True,kde=False)"
   ]
  },
  {
   "cell_type": "code",
   "execution_count": 26,
   "metadata": {},
   "outputs": [
    {
     "data": {
      "text/plain": [
       "(20.246187919463654, 13.0, 21.639940748262095)"
      ]
     },
     "execution_count": 26,
     "metadata": {},
     "output_type": "execute_result"
    }
   ],
   "source": [
    "np.mean(score_diff_list), np.median(score_diff_list), np.std(score_diff_list)"
   ]
  },
  {
   "cell_type": "code",
   "execution_count": null,
   "metadata": {},
   "outputs": [],
   "source": []
  },
  {
   "cell_type": "code",
   "execution_count": null,
   "metadata": {},
   "outputs": [],
   "source": []
  },
  {
   "cell_type": "code",
   "execution_count": null,
   "metadata": {},
   "outputs": [],
   "source": []
  },
  {
   "cell_type": "code",
   "execution_count": null,
   "metadata": {},
   "outputs": [],
   "source": []
  },
  {
   "cell_type": "code",
   "execution_count": null,
   "metadata": {},
   "outputs": [],
   "source": []
  },
  {
   "cell_type": "code",
   "execution_count": null,
   "metadata": {},
   "outputs": [],
   "source": []
  },
  {
   "cell_type": "code",
   "execution_count": null,
   "metadata": {},
   "outputs": [],
   "source": []
  }
 ],
 "metadata": {
  "kernelspec": {
   "display_name": "Python 3",
   "language": "python",
   "name": "python3"
  },
  "language_info": {
   "codemirror_mode": {
    "name": "ipython",
    "version": 3
   },
   "file_extension": ".py",
   "mimetype": "text/x-python",
   "name": "python",
   "nbconvert_exporter": "python",
   "pygments_lexer": "ipython3",
   "version": "3.8.3"
  }
 },
 "nbformat": 4,
 "nbformat_minor": 4
}
